{
 "cells": [
  {
   "cell_type": "code",
   "execution_count": 1,
   "id": "07b52997-7231-435f-991b-67d86013ac52",
   "metadata": {},
   "outputs": [],
   "source": [
    "import pandas as pd\n",
    "import numpy as np\n",
    "import matplotlib.pyplot as plt\n",
    "import seaborn as sns\n",
    "import datetime as dt\n",
    "import keras as keras\n",
    "import plotly.express as px\n",
    "from mpl_toolkits.mplot3d import Axes3D\n",
    "from matplotlib import interactive\n",
    "interactive(True)"
   ]
  },
  {
   "cell_type": "code",
   "execution_count": 2,
   "id": "69818df0-1ca3-4ccd-a0ca-d9aa1aacbddc",
   "metadata": {},
   "outputs": [],
   "source": [
    "def year_month(m,y):\n",
    "    return 100*y + m"
   ]
  },
  {
   "cell_type": "markdown",
   "id": "d45887ae-c0ff-4dd5-8849-5a08d272ec0a",
   "metadata": {},
   "source": [
    "# Basins in the Southeast/ Center-West Subsystem\n",
    "**Basin Grande**\n",
    "* M. Morales -included in 'Rio Grande'-\n",
    "* Furnas\n",
    "* A. Vermelha\n",
    "* Marimbondo"
   ]
  },
  {
   "cell_type": "code",
   "execution_count": 35,
   "id": "fa9533a8-cae9-4a17-b494-7b48755c51a9",
   "metadata": {},
   "outputs": [],
   "source": [
    "# Rio Grande\n",
    "riogrande = pd.read_csv(\"Grande/incremental_rio_grande.csv\")\n",
    "riogrande['year_month'] = year_month(riogrande['month'], riogrande['year'])\n",
    "riogrande.rename({'accumulate':'accumulate_riogrande'}, axis = 1, inplace = True)\n",
    "riogrande = riogrande[['year_month', 'accumulate_riogrande']]\n",
    "\n",
    "# Reservoir Vermelha\n",
    "vermelha = pd.read_csv(\"Grande/incremental_uhe_agua_vermelha.csv\")\n",
    "vermelha['year_month'] = year_month(vermelha['month'], vermelha['year'])\n",
    "vermelha.rename({'accumulate':'accumulate_vermelha'}, axis = 1, inplace = True)\n",
    "vermelha = vermelha[['year_month', 'accumulate_vermelha']]\n",
    "\n",
    "# Reservoir Furnas\n",
    "furnas = pd.read_csv(\"Grande/incremental_uhe_furnas.csv\")\n",
    "furnas['year_month'] = year_month(furnas['month'], furnas['year'])\n",
    "furnas.rename({'accumulate':'accumulate_furnas'}, axis = 1, inplace = True)\n",
    "furnas = furnas[['year_month', 'accumulate_furnas']]\n",
    "\n",
    "# Reservoir Marimbondo\n",
    "marimbondo = pd.read_csv(\"Grande/incremental_uhe_marimbondo.csv\")\n",
    "marimbondo['year_month'] = year_month(marimbondo['month'], marimbondo['year'])\n",
    "marimbondo.rename({'accumulate':'accumulate_marimbondo'}, axis = 1, inplace = True)\n",
    "marimbondo = marimbondo[['year_month', 'accumulate_marimbondo']]\n",
    "\n",
    "#Merge\n",
    "Grande = pd.merge(riogrande, vermelha, on = ['year_month'])\n",
    "Grande = pd.merge(Grande, furnas, on = ['year_month'])\n",
    "Grande = pd.merge(Grande, marimbondo, on = ['year_month'])\n",
    "Grande['Grande_total'] = Grande['accumulate_riogrande'] + Grande['accumulate_vermelha'] + Grande['accumulate_furnas'] + Grande['accumulate_marimbondo']\n",
    "\n",
    "Grande.head(10)\n",
    "Grande.to_csv(\"Grade_basin.csv\")"
   ]
  },
  {
   "cell_type": "markdown",
   "id": "71766dec-91f4-4904-8ce3-d261413a7c5f",
   "metadata": {},
   "source": [
    "**Paraiba do Sul**\n",
    "* Paraiba do Sul\n",
    "* Paraibuna"
   ]
  },
  {
   "cell_type": "code",
   "execution_count": 36,
   "id": "84f8a7b6-037d-4754-a67e-9578102cece8",
   "metadata": {},
   "outputs": [],
   "source": [
    "#Paraiba do sul\n",
    "rioparaiba = pd.read_csv(\"Paraiba_do_sul/incremental_rio_paraiba_do_sul.csv\")\n",
    "rioparaiba['year_month'] = year_month(rioparaiba['month'], rioparaiba['year'])\n",
    "rioparaiba.rename({'accumulate':'accumulate_rioparaiba'}, axis = 1, inplace = True)\n",
    "rioparaiba = rioparaiba[['year_month', 'accumulate_rioparaiba']]\n",
    "\n",
    "#Reservoir Paraibuna\n",
    "paraibuna = pd.read_csv(\"Paraiba_do_sul/uhe_paraibuna.csv\")\n",
    "paraibuna['year_month'] = year_month(paraibuna['month'], paraibuna['year'])\n",
    "paraibuna.rename({'accumulate':'accumulate_paraibuna'}, axis = 1, inplace = True)\n",
    "paraibuna = paraibuna[['year_month', 'accumulate_paraibuna']]\n",
    "\n",
    "#Merge\n",
    "Paraiba_do_sul = pd.merge(rioparaiba, paraibuna, on = ['year_month'])\n",
    "Paraiba_do_sul['Paraiba_do_sul_total'] = Paraiba_do_sul['accumulate_rioparaiba'] + Paraiba_do_sul['accumulate_paraibuna']\n",
    "\n",
    "Paraiba_do_sul.head(10)\n",
    "Paraiba_do_sul.to_csv(\"Paraiba_do_sul_basin.csv\")"
   ]
  },
  {
   "cell_type": "markdown",
   "id": "eeff8bc8-4e0a-4b30-b65a-2f09be3bca9a",
   "metadata": {},
   "source": [
    "**Parana**\n",
    "* Solteira"
   ]
  },
  {
   "cell_type": "code",
   "execution_count": 37,
   "id": "50ac0502-4160-4f82-80e4-17702280bdae",
   "metadata": {},
   "outputs": [],
   "source": [
    "#Reservoir Solteira\n",
    "Parana = pd.read_csv(\"Parana/incremental_ilha_solteira.csv\")\n",
    "Parana['year_month'] = year_month(Parana['month'], Parana['year'])\n",
    "Parana.rename({'accumulate':'Parana_total'}, axis = 1, inplace = True)\n",
    "Parana = Parana[['year_month', 'year', 'month', 'Parana_total']]\n",
    "\n",
    "Parana.head(10)\n",
    "Parana.to_csv(\"Parana_basin.csv\")"
   ]
  },
  {
   "cell_type": "markdown",
   "id": "ea214d52-b889-49ac-ac8e-66371b607ad9",
   "metadata": {},
   "source": [
    "**Paranaiba**\n",
    "* Batalha -included in River Paranaiba \n",
    "* Serra do Facao -included in River Paranaiba\n",
    "* Sao Simao\n",
    "* Emborcacao\n",
    "* Nova Ponte -included in River Paranaiba\n",
    "* Itumbiara"
   ]
  },
  {
   "cell_type": "code",
   "execution_count": 38,
   "id": "6f4652a0-b9dd-4078-83d8-93645b45dd1a",
   "metadata": {},
   "outputs": [],
   "source": [
    "#River parainaba: basin\n",
    "basinp = pd.read_csv(\"Paranaiba/incremental_bacia_do_rio_paranaiba.csv\")\n",
    "basinp['year_month'] = year_month(basinp['month'], basinp['year'])\n",
    "basinp.rename({'accumulate':'accumulate_basinp'}, axis = 1, inplace = True)\n",
    "basinp = basinp[['year_month', 'accumulate_basinp']]\n",
    "\n",
    "#River Parnaiba\n",
    "riop = pd.read_csv(\"Paranaiba/incremental_rio_parnaiba.csv\")\n",
    "riop['year_month'] = year_month(riop['month'], riop['year'])\n",
    "riop.rename({'accumulate':'accumulate_riop'}, axis = 1, inplace = True)\n",
    "riop = riop[['year_month', 'accumulate_riop']]\n",
    "\n",
    "# Reservoir Sao Simao\n",
    "simao = pd.read_csv(\"Paranaiba/incremental_uhe_sao_simao.csv\")\n",
    "simao['year_month'] = year_month(simao['month'], simao['year'])\n",
    "simao.rename({'accumulate':'accumulate_simao'}, axis = 1, inplace = True)\n",
    "simao = simao[['year_month', 'accumulate_simao']]\n",
    "\n",
    "# Reservoir Emborcacao\n",
    "emborcacao = pd.read_csv(\"Paranaiba/uhe_emborcacao.csv\")\n",
    "emborcacao['year_month'] = year_month(emborcacao['month'], emborcacao['year'])\n",
    "emborcacao.rename({'accumulate':'accumulate_emborcacao'}, axis = 1, inplace = True)\n",
    "emborcacao = emborcacao[['year_month', 'accumulate_emborcacao']]\n",
    "\n",
    "# Reservoir Itumbiara\n",
    "itumbiara = pd.read_csv(\"Paranaiba/uhe_itumbiara.csv\")\n",
    "itumbiara['year_month'] = year_month(itumbiara['month'], itumbiara['year'])\n",
    "itumbiara.rename({'accumulate':'accumulate_itumbiara'}, axis = 1, inplace = True)\n",
    "itumbiara = itumbiara[['year_month', 'accumulate_itumbiara']]\n",
    "\n",
    "#Merge\n",
    "Paranaiba = pd.merge(basinp, riop, on = ['year_month'])\n",
    "Paranaiba = pd.merge(Paranaiba, simao, on = ['year_month'])\n",
    "Paranaiba = pd.merge(Paranaiba, emborcacao, on = ['year_month'])\n",
    "Paranaiba = pd.merge(Paranaiba, itumbiara, on = ['year_month'])\n",
    "Paranaiba['Paranaiba_total'] = Paranaiba['accumulate_basinp'] + Paranaiba['accumulate_riop'] + Paranaiba['accumulate_simao'] + Paranaiba['accumulate_emborcacao'] + Paranaiba['accumulate_itumbiara']\n",
    "\n",
    "Paranaiba.head(10)\n",
    "Paranaiba.to_csv(\"Paranaiba_basin.csv\")"
   ]
  },
  {
   "cell_type": "markdown",
   "id": "70212e3f-9176-495d-9d41-8e748538ddd3",
   "metadata": {},
   "source": [
    "**Paranapanema**\n",
    "* Capivara \n",
    "* Jurumirim \n",
    "* Chavantes"
   ]
  },
  {
   "cell_type": "code",
   "execution_count": 39,
   "id": "98ecce1e-76fc-4abb-8a58-f9cd60644562",
   "metadata": {},
   "outputs": [],
   "source": [
    "# Rio Paranapanema : Basin\n",
    "paranapanema = pd.read_csv(\"Paranapanema/incremental_bacia_do_rio_paranapanema.csv\")\n",
    "paranapanema['year_month'] = year_month(paranapanema['month'], paranapanema['year'])\n",
    "paranapanema.rename({'accumulate':'accumulate_paranapanema'}, axis = 1, inplace = True)\n",
    "paranapanema = paranapanema[['year_month', 'accumulate_paranapanema']]\n",
    "\n",
    "# Reservoir Capivara\n",
    "capivara = pd.read_csv(\"Paranapanema/incremental_uhe_capivara.csv\")\n",
    "capivara['year_month'] = year_month(capivara['month'], capivara['year'])\n",
    "capivara.rename({'accumulate':'accumulate_capivara'}, axis = 1, inplace = True)\n",
    "capivara = capivara[['year_month', 'accumulate_capivara']]\n",
    "\n",
    "# Reservoir Chavantes\n",
    "chavantes = pd.read_csv(\"Paranapanema/incremental_uhe_chavantes.csv\")\n",
    "chavantes['year_month'] = year_month(chavantes['month'], chavantes['year'])\n",
    "chavantes.rename({'accumulate':'accumulate_chavantes'}, axis = 1, inplace = True)\n",
    "chavantes = chavantes[['year_month', 'accumulate_chavantes']]\n",
    "\n",
    "# Basin Jurumirim\n",
    "jurumirim = pd.read_csv(\"Paranapanema/uhe_jurumirim.csv\")\n",
    "jurumirim['year_month'] = year_month(jurumirim['month'], jurumirim['year'])\n",
    "jurumirim.rename({'accumulate':'accumulate_jurumirim'}, axis = 1, inplace = True)\n",
    "jurumirim = jurumirim[['year_month', 'accumulate_jurumirim']]\n",
    "\n",
    "#Merge\n",
    "Paranapanema = pd.merge(paranapanema, capivara, on = ['year_month'])\n",
    "Paranapanema = pd.merge(Paranapanema, chavantes, on = ['year_month'])\n",
    "Paranapanema = pd.merge(Paranapanema, jurumirim, on = ['year_month'])\n",
    "Paranapanema['Paranapanema_total'] = Paranapanema['accumulate_paranapanema'] + Paranapanema['accumulate_capivara'] + Paranapanema['accumulate_chavantes'] + Paranapanema['accumulate_jurumirim']\n",
    "\n",
    "Paranapanema.head(10)\n",
    "Paranapanema.to_csv(\"Paranapanema_basin.csv\")"
   ]
  },
  {
   "cell_type": "markdown",
   "id": "4daeb057-6511-495c-8ffd-e1f58102e071",
   "metadata": {},
   "source": [
    "**Sao Francisco**\n",
    "* Tres Marias"
   ]
  },
  {
   "cell_type": "code",
   "execution_count": 40,
   "id": "397be90d-1b0d-4bab-9fb8-83545db43c4f",
   "metadata": {},
   "outputs": [],
   "source": [
    "#Sao Francisco River\n",
    "riopaco = pd.read_csv(\"Sao_Francisco/incremental_foz_do_rio_sao_francisco.csv\")\n",
    "riopaco['year_month'] = year_month(riopaco['month'], riopaco['year'])\n",
    "riopaco.rename({'accumulate':'accumulate_riopaco'}, axis = 1, inplace = True)\n",
    "riopaco = riopaco[['year_month', 'accumulate_riopaco']]\n",
    "\n",
    "#Reservoir Tres Marias\n",
    "marias = pd.read_csv(\"Sao_Francisco/uhe_tres_marias.csv\")\n",
    "marias['year_month'] = year_month(marias['month'], marias['year'])\n",
    "marias.rename({'accumulate':'accumulate_marias'}, axis = 1, inplace = True)\n",
    "marias = marias[['year_month', 'accumulate_marias']]\n",
    "\n",
    "#Merge\n",
    "SaoFrancisco = pd.merge(riopaco, marias, on = ['year_month'])\n",
    "SaoFrancisco['SaoFrancisco_total'] = SaoFrancisco['accumulate_riopaco'] + SaoFrancisco['accumulate_marias']\n",
    "\n",
    "SaoFrancisco.head(10)\n",
    "SaoFrancisco.to_csv(\"Sao_Francisco_basin.csv\")"
   ]
  },
  {
   "cell_type": "markdown",
   "id": "13e7959d-097f-4c4e-950c-8459db19a24a",
   "metadata": {},
   "source": [
    "**Tiete**\n",
    "* Billings -included in River Tiete\n",
    "* B. Bonita -included in River Tiete\n",
    "* Tres Irmaos"
   ]
  },
  {
   "cell_type": "code",
   "execution_count": 41,
   "id": "06bb60d5-5bf4-4805-aec8-1b68b060a8b2",
   "metadata": {},
   "outputs": [],
   "source": [
    "#Tiete River\n",
    "riotiete = pd.read_csv(\"Tiete/incremental_bacia_do_rio_tiete.csv\")\n",
    "riotiete['year_month'] = year_month(riotiete['month'], riotiete['year'])\n",
    "riotiete.rename({'accumulate':'accumulate_riotiete'}, axis = 1, inplace = True)\n",
    "riotiete = riotiete[['year_month', 'accumulate_riotiete']]\n",
    "\n",
    "#Reservoir Tres Irmaos\n",
    "irmaos = pd.read_csv(\"Tiete/uhe_tres_irmaos.csv\")\n",
    "irmaos['year_month'] = year_month(irmaos['month'], irmaos['year'])\n",
    "irmaos.rename({'accumulate':'accumulate_irmaos'}, axis = 1, inplace = True)\n",
    "irmaos = irmaos[['year_month', 'accumulate_irmaos']]\n",
    "\n",
    "#Merge\n",
    "Tiete = pd.merge(riotiete, irmaos, on = ['year_month'])\n",
    "Tiete['Tiete_total'] = Tiete['accumulate_riotiete'] + Tiete['accumulate_irmaos']\n",
    "\n",
    "Tiete.head(10)\n",
    "#Tiete.to_csv(\"Tiete_basin.csv\")"
   ]
  },
  {
   "cell_type": "markdown",
   "id": "45b2a225-9810-43a2-a80b-a05a5a6bcf95",
   "metadata": {},
   "source": [
    "**Tocantis**\n",
    "* Serra da Mesa"
   ]
  },
  {
   "cell_type": "code",
   "execution_count": 42,
   "id": "542840b6-1f12-4931-826f-d099056b8c30",
   "metadata": {},
   "outputs": [],
   "source": [
    "#Tocantis River\n",
    "riotocantins = pd.read_csv(\"Tocantins/incremental_rio_tocantins.csv\")\n",
    "riotocantins['year_month'] = year_month(riotocantins['month'], riotocantins['year'])\n",
    "riotocantins.rename({'accumulate':'accumulate_riotocantins'}, axis = 1, inplace = True)\n",
    "riotocantins = riotocantins[['year_month', 'accumulate_riotocantins']]\n",
    "\n",
    "#Reservoir Serra da Mesa\n",
    "serra = pd.read_csv(\"Tocantins/uhe_serra_da_mesa.csv\")\n",
    "serra['year_month'] = year_month(serra['month'], serra['year'])\n",
    "serra.rename({'accumulate':'accumulate_serra'}, axis = 1, inplace = True)\n",
    "serra = serra[['year_month', 'accumulate_serra']]\n",
    "\n",
    "#Merge\n",
    "Tocantins = pd.merge(riotocantins, serra, on = ['year_month'])\n",
    "Tocantins['Tocantins_total'] = Tocantins['accumulate_riotocantins'] + Tocantins['accumulate_serra']\n",
    "\n",
    "Tocantins.head(10)\n",
    "#Tocantins.to_csv(\"Tocantins_basin.csv\")"
   ]
  },
  {
   "cell_type": "code",
   "execution_count": 43,
   "id": "1ffad326-a36e-400c-a97a-483a8d04a844",
   "metadata": {},
   "outputs": [],
   "source": [
    "#Final Merge\n",
    "\n",
    "Subsystem_bacins = pd.merge(Grande, Paraiba_do_sul, on = ['year_month'])\n",
    "Subsystem_bacins = pd.merge(Subsystem_bacins, Parana, on = ['year_month'])\n",
    "Subsystem_bacins = pd.merge(Subsystem_bacins, Paranaiba, on = ['year_month'])\n",
    "Subsystem_bacins = pd.merge(Subsystem_bacins, Paranapanema, on = ['year_month'])\n",
    "Subsystem_bacins = pd.merge(Subsystem_bacins, SaoFrancisco, on = ['year_month'])\n",
    "Subsystem_bacins = pd.merge(Subsystem_bacins, Tiete, on = ['year_month'])\n",
    "Subsystem_bacins = pd.merge(Subsystem_bacins, Tocantins, on = ['year_month'])\n",
    "\n",
    "\n",
    "Subsystem_bacins = Subsystem_bacins[['year_month', 'year', 'month', 'Grande_total', 'Paraiba_do_sul_total', 'Parana_total', 'Paranaiba_total', 'Paranapanema_total', 'SaoFrancisco_total', \"Tiete_total\", \"Tocantins_total\"]]\n",
    "\n",
    "\n",
    "Subsystem_bacins.head(10)\n",
    "#Subsystem_bacins.to_csv(\"Subsystem_basin.csv\")\n"
   ]
  },
  {
   "cell_type": "code",
   "execution_count": null,
   "id": "57a3bc52-7f95-42bb-bbd9-cba4b6026aff",
   "metadata": {},
   "outputs": [],
   "source": []
  }
 ],
 "metadata": {
  "kernelspec": {
   "display_name": "Python 3",
   "language": "python",
   "name": "python3"
  },
  "language_info": {
   "codemirror_mode": {
    "name": "ipython",
    "version": 3
   },
   "file_extension": ".py",
   "mimetype": "text/x-python",
   "name": "python",
   "nbconvert_exporter": "python",
   "pygments_lexer": "ipython3",
   "version": "3.8.8"
  }
 },
 "nbformat": 4,
 "nbformat_minor": 5
}
