{
 "cells": [
  {
   "cell_type": "markdown",
   "metadata": {},
   "source": [
    "This notebook contains code for running basic time series analysis on the energy generated data, this time on a monthly scale"
   ]
  },
  {
   "cell_type": "code",
   "execution_count": 1,
   "metadata": {},
   "outputs": [],
   "source": [
    "import numpy as np\n",
    "import pandas as pd\n",
    "import matplotlib.pyplot as plt \n",
    "from matplotlib.dates import (YEARLY, DateFormatter,\n",
    "                              rrulewrapper, RRuleLocator, drange)\n",
    "import datetime   # package that helps manipulate dates\n",
    "\n",
    "#for decomposition:\n",
    "from statsmodels.tsa.seasonal import seasonal_decompose\n",
    "\n",
    "# for simple exponential smoothing\n",
    "#from statsmodels.tsa.api import ExponentialSmoothing, SimpleExpSmoothing, Holt\n",
    "\n",
    "# used for autocorrelation\n",
    "import statsmodels.api as sm\n",
    "\n",
    "# measuring MAE and RMSE\n",
    "from sklearn.metrics import mean_absolute_error\n",
    "from sklearn.metrics import mean_squared_error"
   ]
  },
  {
   "cell_type": "code",
   "execution_count": 2,
   "metadata": {},
   "outputs": [],
   "source": [
    "# increase figure size\n",
    "plt.rcParams['figure.figsize'] = [12, 8]"
   ]
  },
  {
   "cell_type": "code",
   "execution_count": 5,
   "metadata": {},
   "outputs": [],
   "source": [
    "#Importing data and cleaning to make a nice df with 2 columns\n",
    "\n",
    "# import data (file and path are not from github, just downloaded because git stuff wasn't completed yet)\n",
    "df = pd.read_csv(\"./nrg_gen_full_daily.csv\")\n",
    "\n",
    "#renaming the columns we want to actually keep \n",
    "df.rename(columns={\n",
    "        'Data Dica': 'date', \n",
    "        'Selecione Tipo de GE Simp 4': 'energy_generated'\n",
    "    }, inplace=True)\n",
    "\n",
    "#Creating list of all columns we want to delete (gotten in separate cell using df.columns)\n",
    "badcols = ['Data Escala de Tempo 1 GE Simp 4',\n",
    "       'cod_aneel (tb_referenciacegusina (Usina))',\n",
    "       'cod_nucleoaneel (tb_referenciacegusina (Usina))',\n",
    "       'dsc_estado', 'id_subsistema', 'nom_tipousinasite', 'nom_usina2',\n",
    "       'Período Exibido GE']\n",
    "#actually deleting those unnecessary columns\n",
    "for col in badcols:\n",
    "    del df[col]\n",
    "    \n",
    "# turn \"date\" into a quantifiable object\n",
    "df[\"date\"] = pd.to_datetime(df[\"date\"],format = '%d/%m/%Y')  "
   ]
  },
  {
   "cell_type": "code",
   "execution_count": 6,
   "metadata": {},
   "outputs": [
    {
     "data": {
      "text/html": [
       "<div>\n",
       "<style scoped>\n",
       "    .dataframe tbody tr th:only-of-type {\n",
       "        vertical-align: middle;\n",
       "    }\n",
       "\n",
       "    .dataframe tbody tr th {\n",
       "        vertical-align: top;\n",
       "    }\n",
       "\n",
       "    .dataframe thead th {\n",
       "        text-align: right;\n",
       "    }\n",
       "</style>\n",
       "<table border=\"1\" class=\"dataframe\">\n",
       "  <thead>\n",
       "    <tr style=\"text-align: right;\">\n",
       "      <th></th>\n",
       "      <th>date</th>\n",
       "      <th>energy_generated</th>\n",
       "    </tr>\n",
       "  </thead>\n",
       "  <tbody>\n",
       "    <tr>\n",
       "      <th>0</th>\n",
       "      <td>1999-01-01</td>\n",
       "      <td>2.7324</td>\n",
       "    </tr>\n",
       "    <tr>\n",
       "      <th>1</th>\n",
       "      <td>1999-01-02</td>\n",
       "      <td>2.7371</td>\n",
       "    </tr>\n",
       "    <tr>\n",
       "      <th>2</th>\n",
       "      <td>1999-01-03</td>\n",
       "      <td>2.5538</td>\n",
       "    </tr>\n",
       "    <tr>\n",
       "      <th>3</th>\n",
       "      <td>1999-01-04</td>\n",
       "      <td>2.6530</td>\n",
       "    </tr>\n",
       "    <tr>\n",
       "      <th>4</th>\n",
       "      <td>1999-01-05</td>\n",
       "      <td>2.5833</td>\n",
       "    </tr>\n",
       "  </tbody>\n",
       "</table>\n",
       "</div>"
      ],
      "text/plain": [
       "        date  energy_generated\n",
       "0 1999-01-01            2.7324\n",
       "1 1999-01-02            2.7371\n",
       "2 1999-01-03            2.5538\n",
       "3 1999-01-04            2.6530\n",
       "4 1999-01-05            2.5833"
      ]
     },
     "execution_count": 6,
     "metadata": {},
     "output_type": "execute_result"
    }
   ],
   "source": [
    "df.head()"
   ]
  },
  {
   "cell_type": "code",
   "execution_count": null,
   "metadata": {},
   "outputs": [],
   "source": []
  }
 ],
 "metadata": {
  "kernelspec": {
   "display_name": "Python 3",
   "language": "python",
   "name": "python3"
  },
  "language_info": {
   "codemirror_mode": {
    "name": "ipython",
    "version": 3
   },
   "file_extension": ".py",
   "mimetype": "text/x-python",
   "name": "python",
   "nbconvert_exporter": "python",
   "pygments_lexer": "ipython3",
   "version": "3.7.6"
  }
 },
 "nbformat": 4,
 "nbformat_minor": 4
}
