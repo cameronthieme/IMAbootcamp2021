{
 "cells": [
  {
   "cell_type": "markdown",
   "metadata": {},
   "source": [
    "Everything here is a minor tweak from the lecture on decision trees. Primary motivation is to forecast energy generated using other lagged variables."
   ]
  },
  {
   "cell_type": "markdown",
   "metadata": {},
   "source": [
    "# Ensemble Learning\n",
    "- problem: trees tend to overfit data (i.e., high variance predictors albeit with low bias)\n",
    " - Can correct for high variance by using shallow trees (depth 3 to 5).    - But this lacks accuracy, so we should use many different trees and aggregate the results.\n",
    "   - Bagging (bootstrap aggregation) on the data\n",
    "     - sample from traning data with replacement\n",
    "     - combine the data by taking the average (regression) or by voting (class)\n",
    "     - these can be deep trees\n",
    "     - potential problem: every tree has the same top node.\n",
    "     - solution: restrict each tree to a random subset of the predictors. This is called a **random forest**.\n",
    "   - Boosting: make a tree then fit a tree to the residuals and repeat\n",
    "       - reduces bias\n",
    "- how many trees? how deep? how many predictors? All soft questions called **hyperparameters**.\n",
    "- loss function\n",
    "- pruning: taking out nodes and refitting?"
   ]
  },
  {
   "cell_type": "code",
   "execution_count": 1,
   "metadata": {},
   "outputs": [],
   "source": [
    "import pandas as pd\n",
    "import numpy as np\n",
    "import matplotlib as mpl\n",
    "import matplotlib.pyplot as plt\n",
    "import graphviz # might need to install -- need *both* python and system\n",
    "# so use Anaconda (or pip) to install graphviz, and also https://graphviz.org/download/\n",
    "# this was a non-trivial install on Mac (depends on Xcode command-line tools)\n",
    "# `pip install graphviz` and `brew install graphviz`\n",
    "import datetime as dt\n",
    "\n",
    "%matplotlib inline"
   ]
  },
  {
   "cell_type": "markdown",
   "metadata": {},
   "source": [
    "# 8.3.1 Fitting Classification Trees\n",
    "\n",
    "The `sklearn` library has a lot of useful tools for constructing classification and regression trees:"
   ]
  },
  {
   "cell_type": "code",
   "execution_count": 36,
   "metadata": {},
   "outputs": [],
   "source": [
    "from sklearn.model_selection import train_test_split\n",
    "from sklearn.tree import DecisionTreeRegressor, DecisionTreeClassifier, export_graphviz\n",
    "from sklearn.ensemble import RandomForestRegressor, GradientBoostingRegressor\n",
    "from sklearn.metrics import confusion_matrix, mean_squared_error, mean_absolute_error"
   ]
  },
  {
   "cell_type": "markdown",
   "metadata": {},
   "source": [
    "Train/test model on data up to 2017. Will test model on 2018/2019 later.\n",
    "\n",
    "# TO DO: Import weather data\n",
    "# TO DO: Break up data into 5-year chunks\n",
    "\n",
    "**what's a reasonable average**"
   ]
  },
  {
   "cell_type": "code",
   "execution_count": 192,
   "metadata": {},
   "outputs": [
    {
     "data": {
      "text/plain": [
       "(7303, 10)"
      ]
     },
     "execution_count": 192,
     "metadata": {},
     "output_type": "execute_result"
    }
   ],
   "source": [
    "df = pd.read_csv(\"../../Data/1999_2021/aggragate_daily_data_2000to2020.csv\", index_col = \"date\")\n",
    "df.shape"
   ]
  },
  {
   "cell_type": "code",
   "execution_count": 193,
   "metadata": {
    "scrolled": true
   },
   "outputs": [],
   "source": [
    "df = df.drop(labels = \"Unnamed: 0\", axis = 1)\n",
    "df_2017 = df.loc['2000-01-01':'2018-12-31'].copy()"
   ]
  },
  {
   "cell_type": "markdown",
   "metadata": {},
   "source": [
    "Adding 7 day, 14 day, 30 day, 90 day lags to all variables except energy_generated."
   ]
  },
  {
   "cell_type": "code",
   "execution_count": 194,
   "metadata": {},
   "outputs": [
    {
     "data": {
      "text/plain": [
       "(6908, 36)"
      ]
     },
     "execution_count": 194,
     "metadata": {},
     "output_type": "execute_result"
    }
   ],
   "source": [
    "df_2017_lagged = df_2017.copy()\n",
    "\n",
    "for i in [7,14,30]:    #this is so UGLY I wish I knew how to code :(\n",
    "    df_2017_lagged[['energy_charge_' + str(i)]] = df_2017_lagged.energy_charge.shift(i).to_frame()\n",
    "    df_2017_lagged[['influent_flow_' + str(i)]] = df_2017_lagged.influent_flow.shift(i).to_frame()\n",
    "    df_2017_lagged[['volume_used_' + str(i)]] = df_2017_lagged.volume_used.shift(i).to_frame()\n",
    "    df_2017_lagged[['poured_flow_' + str(i)]] = df_2017_lagged.poured_flow.shift(i).to_frame()\n",
    "    df_2017_lagged[['water_level_' + str(i)]] = df_2017_lagged.water_level.shift(i).to_frame()\n",
    "    df_2017_lagged[['energy_stored_' + str(i)]] = df_2017_lagged.energy_stored.shift(i).to_frame()\n",
    "    df_2017_lagged[['maximum_demand_' + str(i)]] = df_2017_lagged.maximum_demand.shift(i).to_frame()\n",
    "    df_2017_lagged[['energy_generated_' + str(i)]] = df_2017_lagged.energy_generated.shift(i).to_frame()\n",
    "#    df_2017_lagged[['turbine_flow']] = df_2017_lagged.effluent_flow - df_2017_lagged.poured_flow.to_frame()\n",
    "#    df_2017_lagged[['turbine_flow_' + str(i)]] = df_2017_lagged.turbine_flow.shift(i).to_frame()\n",
    "    df_2017_lagged[['effluent_flow_' + str(i)]] = df_2017_lagged.effluent_flow.shift(i).to_frame()\n",
    "    \n",
    "df_2017_lagged = df_2017_lagged.dropna()\n",
    "df_2017_lagged.shape"
   ]
  },
  {
   "cell_type": "markdown",
   "metadata": {},
   "source": [
    "# Regression Tree"
   ]
  },
  {
   "cell_type": "code",
   "execution_count": 200,
   "metadata": {},
   "outputs": [
    {
     "data": {
      "text/plain": [
       "(180,)"
      ]
     },
     "execution_count": 200,
     "metadata": {},
     "output_type": "execute_result"
    }
   ],
   "source": [
    "X = df_2017_lagged.drop(['energy_generated','effluent_flow','influent_flow'], axis = 1)\n",
    "y = df_2017_lagged.energy_generated\n",
    "X_train, X_test, y_train, y_test = train_test_split(X, y, train_size = (6908-180)/6908, random_state = 0)\n",
    "\n",
    "# Pruning not supported. Choosing max depth 2)\n",
    "regr_tree_daily = DecisionTreeRegressor(max_depth = 2)\n",
    "regr_tree_daily.fit(X_train, y_train)\n",
    "y_test.shape"
   ]
  },
  {
   "cell_type": "code",
   "execution_count": 201,
   "metadata": {},
   "outputs": [
    {
     "data": {
      "image/svg+xml": [
       "<?xml version=\"1.0\" encoding=\"UTF-8\" standalone=\"no\"?>\n",
       "<!DOCTYPE svg PUBLIC \"-//W3C//DTD SVG 1.1//EN\"\n",
       " \"http://www.w3.org/Graphics/SVG/1.1/DTD/svg11.dtd\">\n",
       "<!-- Generated by graphviz version 2.47.3 (20210619.1520)\n",
       " -->\n",
       "<!-- Title: Tree Pages: 1 -->\n",
       "<svg width=\"502pt\" height=\"269pt\"\n",
       " viewBox=\"0.00 0.00 501.50 269.00\" xmlns=\"http://www.w3.org/2000/svg\" xmlns:xlink=\"http://www.w3.org/1999/xlink\">\n",
       "<g id=\"graph0\" class=\"graph\" transform=\"scale(1 1) rotate(0) translate(4 265)\">\n",
       "<title>Tree</title>\n",
       "<polygon fill=\"white\" stroke=\"transparent\" points=\"-4,4 -4,-265 497.5,-265 497.5,4 -4,4\"/>\n",
       "<!-- 0 -->\n",
       "<g id=\"node1\" class=\"node\">\n",
       "<title>0</title>\n",
       "<polygon fill=\"none\" stroke=\"black\" points=\"343,-261 159,-261 159,-193 343,-193 343,-261\"/>\n",
       "<text text-anchor=\"middle\" x=\"251\" y=\"-245.8\" font-family=\"Times,serif\" font-size=\"14.00\">energy_generated_7 &lt;= 1.811</text>\n",
       "<text text-anchor=\"middle\" x=\"251\" y=\"-230.8\" font-family=\"Times,serif\" font-size=\"14.00\">mse = 0.428</text>\n",
       "<text text-anchor=\"middle\" x=\"251\" y=\"-215.8\" font-family=\"Times,serif\" font-size=\"14.00\">samples = 6728</text>\n",
       "<text text-anchor=\"middle\" x=\"251\" y=\"-200.8\" font-family=\"Times,serif\" font-size=\"14.00\">value = 1.5</text>\n",
       "</g>\n",
       "<!-- 1 -->\n",
       "<g id=\"node2\" class=\"node\">\n",
       "<title>1</title>\n",
       "<polygon fill=\"none\" stroke=\"black\" points=\"247,-157 63,-157 63,-89 247,-89 247,-157\"/>\n",
       "<text text-anchor=\"middle\" x=\"155\" y=\"-141.8\" font-family=\"Times,serif\" font-size=\"14.00\">energy_generated_7 &lt;= 1.265</text>\n",
       "<text text-anchor=\"middle\" x=\"155\" y=\"-126.8\" font-family=\"Times,serif\" font-size=\"14.00\">mse = 0.273</text>\n",
       "<text text-anchor=\"middle\" x=\"155\" y=\"-111.8\" font-family=\"Times,serif\" font-size=\"14.00\">samples = 4859</text>\n",
       "<text text-anchor=\"middle\" x=\"155\" y=\"-96.8\" font-family=\"Times,serif\" font-size=\"14.00\">value = 1.267</text>\n",
       "</g>\n",
       "<!-- 0&#45;&gt;1 -->\n",
       "<g id=\"edge1\" class=\"edge\">\n",
       "<title>0&#45;&gt;1</title>\n",
       "<path fill=\"none\" stroke=\"black\" d=\"M219.83,-192.88C211.36,-183.89 202.1,-174.04 193.29,-164.68\"/>\n",
       "<polygon fill=\"black\" stroke=\"black\" points=\"195.74,-162.18 186.34,-157.3 190.65,-166.98 195.74,-162.18\"/>\n",
       "<text text-anchor=\"middle\" x=\"185.58\" y=\"-178.59\" font-family=\"Times,serif\" font-size=\"14.00\">True</text>\n",
       "</g>\n",
       "<!-- 4 -->\n",
       "<g id=\"node5\" class=\"node\">\n",
       "<title>4</title>\n",
       "<polygon fill=\"none\" stroke=\"black\" points=\"431,-157 265,-157 265,-89 431,-89 431,-157\"/>\n",
       "<text text-anchor=\"middle\" x=\"348\" y=\"-141.8\" font-family=\"Times,serif\" font-size=\"14.00\">influent_flow_7 &lt;= 572.07</text>\n",
       "<text text-anchor=\"middle\" x=\"348\" y=\"-126.8\" font-family=\"Times,serif\" font-size=\"14.00\">mse = 0.323</text>\n",
       "<text text-anchor=\"middle\" x=\"348\" y=\"-111.8\" font-family=\"Times,serif\" font-size=\"14.00\">samples = 1869</text>\n",
       "<text text-anchor=\"middle\" x=\"348\" y=\"-96.8\" font-family=\"Times,serif\" font-size=\"14.00\">value = 2.105</text>\n",
       "</g>\n",
       "<!-- 0&#45;&gt;4 -->\n",
       "<g id=\"edge4\" class=\"edge\">\n",
       "<title>0&#45;&gt;4</title>\n",
       "<path fill=\"none\" stroke=\"black\" d=\"M282.49,-192.88C291.05,-183.89 300.41,-174.04 309.32,-164.68\"/>\n",
       "<polygon fill=\"black\" stroke=\"black\" points=\"311.98,-166.96 316.33,-157.3 306.91,-162.13 311.98,-166.96\"/>\n",
       "<text text-anchor=\"middle\" x=\"316.96\" y=\"-178.59\" font-family=\"Times,serif\" font-size=\"14.00\">False</text>\n",
       "</g>\n",
       "<!-- 2 -->\n",
       "<g id=\"node3\" class=\"node\">\n",
       "<title>2</title>\n",
       "<polygon fill=\"none\" stroke=\"black\" points=\"104,-53 0,-53 0,0 104,0 104,-53\"/>\n",
       "<text text-anchor=\"middle\" x=\"52\" y=\"-37.8\" font-family=\"Times,serif\" font-size=\"14.00\">mse = 0.224</text>\n",
       "<text text-anchor=\"middle\" x=\"52\" y=\"-22.8\" font-family=\"Times,serif\" font-size=\"14.00\">samples = 2869</text>\n",
       "<text text-anchor=\"middle\" x=\"52\" y=\"-7.8\" font-family=\"Times,serif\" font-size=\"14.00\">value = 1.1</text>\n",
       "</g>\n",
       "<!-- 1&#45;&gt;2 -->\n",
       "<g id=\"edge2\" class=\"edge\">\n",
       "<title>1&#45;&gt;2</title>\n",
       "<path fill=\"none\" stroke=\"black\" d=\"M118.98,-88.95C108.81,-79.62 97.75,-69.47 87.6,-60.16\"/>\n",
       "<polygon fill=\"black\" stroke=\"black\" points=\"89.79,-57.42 80.05,-53.24 85.05,-62.58 89.79,-57.42\"/>\n",
       "</g>\n",
       "<!-- 3 -->\n",
       "<g id=\"node4\" class=\"node\">\n",
       "<title>3</title>\n",
       "<polygon fill=\"none\" stroke=\"black\" points=\"226,-53 122,-53 122,0 226,0 226,-53\"/>\n",
       "<text text-anchor=\"middle\" x=\"174\" y=\"-37.8\" font-family=\"Times,serif\" font-size=\"14.00\">mse = 0.245</text>\n",
       "<text text-anchor=\"middle\" x=\"174\" y=\"-22.8\" font-family=\"Times,serif\" font-size=\"14.00\">samples = 1990</text>\n",
       "<text text-anchor=\"middle\" x=\"174\" y=\"-7.8\" font-family=\"Times,serif\" font-size=\"14.00\">value = 1.507</text>\n",
       "</g>\n",
       "<!-- 1&#45;&gt;3 -->\n",
       "<g id=\"edge3\" class=\"edge\">\n",
       "<title>1&#45;&gt;3</title>\n",
       "<path fill=\"none\" stroke=\"black\" d=\"M161.65,-88.95C163.32,-80.62 165.12,-71.65 166.82,-63.2\"/>\n",
       "<polygon fill=\"black\" stroke=\"black\" points=\"170.29,-63.73 168.83,-53.24 163.42,-62.35 170.29,-63.73\"/>\n",
       "</g>\n",
       "<!-- 5 -->\n",
       "<g id=\"node6\" class=\"node\">\n",
       "<title>5</title>\n",
       "<polygon fill=\"none\" stroke=\"black\" points=\"378.5,-53 281.5,-53 281.5,0 378.5,0 378.5,-53\"/>\n",
       "<text text-anchor=\"middle\" x=\"330\" y=\"-37.8\" font-family=\"Times,serif\" font-size=\"14.00\">mse = 0.275</text>\n",
       "<text text-anchor=\"middle\" x=\"330\" y=\"-22.8\" font-family=\"Times,serif\" font-size=\"14.00\">samples = 997</text>\n",
       "<text text-anchor=\"middle\" x=\"330\" y=\"-7.8\" font-family=\"Times,serif\" font-size=\"14.00\">value = 1.889</text>\n",
       "</g>\n",
       "<!-- 4&#45;&gt;5 -->\n",
       "<g id=\"edge5\" class=\"edge\">\n",
       "<title>4&#45;&gt;5</title>\n",
       "<path fill=\"none\" stroke=\"black\" d=\"M341.7,-88.95C340.12,-80.62 338.41,-71.65 336.8,-63.2\"/>\n",
       "<polygon fill=\"black\" stroke=\"black\" points=\"340.21,-62.41 334.9,-53.24 333.34,-63.72 340.21,-62.41\"/>\n",
       "</g>\n",
       "<!-- 6 -->\n",
       "<g id=\"node7\" class=\"node\">\n",
       "<title>6</title>\n",
       "<polygon fill=\"none\" stroke=\"black\" points=\"493.5,-53 396.5,-53 396.5,0 493.5,0 493.5,-53\"/>\n",
       "<text text-anchor=\"middle\" x=\"445\" y=\"-37.8\" font-family=\"Times,serif\" font-size=\"14.00\">mse = 0.262</text>\n",
       "<text text-anchor=\"middle\" x=\"445\" y=\"-22.8\" font-family=\"Times,serif\" font-size=\"14.00\">samples = 872</text>\n",
       "<text text-anchor=\"middle\" x=\"445\" y=\"-7.8\" font-family=\"Times,serif\" font-size=\"14.00\">value = 2.353</text>\n",
       "</g>\n",
       "<!-- 4&#45;&gt;6 -->\n",
       "<g id=\"edge6\" class=\"edge\">\n",
       "<title>4&#45;&gt;6</title>\n",
       "<path fill=\"none\" stroke=\"black\" d=\"M381.93,-88.95C391.41,-79.71 401.71,-69.67 411.19,-60.44\"/>\n",
       "<polygon fill=\"black\" stroke=\"black\" points=\"413.86,-62.72 418.58,-53.24 408.98,-57.71 413.86,-62.72\"/>\n",
       "</g>\n",
       "</g>\n",
       "</svg>\n"
      ],
      "text/plain": [
       "<graphviz.files.Source at 0x7fccf8f161f0>"
      ]
     },
     "execution_count": 201,
     "metadata": {},
     "output_type": "execute_result"
    }
   ],
   "source": [
    "export_graphviz(regr_tree_daily, \n",
    "                out_file = \"regr_tree.dot\", \n",
    "                feature_names = X_train.columns)\n",
    "\n",
    "with open(\"regr_tree.dot\") as f:\n",
    "    dot_graph = f.read()\n",
    "graphviz.Source(dot_graph)"
   ]
  },
  {
   "cell_type": "code",
   "execution_count": 202,
   "metadata": {
    "scrolled": true
   },
   "outputs": [
    {
     "data": {
      "text/plain": [
       "0.3224180277613034"
      ]
     },
     "execution_count": 202,
     "metadata": {},
     "output_type": "execute_result"
    },
    {
     "data": {
      "image/png": "[encoded data removed]",
      "text/plain": [
       "<Figure size 432x288 with 1 Axes>"
      ]
     },
     "metadata": {
      "needs_background": "light"
     },
     "output_type": "display_data"
    }
   ],
   "source": [
    "pred = regr_tree_daily.predict(X_test)\n",
    "\n",
    "plt.scatter(pred, \n",
    "            y_test, \n",
    "            label = 'medv')\n",
    "\n",
    "plt.plot([0, 1], \n",
    "         [0, 1], \n",
    "         '--k', \n",
    "         transform = plt.gca().transAxes)\n",
    "\n",
    "plt.xlabel('pred')\n",
    "plt.ylabel('y_test')\n",
    "\n",
    "mean_absolute_error(y_test, pred)"
   ]
  },
  {
   "cell_type": "markdown",
   "metadata": {},
   "source": [
    "## Bagging"
   ]
  },
  {
   "cell_type": "code",
   "execution_count": 252,
   "metadata": {},
   "outputs": [
    {
     "data": {
      "text/plain": [
       "(14,)"
      ]
     },
     "execution_count": 252,
     "metadata": {},
     "output_type": "execute_result"
    }
   ],
   "source": [
    "X = df_2017_lagged.drop(['energy_generated','effluent_flow'], axis = 1)\n",
    "y = df_2017_lagged.energy_generated\n",
    "X_train, X_test, y_train, y_test = train_test_split(X, y, train_size = (6908-14)/6908, random_state = 0)\n",
    "y_test.shape"
   ]
  },
  {
   "cell_type": "code",
   "execution_count": 253,
   "metadata": {},
   "outputs": [
    {
     "data": {
      "text/plain": [
       "RandomForestRegressor(max_features=33, random_state=1)"
      ]
     },
     "execution_count": 253,
     "metadata": {},
     "output_type": "execute_result"
    }
   ],
   "source": [
    "bagged_daily = RandomForestRegressor(max_features = 33, random_state = 1)\n",
    "bagged_daily.fit(X_train, y_train)"
   ]
  },
  {
   "cell_type": "code",
   "execution_count": 254,
   "metadata": {
    "scrolled": true
   },
   "outputs": [
    {
     "data": {
      "text/plain": [
       "0.23146284629285724"
      ]
     },
     "execution_count": 254,
     "metadata": {},
     "output_type": "execute_result"
    },
    {
     "data": {
      "image/png": "[encoded data removed]",
      "text/plain": [
       "<Figure size 432x288 with 1 Axes>"
      ]
     },
     "metadata": {
      "needs_background": "light"
     },
     "output_type": "display_data"
    }
   ],
   "source": [
    "pred = bagged_daily.predict(X_test)\n",
    "\n",
    "plt.scatter(pred, \n",
    "            y_test, \n",
    "            label = 'energy_generated')\n",
    "\n",
    "plt.plot([0, 1], \n",
    "         [0, 1], \n",
    "         '--k', \n",
    "         transform = plt.gca().transAxes)\n",
    "\n",
    "plt.xlabel('pred')\n",
    "plt.ylabel('y_test')\n",
    "\n",
    "mean_absolute_error(y_test, pred)"
   ]
  },
  {
   "cell_type": "markdown",
   "metadata": {},
   "source": [
    "**Choose a time chunk to predict using the training model**"
   ]
  },
  {
   "cell_type": "code",
   "execution_count": 257,
   "metadata": {},
   "outputs": [
    {
     "data": {
      "text/plain": [
       "1.0022989922785717"
      ]
     },
     "execution_count": 257,
     "metadata": {},
     "output_type": "execute_result"
    },
    {
     "data": {
      "image/png": "[encoded data removed]",
      "text/plain": [
       "<Figure size 432x288 with 1 Axes>"
      ]
     },
     "metadata": {
      "needs_background": "light"
     },
     "output_type": "display_data"
    }
   ],
   "source": [
    "time_chunk = df[['energy_generated']].iloc[7250:7250+14].copy()\n",
    "\n",
    "pred = bagged_daily.predict(X_test)\n",
    "\n",
    "plt.scatter(pred, \n",
    "            time_chunk, \n",
    "            label = 'energy_generated')\n",
    "\n",
    "plt.plot([0, 1], \n",
    "         [0, 1], \n",
    "         '--k', \n",
    "         transform = plt.gca().transAxes)\n",
    "\n",
    "plt.xlabel('pred')\n",
    "plt.ylabel('time_chunk')\n",
    "\n",
    "mean_absolute_error(time_chunk, pred)"
   ]
  },
  {
   "cell_type": "code",
   "execution_count": null,
   "metadata": {
    "scrolled": true
   },
   "outputs": [],
   "source": [
    "'''lst = []\n",
    "\n",
    "for j in range(1,11):\n",
    "    for k in range(1,11):\n",
    "        random_forest_daily = RandomForestRegressor(max_features = k, random_state = j)\n",
    "        random_forest_daily.fit(X_train, y_train)\n",
    "        pred = random_forest_daily.predict(X_test)\n",
    "        Importance = pd.DataFrame({'Importance':random_forest_daily.feature_importances_*100}, \n",
    "                          index = X.columns)\n",
    "        Importance = Importance[Importance['Importance'] > 7]\n",
    "        lst.append([k, round(mean_squared_error(y_test, pred),5), Importance])\n",
    "\n",
    "lst'''"
   ]
  },
  {
   "cell_type": "markdown",
   "metadata": {},
   "source": [
    "turbine_flow_7 is the most important variable (after turbine_flow and effluent_flow). Has a correlation of 0.6814313 with energy_generated. Interesting because it shows that even with a little bit of time lag, we have an ok indicator of what future energy generation will be. "
   ]
  },
  {
   "cell_type": "markdown",
   "metadata": {},
   "source": [
    "## Random Forest"
   ]
  },
  {
   "cell_type": "code",
   "execution_count": 258,
   "metadata": {
    "scrolled": false
   },
   "outputs": [],
   "source": [
    "X = df_2017_lagged.drop(['energy_generated','effluent_flow','influent_flow'], axis = 1)\n",
    "y = df_2017_lagged.energy_generated\n",
    "X_train, X_test, y_train, y_test = train_test_split(X, y, train_size = (6908-14)/6908, random_state = 0)\n",
    "\n",
    "random_forest_daily = RandomForestRegressor(max_features = 7, random_state = 1)\n",
    "random_forest_daily.fit(X_train, y_train)\n",
    "pred = random_forest_daily.predict(X_test)"
   ]
  },
  {
   "cell_type": "code",
   "execution_count": 259,
   "metadata": {
    "scrolled": true
   },
   "outputs": [
    {
     "data": {
      "text/plain": [
       "0.23590004990714286"
      ]
     },
     "execution_count": 259,
     "metadata": {},
     "output_type": "execute_result"
    }
   ],
   "source": [
    "mean_absolute_error(y_test, random_forest_daily.predict(X_test))"
   ]
  },
  {
   "cell_type": "markdown",
   "metadata": {},
   "source": [
    "**Choosing time chunk on which to test forest**"
   ]
  },
  {
   "cell_type": "code",
   "execution_count": 261,
   "metadata": {},
   "outputs": [
    {
     "data": {
      "text/plain": [
       "1.03607874475"
      ]
     },
     "execution_count": 261,
     "metadata": {},
     "output_type": "execute_result"
    }
   ],
   "source": [
    "time_chunk = df[['energy_generated']].iloc[7250:7250+14].copy()\n",
    "mean_absolute_error(time_chunk, random_forest_daily.predict(X_test))"
   ]
  },
  {
   "cell_type": "code",
   "execution_count": 262,
   "metadata": {},
   "outputs": [
    {
     "data": {
      "text/html": [
       "<div>\n",
       "<style scoped>\n",
       "    .dataframe tbody tr th:only-of-type {\n",
       "        vertical-align: middle;\n",
       "    }\n",
       "\n",
       "    .dataframe tbody tr th {\n",
       "        vertical-align: top;\n",
       "    }\n",
       "\n",
       "    .dataframe thead th {\n",
       "        text-align: right;\n",
       "    }\n",
       "</style>\n",
       "<table border=\"1\" class=\"dataframe\">\n",
       "  <thead>\n",
       "    <tr style=\"text-align: right;\">\n",
       "      <th></th>\n",
       "      <th>Importance</th>\n",
       "    </tr>\n",
       "  </thead>\n",
       "  <tbody>\n",
       "    <tr>\n",
       "      <th>energy_generated_7</th>\n",
       "      <td>19.791707</td>\n",
       "    </tr>\n",
       "    <tr>\n",
       "      <th>influent_flow_7</th>\n",
       "      <td>11.855928</td>\n",
       "    </tr>\n",
       "    <tr>\n",
       "      <th>effluent_flow_7</th>\n",
       "      <td>8.380998</td>\n",
       "    </tr>\n",
       "    <tr>\n",
       "      <th>poured_flow</th>\n",
       "      <td>6.555825</td>\n",
       "    </tr>\n",
       "    <tr>\n",
       "      <th>energy_generated_14</th>\n",
       "      <td>5.837532</td>\n",
       "    </tr>\n",
       "    <tr>\n",
       "      <th>influent_flow_14</th>\n",
       "      <td>4.166358</td>\n",
       "    </tr>\n",
       "    <tr>\n",
       "      <th>effluent_flow_14</th>\n",
       "      <td>3.766784</td>\n",
       "    </tr>\n",
       "    <tr>\n",
       "      <th>volume_used</th>\n",
       "      <td>2.290481</td>\n",
       "    </tr>\n",
       "    <tr>\n",
       "      <th>water_level</th>\n",
       "      <td>2.252891</td>\n",
       "    </tr>\n",
       "    <tr>\n",
       "      <th>influent_flow_30</th>\n",
       "      <td>2.252743</td>\n",
       "    </tr>\n",
       "  </tbody>\n",
       "</table>\n",
       "</div>"
      ],
      "text/plain": [
       "                     Importance\n",
       "energy_generated_7    19.791707\n",
       "influent_flow_7       11.855928\n",
       "effluent_flow_7        8.380998\n",
       "poured_flow            6.555825\n",
       "energy_generated_14    5.837532\n",
       "influent_flow_14       4.166358\n",
       "effluent_flow_14       3.766784\n",
       "volume_used            2.290481\n",
       "water_level            2.252891\n",
       "influent_flow_30       2.252743"
      ]
     },
     "execution_count": 262,
     "metadata": {},
     "output_type": "execute_result"
    }
   ],
   "source": [
    "Importance = pd.DataFrame({'Importance':random_forest_daily.feature_importances_*100}, \n",
    "                          index = X.columns).sort_values(by = 'Importance', \n",
    "                       axis = 0, \n",
    "                       ascending = False)\n",
    "Importance.head(10)"
   ]
  },
  {
   "cell_type": "code",
   "execution_count": 125,
   "metadata": {},
   "outputs": [
    {
     "data": {
      "image/png": "[encoded data removed]",
      "text/plain": [
       "<Figure size 432x288 with 1 Axes>"
      ]
     },
     "metadata": {
      "needs_background": "light"
     },
     "output_type": "display_data"
    }
   ],
   "source": [
    "Importance.plot(kind = 'barh', color = 'r', )\n",
    "\n",
    "plt.xlabel('Variable Importance')\n",
    "plt.gca().legend_ = None"
   ]
  },
  {
   "cell_type": "markdown",
   "metadata": {},
   "source": [
    "# 8.3.4 Boosting\n",
    "\n",
    "Now we'll use the `GradientBoostingRegressor` package to fit **boosted\n",
    "regression trees** to the `Boston` data set. The\n",
    "argument `n_estimators = 500` indicates that we want 500 trees, and the option\n",
    "`interaction.depth = 4` limits the depth of each tree:"
   ]
  },
  {
   "cell_type": "code",
   "execution_count": 247,
   "metadata": {},
   "outputs": [
    {
     "data": {
      "text/plain": [
       "GradientBoostingRegressor(learning_rate=0.2, max_depth=4, n_estimators=500,\n",
       "                          random_state=1)"
      ]
     },
     "execution_count": 247,
     "metadata": {},
     "output_type": "execute_result"
    }
   ],
   "source": [
    "X = df_2017_lagged.drop(['energy_generated','effluent_flow','influent_flow'], axis = 1)\n",
    "y = df_2017_lagged.energy_generated\n",
    "X_train, X_test, y_train, y_test = train_test_split(X, y, train_size = (6908-7)/6908, random_state = 0)\n",
    "\n",
    "boosted_daily = GradientBoostingRegressor(n_estimators = 500, \n",
    "                                           learning_rate = 0.2, \n",
    "                                           max_depth = 4, \n",
    "                                           random_state = 1)\n",
    "\n",
    "boosted_daily.fit(X_train, y_train)"
   ]
  },
  {
   "cell_type": "markdown",
   "metadata": {},
   "source": [
    "Let's check out the feature importances again:"
   ]
  },
  {
   "cell_type": "code",
   "execution_count": 248,
   "metadata": {},
   "outputs": [],
   "source": [
    "feature_importance = boosted_daily.feature_importances_*100\n",
    "\n",
    "rel_imp = pd.Series(feature_importance, \n",
    "                    index = X.columns).sort_values(inplace = False,ascending = False)"
   ]
  },
  {
   "cell_type": "code",
   "execution_count": 249,
   "metadata": {},
   "outputs": [
    {
     "data": {
      "text/plain": [
       "energy_generated_7     41.175541\n",
       "influent_flow_7        12.521524\n",
       "poured_flow             6.993296\n",
       "energy_stored           2.815046\n",
       "energy_generated_14     2.657857\n",
       "water_level             2.506735\n",
       "energy_stored_30        2.435792\n",
       "energy_stored_7         2.060351\n",
       "volume_used             1.989409\n",
       "maximum_demand_30       1.773982\n",
       "dtype: float64"
      ]
     },
     "execution_count": 249,
     "metadata": {},
     "output_type": "execute_result"
    }
   ],
   "source": [
    "rel_imp.head(10)"
   ]
  },
  {
   "cell_type": "code",
   "execution_count": 130,
   "metadata": {},
   "outputs": [
    {
     "data": {
      "image/png": "[encoded data removed]",
      "text/plain": [
       "<Figure size 432x288 with 1 Axes>"
      ]
     },
     "metadata": {
      "needs_background": "light"
     },
     "output_type": "display_data"
    }
   ],
   "source": [
    "rel_imp.T.plot(kind = 'barh', \n",
    "               color = 'r', )\n",
    "\n",
    "plt.xlabel('Variable Importance')\n",
    "\n",
    "plt.gca().legend_ = None"
   ]
  },
  {
   "cell_type": "code",
   "execution_count": 250,
   "metadata": {},
   "outputs": [
    {
     "data": {
      "text/plain": [
       "0.4389274124192403"
      ]
     },
     "execution_count": 250,
     "metadata": {},
     "output_type": "execute_result"
    }
   ],
   "source": [
    "mean_absolute_error(y_test, boosted_daily.predict(X_test))"
   ]
  },
  {
   "cell_type": "code",
   "execution_count": 251,
   "metadata": {},
   "outputs": [
    {
     "data": {
      "text/plain": [
       "0.6283032699345151"
      ]
     },
     "execution_count": 251,
     "metadata": {},
     "output_type": "execute_result"
    }
   ],
   "source": [
    "time_chunk = df[['energy_generated']].iloc[7000:7000+7].copy()\n",
    "mean_absolute_error(time_chunk,  boosted_daily.predict(X_test))"
   ]
  },
  {
   "cell_type": "markdown",
   "metadata": {},
   "source": [
    "\n",
    "To get credit for this lab, post your responses to the following questions:\n",
    " - What's one real-world scenario where you might try using Bagging?\n",
    " - What's one real-world scenario where you might try using Random Forests?\n",
    " - What's one real-world scenario where you might try using Boosting?\n",
    " \n",
    "to Moodle: https://moodle.smith.edu/mod/quiz/view.php?id=264671"
   ]
  },
  {
   "cell_type": "markdown",
   "metadata": {},
   "source": [
    "## Conclusion\n",
    "\n",
    "Considering lags on all variables of 7, 14, and 30 days, the most important variables are (in order):\n",
    "\n",
    "1. energy_generated lagged 7 days\n",
    "2. effluent_flow lagged 7 days\n",
    "3. influent_flow lagged 7 days\n",
    "4. energy_generated lagged 14 days\n",
    "5. effluent_flow lagged 14 days\n",
    "6. influent_flow lagged 14 days\n",
    "\n",
    "After that I no longer feel confident about ranking the variables."
   ]
  }
 ],
 "metadata": {
  "anaconda-cloud": {},
  "kernelspec": {
   "display_name": "Python 3",
   "language": "python",
   "name": "python3"
  },
  "language_info": {
   "codemirror_mode": {
    "name": "ipython",
    "version": 3
   },
   "file_extension": ".py",
   "mimetype": "text/x-python",
   "name": "python",
   "nbconvert_exporter": "python",
   "pygments_lexer": "ipython3",
   "version": "3.8.5"
  }
 },
 "nbformat": 4,
 "nbformat_minor": 1
}
