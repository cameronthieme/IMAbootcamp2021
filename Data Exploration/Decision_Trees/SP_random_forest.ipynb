{
 "cells": [
  {
   "cell_type": "code",
   "execution_count": 2,
   "metadata": {},
   "outputs": [],
   "source": [
    "import pandas as pd\n",
    "import numpy as np\n",
    "import matplotlib as mpl\n",
    "import matplotlib.pyplot as plt\n",
    "import graphviz \n",
    "# might need to install -- need *both* python and system\n",
    "# so use Anaconda (or pip) to install graphviz, and also https://graphviz.org/download/\n",
    "# this was a non-trivial install on Mac (depends on Xcode command-line tools)\n",
    "# `pip install graphviz` and `brew install graphviz`\n",
    "import datetime as dt\n",
    "\n",
    "%matplotlib inline\n",
    "from sklearn.model_selection import train_test_split\n",
    "from sklearn.tree import DecisionTreeRegressor, DecisionTreeClassifier, export_graphviz\n",
    "from sklearn.ensemble import RandomForestRegressor, GradientBoostingRegressor\n",
    "from sklearn.metrics import confusion_matrix, mean_squared_error, mean_absolute_error"
   ]
  },
  {
   "cell_type": "code",
   "execution_count": 21,
   "metadata": {
    "scrolled": true
   },
   "outputs": [],
   "source": [
    "energy_generated = pd.read_csv(\"../../Data/subsystem_all_dams/Energy_generated_daily_by_dam.csv.zip\")\n",
    "influent_flow = pd.read_csv(\"../../Data/subsystem_all_dams/Influent_flow_daily_by_dam.csv.zip\")"
   ]
  },
  {
   "cell_type": "code",
   "execution_count": 8,
   "metadata": {},
   "outputs": [],
   "source": [
    "dict = {' TRÊS MARIAS': 'TRES MARIAS',\n",
    "        ' TRÊS IRMÃOS': 'TRES IRMAOS',\n",
    "        ' SERRA DA MESA': 'SERRA DA MESA',\n",
    "        ' SÃO SIMÃO (CEMIG)': 'SAO SIMAO',\n",
    "        ' PARAIBUNA': 'PARAIBUNA',\n",
    "        ' NOVA PONTE': 'NOVA PONTE',\n",
    "        ' MARIMBONDO': 'MARIMBONDO',\n",
    "        ' ITUMBIARA (FURNAS)': 'ITUMBIARA',\n",
    "        ' ITAIPU': 'ITAIPU',\n",
    "        ' COMPLEXO ILHA SOLTEIRA': 'I. SOLTEIRA',\n",
    "        ' FURNAS': 'FURNAS',\n",
    "        ' EMBORCAÇÃO': 'EMBORCACAO',\n",
    "        ' CHAVANTES': 'CHAVANTES',\n",
    "        ' BARRA BONITA': 'B. BONITA',\n",
    "        ' SERRA DO FACÃO': 'S.DO FACAO',\n",
    "        ' BATALHA': 'BATALHA'}"
   ]
  },
  {
   "cell_type": "code",
   "execution_count": null,
   "metadata": {
    "scrolled": true
   },
   "outputs": [],
   "source": []
  },
  {
   "cell_type": "code",
   "execution_count": null,
   "metadata": {},
   "outputs": [],
   "source": []
  }
 ],
 "metadata": {
  "kernelspec": {
   "display_name": "Python 3",
   "language": "python",
   "name": "python3"
  },
  "language_info": {
   "codemirror_mode": {
    "name": "ipython",
    "version": 3
   },
   "file_extension": ".py",
   "mimetype": "text/x-python",
   "name": "python",
   "nbconvert_exporter": "python",
   "pygments_lexer": "ipython3",
   "version": "3.8.5"
  }
 },
 "nbformat": 4,
 "nbformat_minor": 4
}
