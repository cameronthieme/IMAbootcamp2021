{
 "cells": [
  {
   "cell_type": "code",
   "execution_count": 1,
   "metadata": {
    "scrolled": false
   },
   "outputs": [],
   "source": [
    "import pandas as pd\n",
    "import numpy as np\n",
    "import matplotlib as mpl\n",
    "import matplotlib.pyplot as plt\n",
    "import graphviz \n",
    "# might need to install -- need *both* python and system\n",
    "# so use Anaconda (or pip) to install graphviz, and also https://graphviz.org/download/\n",
    "# this was a non-trivial install on Mac (depends on Xcode command-line tools)\n",
    "# `pip install graphviz` and `brew install graphviz`\n",
    "import datetime as dt\n",
    "\n",
    "%matplotlib inline\n",
    "from sklearn.model_selection import train_test_split\n",
    "from sklearn.tree import DecisionTreeRegressor, DecisionTreeClassifier, export_graphviz\n",
    "from sklearn.ensemble import RandomForestRegressor, GradientBoostingRegressor\n",
    "from sklearn.metrics import confusion_matrix, mean_squared_error, mean_absolute_error"
   ]
  },
  {
   "cell_type": "code",
   "execution_count": 2,
   "metadata": {
    "scrolled": false
   },
   "outputs": [],
   "source": [
    "bb = pd.read_csv(\"../../Data/1999_2021/aggragate_daily_data_2000to2020.csv\", index_col = \"date\")[['influent_flow']].loc['2008-01-01':'2017-12-31']\n",
    "\n",
    "weather = pd.read_csv(\"../../Data/historic_weather_all_SP_daily.csv\", index_col = \"date\")\n",
    "\n"
   ]
  },
  {
   "cell_type": "markdown",
   "metadata": {},
   "source": [
    "## Change .fillna(0) to something more sophisticated?"
   ]
  },
  {
   "cell_type": "code",
   "execution_count": 3,
   "metadata": {
    "scrolled": true
   },
   "outputs": [],
   "source": [
    "# rain = weather.pivot(columns='station', values=['rain_mm']).fillna(0)[[('rain_mm',    'A701 SAO PAULO - MIRANTE'), ('rain_mm',               'A713 SOROCABA'), ('rain_mm',      'A744 BRAGANCA PAULISTA'),  ('rain_mm',                'A755 BARUERI'), ('rain_mm',             'A711 SAO CARLOS'), ('rain_mm',           'A741 BARRA BONITA')]]\n",
    "rain = weather.pivot(columns='station', values=['rain_mm']).fillna(0)[[('rain_mm',    'A701 SAO PAULO - MIRANTE'), ('rain_mm',               'A713 SOROCABA'), ('rain_mm',             'A711 SAO CARLOS'), ('rain_mm',           'A741 BARRA BONITA')\n",
    "]]"
   ]
  },
  {
   "cell_type": "markdown",
   "metadata": {},
   "source": [
    "## Change lags here if you want"
   ]
  },
  {
   "cell_type": "code",
   "execution_count": 4,
   "metadata": {
    "scrolled": true
   },
   "outputs": [
    {
     "name": "stderr",
     "output_type": "stream",
     "text": [
      "/Users/jzhu/opt/anaconda3/lib/python3.8/site-packages/pandas/core/reshape/merge.py:643: UserWarning: merging between different levels can give an unintended result (1 levels on the left,2 on the right)\n",
      "  warnings.warn(msg, UserWarning)\n",
      "/Users/jzhu/opt/anaconda3/lib/python3.8/site-packages/pandas/core/reshape/merge.py:643: UserWarning: merging between different levels can give an unintended result (1 levels on the left,2 on the right)\n",
      "  warnings.warn(msg, UserWarning)\n",
      "/Users/jzhu/opt/anaconda3/lib/python3.8/site-packages/pandas/core/reshape/merge.py:643: UserWarning: merging between different levels can give an unintended result (1 levels on the left,2 on the right)\n",
      "  warnings.warn(msg, UserWarning)\n",
      "/Users/jzhu/opt/anaconda3/lib/python3.8/site-packages/pandas/core/reshape/merge.py:643: UserWarning: merging between different levels can give an unintended result (1 levels on the left,2 on the right)\n",
      "  warnings.warn(msg, UserWarning)\n",
      "/Users/jzhu/opt/anaconda3/lib/python3.8/site-packages/pandas/core/reshape/merge.py:643: UserWarning: merging between different levels can give an unintended result (1 levels on the left,2 on the right)\n",
      "  warnings.warn(msg, UserWarning)\n"
     ]
    }
   ],
   "source": [
    "rain_agg = bb\n",
    "\n",
    "for i in [1,3,7,10,30]: #all lags considered in the random forest\n",
    "    rain_lag = rain.shift(i).rename(columns={'rain_mm':'rain_mm_' + str(i)})\n",
    "    rain_agg = rain_agg.join(rain_lag).dropna()"
   ]
  },
  {
   "cell_type": "code",
   "execution_count": 5,
   "metadata": {
    "scrolled": true
   },
   "outputs": [],
   "source": [
    "# rain_agg.corr()"
   ]
  },
  {
   "cell_type": "code",
   "execution_count": 6,
   "metadata": {},
   "outputs": [],
   "source": [
    "X_agg = rain_agg.drop('influent_flow', axis = 1)\n",
    "y_agg = rain_agg.influent_flow\n",
    "X_agg_train, X_agg_test, y_agg_train, y_agg_test = train_test_split(X_agg, y_agg, train_size = 0.8, random_state = 0)"
   ]
  },
  {
   "cell_type": "code",
   "execution_count": 7,
   "metadata": {},
   "outputs": [
    {
     "name": "stdout",
     "output_type": "stream",
     "text": [
      "random forest MAE: 150.8720098129726\n"
     ]
    }
   ],
   "source": [
    "random_forest_rain_agg = RandomForestRegressor(max_features = 3, random_state = 17)\n",
    "\n",
    "random_forest_rain_agg.fit(X_agg_train, y_agg_train)\n",
    "\n",
    "pred_agg = random_forest_rain_agg.predict(X_agg_test)\n",
    "\n",
    "Importance_agg = pd.DataFrame({'Importance':random_forest_rain_agg.feature_importances_*100}, \n",
    "                          index = X_agg.columns)\n",
    "\n",
    "Importance_agg = Importance_agg.sort_values(by = 'Importance', axis = 0)\n",
    "\n",
    "print(\"random forest MAE:\", mean_absolute_error(y_agg_test, pred_agg))"
   ]
  },
  {
   "cell_type": "code",
   "execution_count": 8,
   "metadata": {},
   "outputs": [],
   "source": [
    "Importance_agg = pd.DataFrame({'Importance':random_forest_rain_agg.feature_importances_*100}, \n",
    "                          index = X_agg.columns)\n",
    "\n",
    "Importance_agg = Importance_agg.sort_values(by = 'Importance', axis = 0)"
   ]
  },
  {
   "cell_type": "code",
   "execution_count": 9,
   "metadata": {
    "scrolled": false
   },
   "outputs": [
    {
     "data": {
      "text/html": [
       "<div>\n",
       "<style scoped>\n",
       "    .dataframe tbody tr th:only-of-type {\n",
       "        vertical-align: middle;\n",
       "    }\n",
       "\n",
       "    .dataframe tbody tr th {\n",
       "        vertical-align: top;\n",
       "    }\n",
       "\n",
       "    .dataframe thead th {\n",
       "        text-align: right;\n",
       "    }\n",
       "</style>\n",
       "<table border=\"1\" class=\"dataframe\">\n",
       "  <thead>\n",
       "    <tr style=\"text-align: right;\">\n",
       "      <th></th>\n",
       "      <th>Importance</th>\n",
       "    </tr>\n",
       "  </thead>\n",
       "  <tbody>\n",
       "    <tr>\n",
       "      <th>(rain_mm_3, A701 SAO PAULO - MIRANTE)</th>\n",
       "      <td>10.282837</td>\n",
       "    </tr>\n",
       "    <tr>\n",
       "      <th>(rain_mm_3, A711 SAO CARLOS)</th>\n",
       "      <td>9.370892</td>\n",
       "    </tr>\n",
       "    <tr>\n",
       "      <th>(rain_mm_3, A713 SOROCABA)</th>\n",
       "      <td>7.619072</td>\n",
       "    </tr>\n",
       "    <tr>\n",
       "      <th>(rain_mm_1, A711 SAO CARLOS)</th>\n",
       "      <td>7.562395</td>\n",
       "    </tr>\n",
       "    <tr>\n",
       "      <th>(rain_mm_1, A741 BARRA BONITA)</th>\n",
       "      <td>6.989146</td>\n",
       "    </tr>\n",
       "    <tr>\n",
       "      <th>(rain_mm_1, A701 SAO PAULO - MIRANTE)</th>\n",
       "      <td>6.957864</td>\n",
       "    </tr>\n",
       "    <tr>\n",
       "      <th>(rain_mm_3, A741 BARRA BONITA)</th>\n",
       "      <td>6.343579</td>\n",
       "    </tr>\n",
       "    <tr>\n",
       "      <th>(rain_mm_1, A713 SOROCABA)</th>\n",
       "      <td>5.554376</td>\n",
       "    </tr>\n",
       "    <tr>\n",
       "      <th>(rain_mm_7, A701 SAO PAULO - MIRANTE)</th>\n",
       "      <td>4.590605</td>\n",
       "    </tr>\n",
       "    <tr>\n",
       "      <th>(rain_mm_7, A713 SOROCABA)</th>\n",
       "      <td>4.238179</td>\n",
       "    </tr>\n",
       "    <tr>\n",
       "      <th>(rain_mm_7, A741 BARRA BONITA)</th>\n",
       "      <td>3.940988</td>\n",
       "    </tr>\n",
       "    <tr>\n",
       "      <th>(rain_mm_7, A711 SAO CARLOS)</th>\n",
       "      <td>3.692072</td>\n",
       "    </tr>\n",
       "    <tr>\n",
       "      <th>(rain_mm_10, A701 SAO PAULO - MIRANTE)</th>\n",
       "      <td>3.270325</td>\n",
       "    </tr>\n",
       "    <tr>\n",
       "      <th>(rain_mm_10, A741 BARRA BONITA)</th>\n",
       "      <td>3.115013</td>\n",
       "    </tr>\n",
       "    <tr>\n",
       "      <th>(rain_mm_10, A711 SAO CARLOS)</th>\n",
       "      <td>3.058471</td>\n",
       "    </tr>\n",
       "    <tr>\n",
       "      <th>(rain_mm_30, A711 SAO CARLOS)</th>\n",
       "      <td>2.989913</td>\n",
       "    </tr>\n",
       "    <tr>\n",
       "      <th>(rain_mm_10, A713 SOROCABA)</th>\n",
       "      <td>2.704538</td>\n",
       "    </tr>\n",
       "    <tr>\n",
       "      <th>(rain_mm_30, A701 SAO PAULO - MIRANTE)</th>\n",
       "      <td>2.674077</td>\n",
       "    </tr>\n",
       "    <tr>\n",
       "      <th>(rain_mm_30, A713 SOROCABA)</th>\n",
       "      <td>2.603702</td>\n",
       "    </tr>\n",
       "    <tr>\n",
       "      <th>(rain_mm_30, A741 BARRA BONITA)</th>\n",
       "      <td>2.441957</td>\n",
       "    </tr>\n",
       "  </tbody>\n",
       "</table>\n",
       "</div>"
      ],
      "text/plain": [
       "                                        Importance\n",
       "(rain_mm_3, A701 SAO PAULO - MIRANTE)    10.282837\n",
       "(rain_mm_3, A711 SAO CARLOS)              9.370892\n",
       "(rain_mm_3, A713 SOROCABA)                7.619072\n",
       "(rain_mm_1, A711 SAO CARLOS)              7.562395\n",
       "(rain_mm_1, A741 BARRA BONITA)            6.989146\n",
       "(rain_mm_1, A701 SAO PAULO - MIRANTE)     6.957864\n",
       "(rain_mm_3, A741 BARRA BONITA)            6.343579\n",
       "(rain_mm_1, A713 SOROCABA)                5.554376\n",
       "(rain_mm_7, A701 SAO PAULO - MIRANTE)     4.590605\n",
       "(rain_mm_7, A713 SOROCABA)                4.238179\n",
       "(rain_mm_7, A741 BARRA BONITA)            3.940988\n",
       "(rain_mm_7, A711 SAO CARLOS)              3.692072\n",
       "(rain_mm_10, A701 SAO PAULO - MIRANTE)    3.270325\n",
       "(rain_mm_10, A741 BARRA BONITA)           3.115013\n",
       "(rain_mm_10, A711 SAO CARLOS)             3.058471\n",
       "(rain_mm_30, A711 SAO CARLOS)             2.989913\n",
       "(rain_mm_10, A713 SOROCABA)               2.704538\n",
       "(rain_mm_30, A701 SAO PAULO - MIRANTE)    2.674077\n",
       "(rain_mm_30, A713 SOROCABA)               2.603702\n",
       "(rain_mm_30, A741 BARRA BONITA)           2.441957"
      ]
     },
     "execution_count": 9,
     "metadata": {},
     "output_type": "execute_result"
    }
   ],
   "source": [
    "Importance_agg.sort_values('Importance',ascending=False).head(30)"
   ]
  }
 ],
 "metadata": {
  "kernelspec": {
   "display_name": "Python 3",
   "language": "python",
   "name": "python3"
  },
  "language_info": {
   "codemirror_mode": {
    "name": "ipython",
    "version": 3
   },
   "file_extension": ".py",
   "mimetype": "text/x-python",
   "name": "python",
   "nbconvert_exporter": "python",
   "pygments_lexer": "ipython3",
   "version": "3.8.5"
  }
 },
 "nbformat": 4,
 "nbformat_minor": 4
}
