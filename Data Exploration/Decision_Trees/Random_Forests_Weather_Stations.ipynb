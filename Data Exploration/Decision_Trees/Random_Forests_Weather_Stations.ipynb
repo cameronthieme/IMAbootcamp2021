{
 "cells": [
  {
   "cell_type": "code",
   "execution_count": 1,
   "metadata": {
    "scrolled": false
   },
   "outputs": [],
   "source": [
    "import pandas as pd\n",
    "import numpy as np\n",
    "import matplotlib as mpl\n",
    "import matplotlib.pyplot as plt\n",
    "import graphviz \n",
    "# might need to install -- need *both* python and system\n",
    "# so use Anaconda (or pip) to install graphviz, and also https://graphviz.org/download/\n",
    "# this was a non-trivial install on Mac (depends on Xcode command-line tools)\n",
    "# `pip install graphviz` and `brew install graphviz`\n",
    "import datetime as dt\n",
    "\n",
    "%matplotlib inline\n",
    "from sklearn.model_selection import train_test_split\n",
    "from sklearn.tree import DecisionTreeRegressor, DecisionTreeClassifier, export_graphviz\n",
    "from sklearn.ensemble import RandomForestRegressor, GradientBoostingRegressor\n",
    "from sklearn.metrics import confusion_matrix, mean_squared_error, mean_absolute_error"
   ]
  },
  {
   "cell_type": "code",
   "execution_count": 268,
   "metadata": {
    "scrolled": false
   },
   "outputs": [],
   "source": [
    "bb = pd.read_csv(\"../../Data/1999_2021/aggragate_daily_data_2000to2020.csv\", index_col = \"date\")['energy_generated'].loc['2007-01-01':'2017-12-31'].to_frame()\n",
    "\n",
    "weather = pd.read_csv(\"../../Data/historic_weather_all_SP_daily.csv\", index_col = \"date\")"
   ]
  },
  {
   "cell_type": "markdown",
   "metadata": {},
   "source": [
    "Changing columns to (station, measurement)"
   ]
  },
  {
   "cell_type": "code",
   "execution_count": 274,
   "metadata": {
    "scrolled": true
   },
   "outputs": [],
   "source": [
    "weather_tmp = weather.pivot(columns='station', values=['rain_mm', 'temp_max','temp_min'])\n",
    "\n"
   ]
  },
  {
   "cell_type": "code",
   "execution_count": 104,
   "metadata": {},
   "outputs": [],
   "source": [
    "#really ugly. sorry.\n",
    "weather_0 = weather_tmp.rename(columns={'rain_mm':'rain_mm_0', 'temp_max':'temp_max_0', 'temp_min':'temp_min_0'}).swaplevel(axis=1).sort_index(axis=1)\n",
    "weather_7 = weather_tmp.shift(-7).rename(columns={'rain_mm':'rain_mm_7', 'temp_max':'temp_max_7', 'temp_min':'temp_min_7'}).swaplevel(axis=1).sort_index(axis=1)\n",
    "weather_14 = weather_tmp.shift(-14).rename(columns={'rain_mm':'rain_mm_14', 'temp_max':'temp_max_14', 'temp_min':'temp_min_14'}).swaplevel(axis=1).sort_index(axis=1)\n",
    "weather_30 = weather_tmp.shift(-30).rename(columns={'rain_mm':'rain_mm_30', 'temp_max':'temp_max_30', 'temp_min':'temp_min_30'}).swaplevel(axis=1).sort_index(axis=1)\n"
   ]
  },
  {
   "cell_type": "code",
   "execution_count": 212,
   "metadata": {
    "scrolled": true
   },
   "outputs": [
    {
     "name": "stderr",
     "output_type": "stream",
     "text": [
      "/Users/jzhu/opt/anaconda3/lib/python3.8/site-packages/pandas/core/reshape/merge.py:643: UserWarning: merging between different levels can give an unintended result (1 levels on the left,2 on the right)\n",
      "  warnings.warn(msg, UserWarning)\n"
     ]
    }
   ],
   "source": [
    "rain = weather.pivot(columns='station', values=['rain_mm']).fillna(0)\n",
    "rain_0 = rain.rename(columns={'rain_mm':'rain_mm_0'})\n",
    "rain_7 = rain.shift(-7).rename(columns={'rain_mm':'rain_mm_7'})\n",
    "rain_14 = rain.shift(-14).rename(columns={'rain_mm':'rain_mm_14'})\n",
    "rain_30 = rain.shift(-30).rename(columns={'rain_mm':'rain_mm_30'})\n",
    "\n",
    "rain_agg = bb.join(rain_0).join(rain_7).join(rain_14).join(rain_30)\n"
   ]
  },
  {
   "cell_type": "code",
   "execution_count": 179,
   "metadata": {},
   "outputs": [],
   "source": [
    "X_agg = rain_agg.drop('energy_generated', axis = 1)\n",
    "y_agg = rain_agg.energy_generated\n",
    "X_agg_train, X_agg_test, y_agg_train, y_agg_test = train_test_split(X_agg, y_agg, train_size = 0.8, random_state = 0)"
   ]
  },
  {
   "cell_type": "code",
   "execution_count": 213,
   "metadata": {
    "scrolled": true
   },
   "outputs": [
    {
     "name": "stderr",
     "output_type": "stream",
     "text": [
      "/Users/jzhu/opt/anaconda3/lib/python3.8/site-packages/pandas/core/reshape/merge.py:643: UserWarning: merging between different levels can give an unintended result (2 levels on the left,1 on the right)\n",
      "  warnings.warn(msg, UserWarning)\n",
      "/Users/jzhu/opt/anaconda3/lib/python3.8/site-packages/pandas/core/reshape/merge.py:643: UserWarning: merging between different levels can give an unintended result (2 levels on the left,1 on the right)\n",
      "  warnings.warn(msg, UserWarning)\n",
      "/Users/jzhu/opt/anaconda3/lib/python3.8/site-packages/pandas/core/reshape/merge.py:643: UserWarning: merging between different levels can give an unintended result (2 levels on the left,1 on the right)\n",
      "  warnings.warn(msg, UserWarning)\n",
      "/Users/jzhu/opt/anaconda3/lib/python3.8/site-packages/pandas/core/reshape/merge.py:643: UserWarning: merging between different levels can give an unintended result (2 levels on the left,1 on the right)\n",
      "  warnings.warn(msg, UserWarning)\n"
     ]
    }
   ],
   "source": [
    "rain_0 = rain_0.join(bb).dropna()\n",
    "rain_7 = rain_7.join(bb).dropna()\n",
    "rain_14 = rain_14.join(bb).dropna()\n",
    "rain_30 = rain_30.join(bb).dropna()"
   ]
  },
  {
   "cell_type": "code",
   "execution_count": 292,
   "metadata": {},
   "outputs": [
    {
     "name": "stdout",
     "output_type": "stream",
     "text": [
      "random forest MSE: 0.4692356022951492\n"
     ]
    }
   ],
   "source": [
    "# All stations, all lags predicting energy generated at B. Bonita\n",
    "\n",
    "random_forest_rain_agg = RandomForestRegressor(max_features = 10, random_state = 1)\n",
    "\n",
    "random_forest_rain_agg.fit(X_agg_train, y_agg_train)\n",
    "\n",
    "pred_agg = random_forest_rain_agg.predict(X_agg_test)\n",
    "\n",
    "Importance_agg = pd.DataFrame({'Importance':random_forest_rain_agg.feature_importances_*100}, \n",
    "                          index = X.columns)\n",
    "\n",
    "Importance_agg = Importance_agg.sort_values(by = 'Importance', axis = 0)\n",
    "\n",
    "print(\"random forest MSE:\", mean_absolute_error(y_agg_test, pred_agg))"
   ]
  },
  {
   "cell_type": "code",
   "execution_count": 246,
   "metadata": {},
   "outputs": [],
   "source": [
    "Importance_agg = pd.DataFrame({'Importance':random_forest_rain_agg.feature_importances_*100}, \n",
    "                          index = X.columns)\n",
    "\n",
    "Importance_agg = Importance_agg.sort_values(by = 'Importance', axis = 0)"
   ]
  },
  {
   "cell_type": "code",
   "execution_count": 247,
   "metadata": {
    "scrolled": false
   },
   "outputs": [
    {
     "data": {
      "text/html": [
       "<div>\n",
       "<style scoped>\n",
       "    .dataframe tbody tr th:only-of-type {\n",
       "        vertical-align: middle;\n",
       "    }\n",
       "\n",
       "    .dataframe tbody tr th {\n",
       "        vertical-align: top;\n",
       "    }\n",
       "\n",
       "    .dataframe thead th {\n",
       "        text-align: right;\n",
       "    }\n",
       "</style>\n",
       "<table border=\"1\" class=\"dataframe\">\n",
       "  <thead>\n",
       "    <tr style=\"text-align: right;\">\n",
       "      <th></th>\n",
       "      <th>Importance</th>\n",
       "    </tr>\n",
       "  </thead>\n",
       "  <tbody>\n",
       "    <tr>\n",
       "      <th>(rain_mm_0, A729 VOTUPORANGA)</th>\n",
       "      <td>1.909062</td>\n",
       "    </tr>\n",
       "    <tr>\n",
       "      <th>(rain_mm_0, A708 FRANCA)</th>\n",
       "      <td>1.754944</td>\n",
       "    </tr>\n",
       "    <tr>\n",
       "      <th>(rain_mm_0, A706 CAMPOS DO JORDAO)</th>\n",
       "      <td>1.688148</td>\n",
       "    </tr>\n",
       "    <tr>\n",
       "      <th>(rain_mm_0, A740 SAO LUIS DO PARAITINGA)</th>\n",
       "      <td>1.322364</td>\n",
       "    </tr>\n",
       "    <tr>\n",
       "      <th>(rain_mm_7, A706 CAMPOS DO JORDAO)</th>\n",
       "      <td>1.287535</td>\n",
       "    </tr>\n",
       "    <tr>\n",
       "      <th>(rain_mm_30, A712 IGUAPE)</th>\n",
       "      <td>1.275698</td>\n",
       "    </tr>\n",
       "    <tr>\n",
       "      <th>(rain_mm_0, A746 BARRA DO TURVO)</th>\n",
       "      <td>1.264757</td>\n",
       "    </tr>\n",
       "    <tr>\n",
       "      <th>(rain_mm_14, A712 IGUAPE)</th>\n",
       "      <td>1.252093</td>\n",
       "    </tr>\n",
       "    <tr>\n",
       "      <th>(rain_mm_7, A729 VOTUPORANGA)</th>\n",
       "      <td>1.248769</td>\n",
       "    </tr>\n",
       "    <tr>\n",
       "      <th>(rain_mm_30, A706 CAMPOS DO JORDAO)</th>\n",
       "      <td>1.232896</td>\n",
       "    </tr>\n",
       "  </tbody>\n",
       "</table>\n",
       "</div>"
      ],
      "text/plain": [
       "                                          Importance\n",
       "(rain_mm_0, A729 VOTUPORANGA)               1.909062\n",
       "(rain_mm_0, A708 FRANCA)                    1.754944\n",
       "(rain_mm_0, A706 CAMPOS DO JORDAO)          1.688148\n",
       "(rain_mm_0, A740 SAO LUIS DO PARAITINGA)    1.322364\n",
       "(rain_mm_7, A706 CAMPOS DO JORDAO)          1.287535\n",
       "(rain_mm_30, A712 IGUAPE)                   1.275698\n",
       "(rain_mm_0, A746 BARRA DO TURVO)            1.264757\n",
       "(rain_mm_14, A712 IGUAPE)                   1.252093\n",
       "(rain_mm_7, A729 VOTUPORANGA)               1.248769\n",
       "(rain_mm_30, A706 CAMPOS DO JORDAO)         1.232896"
      ]
     },
     "execution_count": 247,
     "metadata": {},
     "output_type": "execute_result"
    }
   ],
   "source": [
    "Importance.sort_values('Importance',ascending=False).head(10)"
   ]
  },
  {
   "cell_type": "code",
   "execution_count": 248,
   "metadata": {
    "scrolled": true
   },
   "outputs": [
    {
     "data": {
      "text/html": [
       "<div>\n",
       "<style scoped>\n",
       "    .dataframe tbody tr th:only-of-type {\n",
       "        vertical-align: middle;\n",
       "    }\n",
       "\n",
       "    .dataframe tbody tr th {\n",
       "        vertical-align: top;\n",
       "    }\n",
       "\n",
       "    .dataframe thead th {\n",
       "        text-align: right;\n",
       "    }\n",
       "</style>\n",
       "<table border=\"1\" class=\"dataframe\">\n",
       "  <thead>\n",
       "    <tr style=\"text-align: right;\">\n",
       "      <th></th>\n",
       "      <th>Importance</th>\n",
       "    </tr>\n",
       "  </thead>\n",
       "  <tbody>\n",
       "    <tr>\n",
       "      <th>(rain_mm_14, A744 BRAGANCA PAULISTA)</th>\n",
       "      <td>0.001361</td>\n",
       "    </tr>\n",
       "    <tr>\n",
       "      <th>(rain_mm_7, A744 BRAGANCA PAULISTA)</th>\n",
       "      <td>0.000080</td>\n",
       "    </tr>\n",
       "    <tr>\n",
       "      <th>(rain_mm_14, A770 SAO SIMAO)</th>\n",
       "      <td>0.000000</td>\n",
       "    </tr>\n",
       "    <tr>\n",
       "      <th>(rain_mm_7, A770 SAO SIMAO)</th>\n",
       "      <td>0.000000</td>\n",
       "    </tr>\n",
       "    <tr>\n",
       "      <th>(rain_mm_30, A770 SAO SIMAO)</th>\n",
       "      <td>0.000000</td>\n",
       "    </tr>\n",
       "    <tr>\n",
       "      <th>(rain_mm_14, A771 SAO PAULO - INTERLAGOS)</th>\n",
       "      <td>0.000000</td>\n",
       "    </tr>\n",
       "    <tr>\n",
       "      <th>(rain_mm_0, A771 SAO PAULO - INTERLAGOS)</th>\n",
       "      <td>0.000000</td>\n",
       "    </tr>\n",
       "    <tr>\n",
       "      <th>(rain_mm_0, A770 SAO SIMAO)</th>\n",
       "      <td>0.000000</td>\n",
       "    </tr>\n",
       "    <tr>\n",
       "      <th>(rain_mm_30, A771 SAO PAULO - INTERLAGOS)</th>\n",
       "      <td>0.000000</td>\n",
       "    </tr>\n",
       "    <tr>\n",
       "      <th>(rain_mm_7, A771 SAO PAULO - INTERLAGOS)</th>\n",
       "      <td>0.000000</td>\n",
       "    </tr>\n",
       "  </tbody>\n",
       "</table>\n",
       "</div>"
      ],
      "text/plain": [
       "                                           Importance\n",
       "(rain_mm_14, A744 BRAGANCA PAULISTA)         0.001361\n",
       "(rain_mm_7, A744 BRAGANCA PAULISTA)          0.000080\n",
       "(rain_mm_14, A770 SAO SIMAO)                 0.000000\n",
       "(rain_mm_7, A770 SAO SIMAO)                  0.000000\n",
       "(rain_mm_30, A770 SAO SIMAO)                 0.000000\n",
       "(rain_mm_14, A771 SAO PAULO - INTERLAGOS)    0.000000\n",
       "(rain_mm_0, A771 SAO PAULO - INTERLAGOS)     0.000000\n",
       "(rain_mm_0, A770 SAO SIMAO)                  0.000000\n",
       "(rain_mm_30, A771 SAO PAULO - INTERLAGOS)    0.000000\n",
       "(rain_mm_7, A771 SAO PAULO - INTERLAGOS)     0.000000"
      ]
     },
     "execution_count": 248,
     "metadata": {},
     "output_type": "execute_result"
    }
   ],
   "source": [
    "Importance.sort_values('Importance',ascending=False).tail(10)"
   ]
  },
  {
   "cell_type": "code",
   "execution_count": 295,
   "metadata": {},
   "outputs": [
    {
     "name": "stdout",
     "output_type": "stream",
     "text": [
      "random forest MSE: 0.4957405273842981\n"
     ]
    }
   ],
   "source": [
    "#Rain lagged 7 days predicting energy generated at B. Bonita\n",
    "X_7 = rain_7.drop('energy_generated', axis = 1)\n",
    "y_7 = rain_7.energy_generated\n",
    "X_7_train, X_7_test, y_7_train, y_7_test = train_test_split(X_7, y_7, train_size = 0.8, random_state = 0)\n",
    "\n",
    "\n",
    "random_forest_rain_7 = RandomForestRegressor(max_features = 42, random_state = 1)\n",
    "random_forest_rain_7.fit(X_7_train, y_7_train)\n",
    "pred_7 = random_forest_rain_7.predict(X_7_test)\n",
    "\n",
    "Importance_7 = pd.DataFrame({'Importance':random_forest_rain_7.feature_importances_*100}, \n",
    "                          index = X_7.columns)\n",
    "\n",
    "Importance_7 = Importance_7.sort_values(by = 'Importance', axis = 0)\n",
    "\n",
    "print(\"random forest MSE:\", mean_absolute_error(y_7_test, pred_7))"
   ]
  },
  {
   "cell_type": "code",
   "execution_count": 253,
   "metadata": {
    "scrolled": true
   },
   "outputs": [
    {
     "data": {
      "text/html": [
       "<div>\n",
       "<style scoped>\n",
       "    .dataframe tbody tr th:only-of-type {\n",
       "        vertical-align: middle;\n",
       "    }\n",
       "\n",
       "    .dataframe tbody tr th {\n",
       "        vertical-align: top;\n",
       "    }\n",
       "\n",
       "    .dataframe thead th {\n",
       "        text-align: right;\n",
       "    }\n",
       "</style>\n",
       "<table border=\"1\" class=\"dataframe\">\n",
       "  <thead>\n",
       "    <tr style=\"text-align: right;\">\n",
       "      <th></th>\n",
       "      <th>Importance</th>\n",
       "    </tr>\n",
       "  </thead>\n",
       "  <tbody>\n",
       "    <tr>\n",
       "      <th>(rain_mm_7, A712 IGUAPE)</th>\n",
       "      <td>6.453062</td>\n",
       "    </tr>\n",
       "    <tr>\n",
       "      <th>(rain_mm_7, A706 CAMPOS DO JORDAO)</th>\n",
       "      <td>5.833458</td>\n",
       "    </tr>\n",
       "    <tr>\n",
       "      <th>(rain_mm_7, A746 BARRA DO TURVO)</th>\n",
       "      <td>5.396074</td>\n",
       "    </tr>\n",
       "    <tr>\n",
       "      <th>(rain_mm_7, A729 VOTUPORANGA)</th>\n",
       "      <td>4.995668</td>\n",
       "    </tr>\n",
       "    <tr>\n",
       "      <th>(rain_mm_7, A740 SAO LUIS DO PARAITINGA)</th>\n",
       "      <td>4.475806</td>\n",
       "    </tr>\n",
       "    <tr>\n",
       "      <th>(rain_mm_7, A708 FRANCA)</th>\n",
       "      <td>4.149706</td>\n",
       "    </tr>\n",
       "    <tr>\n",
       "      <th>(rain_mm_7, A715 SAO MIGUEL ARCANJO)</th>\n",
       "      <td>4.085725</td>\n",
       "    </tr>\n",
       "    <tr>\n",
       "      <th>(rain_mm_7, A755 BARUERI)</th>\n",
       "      <td>4.026940</td>\n",
       "    </tr>\n",
       "    <tr>\n",
       "      <th>(rain_mm_7, A734 VALPARAISO)</th>\n",
       "      <td>3.936002</td>\n",
       "    </tr>\n",
       "    <tr>\n",
       "      <th>(rain_mm_7, A701 SAO PAULO - MIRANTE)</th>\n",
       "      <td>3.113524</td>\n",
       "    </tr>\n",
       "  </tbody>\n",
       "</table>\n",
       "</div>"
      ],
      "text/plain": [
       "                                          Importance\n",
       "(rain_mm_7, A712 IGUAPE)                    6.453062\n",
       "(rain_mm_7, A706 CAMPOS DO JORDAO)          5.833458\n",
       "(rain_mm_7, A746 BARRA DO TURVO)            5.396074\n",
       "(rain_mm_7, A729 VOTUPORANGA)               4.995668\n",
       "(rain_mm_7, A740 SAO LUIS DO PARAITINGA)    4.475806\n",
       "(rain_mm_7, A708 FRANCA)                    4.149706\n",
       "(rain_mm_7, A715 SAO MIGUEL ARCANJO)        4.085725\n",
       "(rain_mm_7, A755 BARUERI)                   4.026940\n",
       "(rain_mm_7, A734 VALPARAISO)                3.936002\n",
       "(rain_mm_7, A701 SAO PAULO - MIRANTE)       3.113524"
      ]
     },
     "execution_count": 253,
     "metadata": {},
     "output_type": "execute_result"
    }
   ],
   "source": [
    "Importance_7.sort_values('Importance', ascending=False).head(10)"
   ]
  },
  {
   "cell_type": "code",
   "execution_count": 254,
   "metadata": {
    "scrolled": true
   },
   "outputs": [
    {
     "data": {
      "text/html": [
       "<div>\n",
       "<style scoped>\n",
       "    .dataframe tbody tr th:only-of-type {\n",
       "        vertical-align: middle;\n",
       "    }\n",
       "\n",
       "    .dataframe tbody tr th {\n",
       "        vertical-align: top;\n",
       "    }\n",
       "\n",
       "    .dataframe thead th {\n",
       "        text-align: right;\n",
       "    }\n",
       "</style>\n",
       "<table border=\"1\" class=\"dataframe\">\n",
       "  <thead>\n",
       "    <tr style=\"text-align: right;\">\n",
       "      <th></th>\n",
       "      <th>Importance</th>\n",
       "    </tr>\n",
       "  </thead>\n",
       "  <tbody>\n",
       "    <tr>\n",
       "      <th>(rain_mm_7, A766 REGISTRO)</th>\n",
       "      <td>0.494901</td>\n",
       "    </tr>\n",
       "    <tr>\n",
       "      <th>(rain_mm_7, A762 DRACENA)</th>\n",
       "      <td>0.183845</td>\n",
       "    </tr>\n",
       "    <tr>\n",
       "      <th>(rain_mm_7, A768 TUPA)</th>\n",
       "      <td>0.120371</td>\n",
       "    </tr>\n",
       "    <tr>\n",
       "      <th>(rain_mm_7, A764 BEBDOURO)</th>\n",
       "      <td>0.109441</td>\n",
       "    </tr>\n",
       "    <tr>\n",
       "      <th>(rain_mm_7, A767 SAO SEBASTIAO)</th>\n",
       "      <td>0.081960</td>\n",
       "    </tr>\n",
       "    <tr>\n",
       "      <th>(rain_mm_7, A763 MARILIA)</th>\n",
       "      <td>0.070238</td>\n",
       "    </tr>\n",
       "    <tr>\n",
       "      <th>(rain_mm_7, A769 CACHOEIRA PAULISTA)</th>\n",
       "      <td>0.054613</td>\n",
       "    </tr>\n",
       "    <tr>\n",
       "      <th>(rain_mm_7, A744 BRAGANCA PAULISTA)</th>\n",
       "      <td>0.033478</td>\n",
       "    </tr>\n",
       "    <tr>\n",
       "      <th>(rain_mm_7, A770 SAO SIMAO)</th>\n",
       "      <td>0.000000</td>\n",
       "    </tr>\n",
       "    <tr>\n",
       "      <th>(rain_mm_7, A771 SAO PAULO - INTERLAGOS)</th>\n",
       "      <td>0.000000</td>\n",
       "    </tr>\n",
       "  </tbody>\n",
       "</table>\n",
       "</div>"
      ],
      "text/plain": [
       "                                          Importance\n",
       "(rain_mm_7, A766 REGISTRO)                  0.494901\n",
       "(rain_mm_7, A762 DRACENA)                   0.183845\n",
       "(rain_mm_7, A768 TUPA)                      0.120371\n",
       "(rain_mm_7, A764 BEBDOURO)                  0.109441\n",
       "(rain_mm_7, A767 SAO SEBASTIAO)             0.081960\n",
       "(rain_mm_7, A763 MARILIA)                   0.070238\n",
       "(rain_mm_7, A769 CACHOEIRA PAULISTA)        0.054613\n",
       "(rain_mm_7, A744 BRAGANCA PAULISTA)         0.033478\n",
       "(rain_mm_7, A770 SAO SIMAO)                 0.000000\n",
       "(rain_mm_7, A771 SAO PAULO - INTERLAGOS)    0.000000"
      ]
     },
     "execution_count": 254,
     "metadata": {},
     "output_type": "execute_result"
    }
   ],
   "source": [
    "Importance_7.sort_values('Importance', ascending=False).tail(10)"
   ]
  },
  {
   "cell_type": "code",
   "execution_count": 294,
   "metadata": {},
   "outputs": [
    {
     "name": "stdout",
     "output_type": "stream",
     "text": [
      "random forest MSE: 0.48153677350932284\n"
     ]
    }
   ],
   "source": [
    "#Rain lagged 14 days predicting energy generated at B. Bonita\n",
    "\n",
    "X_14 = rain_14.drop('energy_generated', axis = 1)\n",
    "y_14 = rain_14.energy_generated\n",
    "X_14_train, X_14_test, y_14_train, y_14_test = train_test_split(X_14, y_14, train_size = 0.8, random_state = 0)\n",
    "\n",
    "random_forest_rain_14 = RandomForestRegressor(max_features = 10, random_state = 1)\n",
    "\n",
    "random_forest_rain_14.fit(X_14_train, y_14_train)\n",
    "\n",
    "pred_14 = random_forest_rain_14.predict(X_14_test)\n",
    "\n",
    "Importance_14 = pd.DataFrame({'Importance':random_forest_rain_14.feature_importances_*100}, \n",
    "                          index = X_14.columns)\n",
    "\n",
    "Importance_14 = Importance_14.sort_values(by = 'Importance', axis = 0)\n",
    "\n",
    "print(\"random forest MSE:\", mean_absolute_error(y_14_test, pred_14))\n"
   ]
  },
  {
   "cell_type": "code",
   "execution_count": 262,
   "metadata": {},
   "outputs": [
    {
     "data": {
      "text/html": [
       "<div>\n",
       "<style scoped>\n",
       "    .dataframe tbody tr th:only-of-type {\n",
       "        vertical-align: middle;\n",
       "    }\n",
       "\n",
       "    .dataframe tbody tr th {\n",
       "        vertical-align: top;\n",
       "    }\n",
       "\n",
       "    .dataframe thead th {\n",
       "        text-align: right;\n",
       "    }\n",
       "</style>\n",
       "<table border=\"1\" class=\"dataframe\">\n",
       "  <thead>\n",
       "    <tr style=\"text-align: right;\">\n",
       "      <th></th>\n",
       "      <th>Importance</th>\n",
       "    </tr>\n",
       "  </thead>\n",
       "  <tbody>\n",
       "    <tr>\n",
       "      <th>(rain_mm_14, A712 IGUAPE)</th>\n",
       "      <td>6.157848</td>\n",
       "    </tr>\n",
       "    <tr>\n",
       "      <th>(rain_mm_14, A706 CAMPOS DO JORDAO)</th>\n",
       "      <td>5.568387</td>\n",
       "    </tr>\n",
       "    <tr>\n",
       "      <th>(rain_mm_14, A746 BARRA DO TURVO)</th>\n",
       "      <td>5.333534</td>\n",
       "    </tr>\n",
       "    <tr>\n",
       "      <th>(rain_mm_14, A708 FRANCA)</th>\n",
       "      <td>4.062979</td>\n",
       "    </tr>\n",
       "    <tr>\n",
       "      <th>(rain_mm_14, A740 SAO LUIS DO PARAITINGA)</th>\n",
       "      <td>3.982146</td>\n",
       "    </tr>\n",
       "    <tr>\n",
       "      <th>(rain_mm_14, A715 SAO MIGUEL ARCANJO)</th>\n",
       "      <td>3.857915</td>\n",
       "    </tr>\n",
       "    <tr>\n",
       "      <th>(rain_mm_14, A701 SAO PAULO - MIRANTE)</th>\n",
       "      <td>3.620799</td>\n",
       "    </tr>\n",
       "    <tr>\n",
       "      <th>(rain_mm_14, A729 VOTUPORANGA)</th>\n",
       "      <td>3.558242</td>\n",
       "    </tr>\n",
       "    <tr>\n",
       "      <th>(rain_mm_14, A714 ITAPEVA)</th>\n",
       "      <td>3.428178</td>\n",
       "    </tr>\n",
       "    <tr>\n",
       "      <th>(rain_mm_14, A718 RANCHARIA)</th>\n",
       "      <td>3.246155</td>\n",
       "    </tr>\n",
       "  </tbody>\n",
       "</table>\n",
       "</div>"
      ],
      "text/plain": [
       "                                           Importance\n",
       "(rain_mm_14, A712 IGUAPE)                    6.157848\n",
       "(rain_mm_14, A706 CAMPOS DO JORDAO)          5.568387\n",
       "(rain_mm_14, A746 BARRA DO TURVO)            5.333534\n",
       "(rain_mm_14, A708 FRANCA)                    4.062979\n",
       "(rain_mm_14, A740 SAO LUIS DO PARAITINGA)    3.982146\n",
       "(rain_mm_14, A715 SAO MIGUEL ARCANJO)        3.857915\n",
       "(rain_mm_14, A701 SAO PAULO - MIRANTE)       3.620799\n",
       "(rain_mm_14, A729 VOTUPORANGA)               3.558242\n",
       "(rain_mm_14, A714 ITAPEVA)                   3.428178\n",
       "(rain_mm_14, A718 RANCHARIA)                 3.246155"
      ]
     },
     "execution_count": 262,
     "metadata": {},
     "output_type": "execute_result"
    }
   ],
   "source": [
    "Importance_14.sort_values('Importance',ascending=False).head(10)"
   ]
  },
  {
   "cell_type": "code",
   "execution_count": 263,
   "metadata": {
    "scrolled": true
   },
   "outputs": [
    {
     "data": {
      "text/html": [
       "<div>\n",
       "<style scoped>\n",
       "    .dataframe tbody tr th:only-of-type {\n",
       "        vertical-align: middle;\n",
       "    }\n",
       "\n",
       "    .dataframe tbody tr th {\n",
       "        vertical-align: top;\n",
       "    }\n",
       "\n",
       "    .dataframe thead th {\n",
       "        text-align: right;\n",
       "    }\n",
       "</style>\n",
       "<table border=\"1\" class=\"dataframe\">\n",
       "  <thead>\n",
       "    <tr style=\"text-align: right;\">\n",
       "      <th></th>\n",
       "      <th>Importance</th>\n",
       "    </tr>\n",
       "  </thead>\n",
       "  <tbody>\n",
       "    <tr>\n",
       "      <th>(rain_mm_14, A765 BERTIOGA)</th>\n",
       "      <td>0.435575</td>\n",
       "    </tr>\n",
       "    <tr>\n",
       "      <th>(rain_mm_14, A769 CACHOEIRA PAULISTA)</th>\n",
       "      <td>0.269790</td>\n",
       "    </tr>\n",
       "    <tr>\n",
       "      <th>(rain_mm_14, A762 DRACENA)</th>\n",
       "      <td>0.233060</td>\n",
       "    </tr>\n",
       "    <tr>\n",
       "      <th>(rain_mm_14, A764 BEBDOURO)</th>\n",
       "      <td>0.172160</td>\n",
       "    </tr>\n",
       "    <tr>\n",
       "      <th>(rain_mm_14, A767 SAO SEBASTIAO)</th>\n",
       "      <td>0.165994</td>\n",
       "    </tr>\n",
       "    <tr>\n",
       "      <th>(rain_mm_14, A768 TUPA)</th>\n",
       "      <td>0.114605</td>\n",
       "    </tr>\n",
       "    <tr>\n",
       "      <th>(rain_mm_14, A763 MARILIA)</th>\n",
       "      <td>0.112884</td>\n",
       "    </tr>\n",
       "    <tr>\n",
       "      <th>(rain_mm_14, A744 BRAGANCA PAULISTA)</th>\n",
       "      <td>0.031205</td>\n",
       "    </tr>\n",
       "    <tr>\n",
       "      <th>(rain_mm_14, A770 SAO SIMAO)</th>\n",
       "      <td>0.000000</td>\n",
       "    </tr>\n",
       "    <tr>\n",
       "      <th>(rain_mm_14, A771 SAO PAULO - INTERLAGOS)</th>\n",
       "      <td>0.000000</td>\n",
       "    </tr>\n",
       "  </tbody>\n",
       "</table>\n",
       "</div>"
      ],
      "text/plain": [
       "                                           Importance\n",
       "(rain_mm_14, A765 BERTIOGA)                  0.435575\n",
       "(rain_mm_14, A769 CACHOEIRA PAULISTA)        0.269790\n",
       "(rain_mm_14, A762 DRACENA)                   0.233060\n",
       "(rain_mm_14, A764 BEBDOURO)                  0.172160\n",
       "(rain_mm_14, A767 SAO SEBASTIAO)             0.165994\n",
       "(rain_mm_14, A768 TUPA)                      0.114605\n",
       "(rain_mm_14, A763 MARILIA)                   0.112884\n",
       "(rain_mm_14, A744 BRAGANCA PAULISTA)         0.031205\n",
       "(rain_mm_14, A770 SAO SIMAO)                 0.000000\n",
       "(rain_mm_14, A771 SAO PAULO - INTERLAGOS)    0.000000"
      ]
     },
     "execution_count": 263,
     "metadata": {},
     "output_type": "execute_result"
    }
   ],
   "source": [
    "Importance_14.sort_values('Importance',ascending=False).tail(10)"
   ]
  }
 ],
 "metadata": {
  "kernelspec": {
   "display_name": "Python 3",
   "language": "python",
   "name": "python3"
  },
  "language_info": {
   "codemirror_mode": {
    "name": "ipython",
    "version": 3
   },
   "file_extension": ".py",
   "mimetype": "text/x-python",
   "name": "python",
   "nbconvert_exporter": "python",
   "pygments_lexer": "ipython3",
   "version": "3.7.6"
  }
 },
 "nbformat": 4,
 "nbformat_minor": 4
}
