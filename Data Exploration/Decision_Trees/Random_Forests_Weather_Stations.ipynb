{
 "cells": [
  {
   "cell_type": "code",
   "execution_count": 1,
   "metadata": {
    "scrolled": false
   },
   "outputs": [],
   "source": [
    "import pandas as pd\n",
    "import numpy as np\n",
    "import matplotlib as mpl\n",
    "import matplotlib.pyplot as plt\n",
    "import graphviz \n",
    "# might need to install -- need *both* python and system\n",
    "# so use Anaconda (or pip) to install graphviz, and also https://graphviz.org/download/\n",
    "# this was a non-trivial install on Mac (depends on Xcode command-line tools)\n",
    "# `pip install graphviz` and `brew install graphviz`\n",
    "import datetime as dt\n",
    "\n",
    "%matplotlib inline\n",
    "from sklearn.model_selection import train_test_split\n",
    "from sklearn.tree import DecisionTreeRegressor, DecisionTreeClassifier, export_graphviz\n",
    "from sklearn.ensemble import RandomForestRegressor, GradientBoostingRegressor\n",
    "from sklearn.metrics import confusion_matrix, mean_squared_error, mean_absolute_error"
   ]
  },
  {
   "cell_type": "code",
   "execution_count": 2,
   "metadata": {
    "scrolled": false
   },
   "outputs": [],
   "source": [
    "bb = pd.read_csv(\"../../Data/1999_2021/aggragate_daily_data_2000to2020.csv\", index_col = \"date\")['influent_flow'].loc['2007-01-01':'2017-12-31'].to_frame()\n",
    "\n",
    "weather = pd.read_csv(\"../../Data/historic_weather_all_SP_daily.csv\", index_col = \"date\")"
   ]
  },
  {
   "cell_type": "markdown",
   "metadata": {},
   "source": [
    "Changing columns to (station, measurement)"
   ]
  },
  {
   "cell_type": "code",
   "execution_count": 3,
   "metadata": {
    "scrolled": true
   },
   "outputs": [],
   "source": [
    "### weather_tmp = weather.pivot(columns='station', values=['rain_mm', 'temp_max','temp_min'])\n",
    "\n"
   ]
  },
  {
   "cell_type": "code",
   "execution_count": 4,
   "metadata": {},
   "outputs": [
    {
     "data": {
      "text/plain": [
       "\"#really ugly. sorry.\\nweather_0 = weather_tmp.rename(columns={'rain_mm':'rain_mm_0', 'temp_max':'temp_max_0', 'temp_min':'temp_min_0'}).swaplevel(axis=1).sort_index(axis=1)\\nweather_7 = weather_tmp.shift(-7).rename(columns={'rain_mm':'rain_mm_7', 'temp_max':'temp_max_7', 'temp_min':'temp_min_7'}).swaplevel(axis=1).sort_index(axis=1)\\nweather_14 = weather_tmp.shift(-14).rename(columns={'rain_mm':'rain_mm_14', 'temp_max':'temp_max_14', 'temp_min':'temp_min_14'}).swaplevel(axis=1).sort_index(axis=1)\\nweather_30 = weather_tmp.shift(-30).rename(columns={'rain_mm':'rain_mm_30', 'temp_max':'temp_max_30', 'temp_min':'temp_min_30'}).swaplevel(axis=1).sort_index(axis=1)\\n\""
      ]
     },
     "execution_count": 4,
     "metadata": {},
     "output_type": "execute_result"
    }
   ],
   "source": [
    "'''#really ugly. sorry.\n",
    "weather_0 = weather_tmp.rename(columns={'rain_mm':'rain_mm_0', 'temp_max':'temp_max_0', 'temp_min':'temp_min_0'}).swaplevel(axis=1).sort_index(axis=1)\n",
    "weather_7 = weather_tmp.shift(-7).rename(columns={'rain_mm':'rain_mm_7', 'temp_max':'temp_max_7', 'temp_min':'temp_min_7'}).swaplevel(axis=1).sort_index(axis=1)\n",
    "weather_14 = weather_tmp.shift(-14).rename(columns={'rain_mm':'rain_mm_14', 'temp_max':'temp_max_14', 'temp_min':'temp_min_14'}).swaplevel(axis=1).sort_index(axis=1)\n",
    "weather_30 = weather_tmp.shift(-30).rename(columns={'rain_mm':'rain_mm_30', 'temp_max':'temp_max_30', 'temp_min':'temp_min_30'}).swaplevel(axis=1).sort_index(axis=1)\n",
    "'''"
   ]
  },
  {
   "cell_type": "code",
   "execution_count": 5,
   "metadata": {
    "scrolled": true
   },
   "outputs": [
    {
     "name": "stderr",
     "output_type": "stream",
     "text": [
      "/Users/jzhu/opt/anaconda3/lib/python3.8/site-packages/pandas/core/reshape/merge.py:643: UserWarning: merging between different levels can give an unintended result (1 levels on the left,2 on the right)\n",
      "  warnings.warn(msg, UserWarning)\n"
     ]
    }
   ],
   "source": [
    "rain = weather.pivot(columns='station', values=['rain_mm']).fillna(0)\n",
    "rain_0 = rain.rename(columns={'rain_mm':'rain_mm_0'})\n",
    "rain_7 = rain.shift(-7).rename(columns={'rain_mm':'rain_mm_7'})\n",
    "rain_14 = rain.shift(-14).rename(columns={'rain_mm':'rain_mm_14'})\n",
    "rain_30 = rain.shift(-30).rename(columns={'rain_mm':'rain_mm_30'})\n",
    "\n",
    "rain_agg = bb.join(rain_0).join(rain_7).join(rain_14).join(rain_30)\n"
   ]
  },
  {
   "cell_type": "code",
   "execution_count": 6,
   "metadata": {},
   "outputs": [],
   "source": [
    "X_agg = rain_agg.drop('influent_flow', axis = 1)\n",
    "y_agg = rain_agg.influent_flow\n",
    "X_agg_train, X_agg_test, y_agg_train, y_agg_test = train_test_split(X_agg, y_agg, train_size = 0.8, random_state = 0)"
   ]
  },
  {
   "cell_type": "code",
   "execution_count": 7,
   "metadata": {
    "scrolled": true
   },
   "outputs": [
    {
     "name": "stderr",
     "output_type": "stream",
     "text": [
      "/Users/jzhu/opt/anaconda3/lib/python3.8/site-packages/pandas/core/reshape/merge.py:643: UserWarning: merging between different levels can give an unintended result (2 levels on the left,1 on the right)\n",
      "  warnings.warn(msg, UserWarning)\n",
      "/Users/jzhu/opt/anaconda3/lib/python3.8/site-packages/pandas/core/reshape/merge.py:643: UserWarning: merging between different levels can give an unintended result (2 levels on the left,1 on the right)\n",
      "  warnings.warn(msg, UserWarning)\n",
      "/Users/jzhu/opt/anaconda3/lib/python3.8/site-packages/pandas/core/reshape/merge.py:643: UserWarning: merging between different levels can give an unintended result (2 levels on the left,1 on the right)\n",
      "  warnings.warn(msg, UserWarning)\n",
      "/Users/jzhu/opt/anaconda3/lib/python3.8/site-packages/pandas/core/reshape/merge.py:643: UserWarning: merging between different levels can give an unintended result (2 levels on the left,1 on the right)\n",
      "  warnings.warn(msg, UserWarning)\n"
     ]
    }
   ],
   "source": [
    "rain_0 = rain_0.join(bb).dropna()\n",
    "rain_7 = rain_7.join(bb).dropna()\n",
    "rain_14 = rain_14.join(bb).dropna()\n",
    "rain_30 = rain_30.join(bb).dropna()"
   ]
  },
  {
   "cell_type": "markdown",
   "metadata": {},
   "source": [
    "## This is all stations with lags of 7, 14, and 30. "
   ]
  },
  {
   "cell_type": "code",
   "execution_count": 9,
   "metadata": {},
   "outputs": [
    {
     "name": "stdout",
     "output_type": "stream",
     "text": [
      "random forest MAE: 184.89466679104476\n"
     ]
    }
   ],
   "source": [
    "# All stations, all lags predicting energy generated at B. Bonita\n",
    "\n",
    "random_forest_rain_agg = RandomForestRegressor(max_features = 10, random_state = 1)\n",
    "\n",
    "random_forest_rain_agg.fit(X_agg_train, y_agg_train)\n",
    "\n",
    "pred_agg = random_forest_rain_agg.predict(X_agg_test)\n",
    "\n",
    "Importance_agg = pd.DataFrame({'Importance':random_forest_rain_agg.feature_importances_*100}, \n",
    "                          index = X_agg.columns)\n",
    "\n",
    "Importance_agg = Importance_agg.sort_values(by = 'Importance', axis = 0)\n",
    "\n",
    "print(\"random forest MAE:\", mean_absolute_error(y_agg_test, pred_agg))"
   ]
  },
  {
   "cell_type": "code",
   "execution_count": 11,
   "metadata": {},
   "outputs": [],
   "source": [
    "Importance_agg = pd.DataFrame({'Importance':random_forest_rain_agg.feature_importances_*100}, \n",
    "                          index = X_agg.columns)\n",
    "\n",
    "Importance_agg = Importance_agg.sort_values(by = 'Importance', axis = 0)"
   ]
  },
  {
   "cell_type": "code",
   "execution_count": 13,
   "metadata": {
    "scrolled": false
   },
   "outputs": [
    {
     "data": {
      "text/html": [
       "<div>\n",
       "<style scoped>\n",
       "    .dataframe tbody tr th:only-of-type {\n",
       "        vertical-align: middle;\n",
       "    }\n",
       "\n",
       "    .dataframe tbody tr th {\n",
       "        vertical-align: top;\n",
       "    }\n",
       "\n",
       "    .dataframe thead th {\n",
       "        text-align: right;\n",
       "    }\n",
       "</style>\n",
       "<table border=\"1\" class=\"dataframe\">\n",
       "  <thead>\n",
       "    <tr style=\"text-align: right;\">\n",
       "      <th></th>\n",
       "      <th>Importance</th>\n",
       "    </tr>\n",
       "  </thead>\n",
       "  <tbody>\n",
       "    <tr>\n",
       "      <th>(rain_mm_0, A729 VOTUPORANGA)</th>\n",
       "      <td>5.095039</td>\n",
       "    </tr>\n",
       "    <tr>\n",
       "      <th>(rain_mm_0, A708 FRANCA)</th>\n",
       "      <td>2.406132</td>\n",
       "    </tr>\n",
       "    <tr>\n",
       "      <th>(rain_mm_0, A706 CAMPOS DO JORDAO)</th>\n",
       "      <td>2.131853</td>\n",
       "    </tr>\n",
       "    <tr>\n",
       "      <th>(rain_mm_0, A726 PIRACICABA)</th>\n",
       "      <td>1.959240</td>\n",
       "    </tr>\n",
       "    <tr>\n",
       "      <th>(rain_mm_0, A727 LINS)</th>\n",
       "      <td>1.922486</td>\n",
       "    </tr>\n",
       "    <tr>\n",
       "      <th>(rain_mm_7, A729 VOTUPORANGA)</th>\n",
       "      <td>1.697760</td>\n",
       "    </tr>\n",
       "    <tr>\n",
       "      <th>(rain_mm_0, A737 IBITINGA)</th>\n",
       "      <td>1.673203</td>\n",
       "    </tr>\n",
       "    <tr>\n",
       "      <th>(rain_mm_0, A728 TAUBATE)</th>\n",
       "      <td>1.628817</td>\n",
       "    </tr>\n",
       "    <tr>\n",
       "      <th>(rain_mm_0, A711 SAO CARLOS)</th>\n",
       "      <td>1.594796</td>\n",
       "    </tr>\n",
       "    <tr>\n",
       "      <th>(rain_mm_0, A740 SAO LUIS DO PARAITINGA)</th>\n",
       "      <td>1.575475</td>\n",
       "    </tr>\n",
       "  </tbody>\n",
       "</table>\n",
       "</div>"
      ],
      "text/plain": [
       "                                          Importance\n",
       "(rain_mm_0, A729 VOTUPORANGA)               5.095039\n",
       "(rain_mm_0, A708 FRANCA)                    2.406132\n",
       "(rain_mm_0, A706 CAMPOS DO JORDAO)          2.131853\n",
       "(rain_mm_0, A726 PIRACICABA)                1.959240\n",
       "(rain_mm_0, A727 LINS)                      1.922486\n",
       "(rain_mm_7, A729 VOTUPORANGA)               1.697760\n",
       "(rain_mm_0, A737 IBITINGA)                  1.673203\n",
       "(rain_mm_0, A728 TAUBATE)                   1.628817\n",
       "(rain_mm_0, A711 SAO CARLOS)                1.594796\n",
       "(rain_mm_0, A740 SAO LUIS DO PARAITINGA)    1.575475"
      ]
     },
     "execution_count": 13,
     "metadata": {},
     "output_type": "execute_result"
    }
   ],
   "source": [
    "Importance_agg.sort_values('Importance',ascending=False).head(10)"
   ]
  },
  {
   "cell_type": "code",
   "execution_count": 15,
   "metadata": {
    "scrolled": false
   },
   "outputs": [
    {
     "data": {
      "text/html": [
       "<div>\n",
       "<style scoped>\n",
       "    .dataframe tbody tr th:only-of-type {\n",
       "        vertical-align: middle;\n",
       "    }\n",
       "\n",
       "    .dataframe tbody tr th {\n",
       "        vertical-align: top;\n",
       "    }\n",
       "\n",
       "    .dataframe thead th {\n",
       "        text-align: right;\n",
       "    }\n",
       "</style>\n",
       "<table border=\"1\" class=\"dataframe\">\n",
       "  <thead>\n",
       "    <tr style=\"text-align: right;\">\n",
       "      <th></th>\n",
       "      <th>Importance</th>\n",
       "    </tr>\n",
       "  </thead>\n",
       "  <tbody>\n",
       "    <tr>\n",
       "      <th>(rain_mm_14, A767 SAO SEBASTIAO)</th>\n",
       "      <td>0.001818</td>\n",
       "    </tr>\n",
       "    <tr>\n",
       "      <th>(rain_mm_0, A744 BRAGANCA PAULISTA)</th>\n",
       "      <td>0.000049</td>\n",
       "    </tr>\n",
       "    <tr>\n",
       "      <th>(rain_mm_14, A770 SAO SIMAO)</th>\n",
       "      <td>0.000000</td>\n",
       "    </tr>\n",
       "    <tr>\n",
       "      <th>(rain_mm_7, A770 SAO SIMAO)</th>\n",
       "      <td>0.000000</td>\n",
       "    </tr>\n",
       "    <tr>\n",
       "      <th>(rain_mm_30, A770 SAO SIMAO)</th>\n",
       "      <td>0.000000</td>\n",
       "    </tr>\n",
       "    <tr>\n",
       "      <th>(rain_mm_14, A771 SAO PAULO - INTERLAGOS)</th>\n",
       "      <td>0.000000</td>\n",
       "    </tr>\n",
       "    <tr>\n",
       "      <th>(rain_mm_0, A771 SAO PAULO - INTERLAGOS)</th>\n",
       "      <td>0.000000</td>\n",
       "    </tr>\n",
       "    <tr>\n",
       "      <th>(rain_mm_0, A770 SAO SIMAO)</th>\n",
       "      <td>0.000000</td>\n",
       "    </tr>\n",
       "    <tr>\n",
       "      <th>(rain_mm_30, A771 SAO PAULO - INTERLAGOS)</th>\n",
       "      <td>0.000000</td>\n",
       "    </tr>\n",
       "    <tr>\n",
       "      <th>(rain_mm_7, A771 SAO PAULO - INTERLAGOS)</th>\n",
       "      <td>0.000000</td>\n",
       "    </tr>\n",
       "  </tbody>\n",
       "</table>\n",
       "</div>"
      ],
      "text/plain": [
       "                                           Importance\n",
       "(rain_mm_14, A767 SAO SEBASTIAO)             0.001818\n",
       "(rain_mm_0, A744 BRAGANCA PAULISTA)          0.000049\n",
       "(rain_mm_14, A770 SAO SIMAO)                 0.000000\n",
       "(rain_mm_7, A770 SAO SIMAO)                  0.000000\n",
       "(rain_mm_30, A770 SAO SIMAO)                 0.000000\n",
       "(rain_mm_14, A771 SAO PAULO - INTERLAGOS)    0.000000\n",
       "(rain_mm_0, A771 SAO PAULO - INTERLAGOS)     0.000000\n",
       "(rain_mm_0, A770 SAO SIMAO)                  0.000000\n",
       "(rain_mm_30, A771 SAO PAULO - INTERLAGOS)    0.000000\n",
       "(rain_mm_7, A771 SAO PAULO - INTERLAGOS)     0.000000"
      ]
     },
     "execution_count": 15,
     "metadata": {},
     "output_type": "execute_result"
    }
   ],
   "source": [
    "Importance_agg.sort_values('Importance',ascending=False).tail(10)"
   ]
  },
  {
   "cell_type": "markdown",
   "metadata": {},
   "source": [
    "## All stations but only lagged 7 days"
   ]
  },
  {
   "cell_type": "code",
   "execution_count": 17,
   "metadata": {},
   "outputs": [
    {
     "name": "stdout",
     "output_type": "stream",
     "text": [
      "random forest MAE: 227.10834472512687\n"
     ]
    }
   ],
   "source": [
    "#Rain lagged 7 days predicting energy generated at B. Bonita\n",
    "X_7 = rain_7.drop('influent_flow', axis = 1)\n",
    "y_7 = rain_7.influent_flow\n",
    "X_7_train, X_7_test, y_7_train, y_7_test = train_test_split(X_7, y_7, train_size = 0.8, random_state = 0)\n",
    "\n",
    "\n",
    "random_forest_rain_7 = RandomForestRegressor(max_features = 42, random_state = 1)\n",
    "random_forest_rain_7.fit(X_7_train, y_7_train)\n",
    "pred_7 = random_forest_rain_7.predict(X_7_test)\n",
    "\n",
    "Importance_7 = pd.DataFrame({'Importance':random_forest_rain_7.feature_importances_*100}, \n",
    "                          index = X_7.columns)\n",
    "\n",
    "Importance_7 = Importance_7.sort_values(by = 'Importance', axis = 0)\n",
    "\n",
    "print(\"random forest MAE:\", mean_absolute_error(y_7_test, pred_7))"
   ]
  },
  {
   "cell_type": "code",
   "execution_count": 18,
   "metadata": {
    "scrolled": true
   },
   "outputs": [
    {
     "data": {
      "text/html": [
       "<div>\n",
       "<style scoped>\n",
       "    .dataframe tbody tr th:only-of-type {\n",
       "        vertical-align: middle;\n",
       "    }\n",
       "\n",
       "    .dataframe tbody tr th {\n",
       "        vertical-align: top;\n",
       "    }\n",
       "\n",
       "    .dataframe thead th {\n",
       "        text-align: right;\n",
       "    }\n",
       "</style>\n",
       "<table border=\"1\" class=\"dataframe\">\n",
       "  <thead>\n",
       "    <tr style=\"text-align: right;\">\n",
       "      <th></th>\n",
       "      <th>Importance</th>\n",
       "    </tr>\n",
       "  </thead>\n",
       "  <tbody>\n",
       "    <tr>\n",
       "      <th>(rain_mm_7, A729 VOTUPORANGA)</th>\n",
       "      <td>9.803277</td>\n",
       "    </tr>\n",
       "    <tr>\n",
       "      <th>(rain_mm_7, A708 FRANCA)</th>\n",
       "      <td>5.896072</td>\n",
       "    </tr>\n",
       "    <tr>\n",
       "      <th>(rain_mm_7, A746 BARRA DO TURVO)</th>\n",
       "      <td>5.692830</td>\n",
       "    </tr>\n",
       "    <tr>\n",
       "      <th>(rain_mm_7, A740 SAO LUIS DO PARAITINGA)</th>\n",
       "      <td>5.218907</td>\n",
       "    </tr>\n",
       "    <tr>\n",
       "      <th>(rain_mm_7, A706 CAMPOS DO JORDAO)</th>\n",
       "      <td>5.018756</td>\n",
       "    </tr>\n",
       "    <tr>\n",
       "      <th>(rain_mm_7, A712 IGUAPE)</th>\n",
       "      <td>4.840435</td>\n",
       "    </tr>\n",
       "    <tr>\n",
       "      <th>(rain_mm_7, A701 SAO PAULO - MIRANTE)</th>\n",
       "      <td>3.646024</td>\n",
       "    </tr>\n",
       "    <tr>\n",
       "      <th>(rain_mm_7, A715 SAO MIGUEL ARCANJO)</th>\n",
       "      <td>3.332790</td>\n",
       "    </tr>\n",
       "    <tr>\n",
       "      <th>(rain_mm_7, A755 BARUERI)</th>\n",
       "      <td>3.065182</td>\n",
       "    </tr>\n",
       "    <tr>\n",
       "      <th>(rain_mm_7, A718 RANCHARIA)</th>\n",
       "      <td>3.019567</td>\n",
       "    </tr>\n",
       "  </tbody>\n",
       "</table>\n",
       "</div>"
      ],
      "text/plain": [
       "                                          Importance\n",
       "(rain_mm_7, A729 VOTUPORANGA)               9.803277\n",
       "(rain_mm_7, A708 FRANCA)                    5.896072\n",
       "(rain_mm_7, A746 BARRA DO TURVO)            5.692830\n",
       "(rain_mm_7, A740 SAO LUIS DO PARAITINGA)    5.218907\n",
       "(rain_mm_7, A706 CAMPOS DO JORDAO)          5.018756\n",
       "(rain_mm_7, A712 IGUAPE)                    4.840435\n",
       "(rain_mm_7, A701 SAO PAULO - MIRANTE)       3.646024\n",
       "(rain_mm_7, A715 SAO MIGUEL ARCANJO)        3.332790\n",
       "(rain_mm_7, A755 BARUERI)                   3.065182\n",
       "(rain_mm_7, A718 RANCHARIA)                 3.019567"
      ]
     },
     "execution_count": 18,
     "metadata": {},
     "output_type": "execute_result"
    }
   ],
   "source": [
    "Importance_7.sort_values('Importance', ascending=False).head(10)"
   ]
  },
  {
   "cell_type": "code",
   "execution_count": 19,
   "metadata": {
    "scrolled": true
   },
   "outputs": [
    {
     "data": {
      "text/html": [
       "<div>\n",
       "<style scoped>\n",
       "    .dataframe tbody tr th:only-of-type {\n",
       "        vertical-align: middle;\n",
       "    }\n",
       "\n",
       "    .dataframe tbody tr th {\n",
       "        vertical-align: top;\n",
       "    }\n",
       "\n",
       "    .dataframe thead th {\n",
       "        text-align: right;\n",
       "    }\n",
       "</style>\n",
       "<table border=\"1\" class=\"dataframe\">\n",
       "  <thead>\n",
       "    <tr style=\"text-align: right;\">\n",
       "      <th></th>\n",
       "      <th>Importance</th>\n",
       "    </tr>\n",
       "  </thead>\n",
       "  <tbody>\n",
       "    <tr>\n",
       "      <th>(rain_mm_7, A765 BERTIOGA)</th>\n",
       "      <td>0.477751</td>\n",
       "    </tr>\n",
       "    <tr>\n",
       "      <th>(rain_mm_7, A762 DRACENA)</th>\n",
       "      <td>0.469475</td>\n",
       "    </tr>\n",
       "    <tr>\n",
       "      <th>(rain_mm_7, A764 BEBDOURO)</th>\n",
       "      <td>0.117484</td>\n",
       "    </tr>\n",
       "    <tr>\n",
       "      <th>(rain_mm_7, A768 TUPA)</th>\n",
       "      <td>0.020969</td>\n",
       "    </tr>\n",
       "    <tr>\n",
       "      <th>(rain_mm_7, A763 MARILIA)</th>\n",
       "      <td>0.019571</td>\n",
       "    </tr>\n",
       "    <tr>\n",
       "      <th>(rain_mm_7, A769 CACHOEIRA PAULISTA)</th>\n",
       "      <td>0.007504</td>\n",
       "    </tr>\n",
       "    <tr>\n",
       "      <th>(rain_mm_7, A767 SAO SEBASTIAO)</th>\n",
       "      <td>0.005647</td>\n",
       "    </tr>\n",
       "    <tr>\n",
       "      <th>(rain_mm_7, A744 BRAGANCA PAULISTA)</th>\n",
       "      <td>0.002269</td>\n",
       "    </tr>\n",
       "    <tr>\n",
       "      <th>(rain_mm_7, A770 SAO SIMAO)</th>\n",
       "      <td>0.000000</td>\n",
       "    </tr>\n",
       "    <tr>\n",
       "      <th>(rain_mm_7, A771 SAO PAULO - INTERLAGOS)</th>\n",
       "      <td>0.000000</td>\n",
       "    </tr>\n",
       "  </tbody>\n",
       "</table>\n",
       "</div>"
      ],
      "text/plain": [
       "                                          Importance\n",
       "(rain_mm_7, A765 BERTIOGA)                  0.477751\n",
       "(rain_mm_7, A762 DRACENA)                   0.469475\n",
       "(rain_mm_7, A764 BEBDOURO)                  0.117484\n",
       "(rain_mm_7, A768 TUPA)                      0.020969\n",
       "(rain_mm_7, A763 MARILIA)                   0.019571\n",
       "(rain_mm_7, A769 CACHOEIRA PAULISTA)        0.007504\n",
       "(rain_mm_7, A767 SAO SEBASTIAO)             0.005647\n",
       "(rain_mm_7, A744 BRAGANCA PAULISTA)         0.002269\n",
       "(rain_mm_7, A770 SAO SIMAO)                 0.000000\n",
       "(rain_mm_7, A771 SAO PAULO - INTERLAGOS)    0.000000"
      ]
     },
     "execution_count": 19,
     "metadata": {},
     "output_type": "execute_result"
    }
   ],
   "source": [
    "Importance_7.sort_values('Importance', ascending=False).tail(10)"
   ]
  },
  {
   "cell_type": "markdown",
   "metadata": {},
   "source": [
    "## All stations lagged 14 days"
   ]
  },
  {
   "cell_type": "code",
   "execution_count": 23,
   "metadata": {},
   "outputs": [
    {
     "name": "stdout",
     "output_type": "stream",
     "text": [
      "random forest MAE: 217.7499808232889\n"
     ]
    }
   ],
   "source": [
    "#Rain lagged 14 days predicting energy generated at B. Bonita\n",
    "\n",
    "X_14 = rain_14.drop('influent_flow', axis = 1)\n",
    "y_14 = rain_14.influent_flow\n",
    "X_14_train, X_14_test, y_14_train, y_14_test = train_test_split(X_14, y_14, train_size = 0.8, random_state = 0)\n",
    "\n",
    "random_forest_rain_14 = RandomForestRegressor(max_features = 10, random_state = 1)\n",
    "\n",
    "random_forest_rain_14.fit(X_14_train, y_14_train)\n",
    "\n",
    "pred_14 = random_forest_rain_14.predict(X_14_test)\n",
    "\n",
    "Importance_14 = pd.DataFrame({'Importance':random_forest_rain_14.feature_importances_*100}, \n",
    "                          index = X_14.columns)\n",
    "\n",
    "Importance_14 = Importance_14.sort_values(by = 'Importance', axis = 0)\n",
    "\n",
    "print(\"random forest MAE:\", mean_absolute_error(y_14_test, pred_14))\n"
   ]
  },
  {
   "cell_type": "code",
   "execution_count": 25,
   "metadata": {},
   "outputs": [
    {
     "data": {
      "text/html": [
       "<div>\n",
       "<style scoped>\n",
       "    .dataframe tbody tr th:only-of-type {\n",
       "        vertical-align: middle;\n",
       "    }\n",
       "\n",
       "    .dataframe tbody tr th {\n",
       "        vertical-align: top;\n",
       "    }\n",
       "\n",
       "    .dataframe thead th {\n",
       "        text-align: right;\n",
       "    }\n",
       "</style>\n",
       "<table border=\"1\" class=\"dataframe\">\n",
       "  <thead>\n",
       "    <tr style=\"text-align: right;\">\n",
       "      <th></th>\n",
       "      <th>Importance</th>\n",
       "    </tr>\n",
       "  </thead>\n",
       "  <tbody>\n",
       "    <tr>\n",
       "      <th>(rain_mm_14, A729 VOTUPORANGA)</th>\n",
       "      <td>5.995720</td>\n",
       "    </tr>\n",
       "    <tr>\n",
       "      <th>(rain_mm_14, A746 BARRA DO TURVO)</th>\n",
       "      <td>4.892334</td>\n",
       "    </tr>\n",
       "    <tr>\n",
       "      <th>(rain_mm_14, A708 FRANCA)</th>\n",
       "      <td>4.820513</td>\n",
       "    </tr>\n",
       "    <tr>\n",
       "      <th>(rain_mm_14, A712 IGUAPE)</th>\n",
       "      <td>4.653864</td>\n",
       "    </tr>\n",
       "    <tr>\n",
       "      <th>(rain_mm_14, A714 ITAPEVA)</th>\n",
       "      <td>4.222909</td>\n",
       "    </tr>\n",
       "    <tr>\n",
       "      <th>(rain_mm_14, A706 CAMPOS DO JORDAO)</th>\n",
       "      <td>3.932453</td>\n",
       "    </tr>\n",
       "    <tr>\n",
       "      <th>(rain_mm_14, A701 SAO PAULO - MIRANTE)</th>\n",
       "      <td>3.903729</td>\n",
       "    </tr>\n",
       "    <tr>\n",
       "      <th>(rain_mm_14, A718 RANCHARIA)</th>\n",
       "      <td>3.891657</td>\n",
       "    </tr>\n",
       "    <tr>\n",
       "      <th>(rain_mm_14, A740 SAO LUIS DO PARAITINGA)</th>\n",
       "      <td>3.784053</td>\n",
       "    </tr>\n",
       "    <tr>\n",
       "      <th>(rain_mm_14, A715 SAO MIGUEL ARCANJO)</th>\n",
       "      <td>3.535319</td>\n",
       "    </tr>\n",
       "  </tbody>\n",
       "</table>\n",
       "</div>"
      ],
      "text/plain": [
       "                                           Importance\n",
       "(rain_mm_14, A729 VOTUPORANGA)               5.995720\n",
       "(rain_mm_14, A746 BARRA DO TURVO)            4.892334\n",
       "(rain_mm_14, A708 FRANCA)                    4.820513\n",
       "(rain_mm_14, A712 IGUAPE)                    4.653864\n",
       "(rain_mm_14, A714 ITAPEVA)                   4.222909\n",
       "(rain_mm_14, A706 CAMPOS DO JORDAO)          3.932453\n",
       "(rain_mm_14, A701 SAO PAULO - MIRANTE)       3.903729\n",
       "(rain_mm_14, A718 RANCHARIA)                 3.891657\n",
       "(rain_mm_14, A740 SAO LUIS DO PARAITINGA)    3.784053\n",
       "(rain_mm_14, A715 SAO MIGUEL ARCANJO)        3.535319"
      ]
     },
     "execution_count": 25,
     "metadata": {},
     "output_type": "execute_result"
    }
   ],
   "source": [
    "Importance_14.sort_values('Importance',ascending=False).head(10)"
   ]
  },
  {
   "cell_type": "code",
   "execution_count": 26,
   "metadata": {
    "scrolled": true
   },
   "outputs": [
    {
     "data": {
      "text/html": [
       "<div>\n",
       "<style scoped>\n",
       "    .dataframe tbody tr th:only-of-type {\n",
       "        vertical-align: middle;\n",
       "    }\n",
       "\n",
       "    .dataframe tbody tr th {\n",
       "        vertical-align: top;\n",
       "    }\n",
       "\n",
       "    .dataframe thead th {\n",
       "        text-align: right;\n",
       "    }\n",
       "</style>\n",
       "<table border=\"1\" class=\"dataframe\">\n",
       "  <thead>\n",
       "    <tr style=\"text-align: right;\">\n",
       "      <th></th>\n",
       "      <th>Importance</th>\n",
       "    </tr>\n",
       "  </thead>\n",
       "  <tbody>\n",
       "    <tr>\n",
       "      <th>(rain_mm_14, A766 REGISTRO)</th>\n",
       "      <td>0.401039</td>\n",
       "    </tr>\n",
       "    <tr>\n",
       "      <th>(rain_mm_14, A764 BEBDOURO)</th>\n",
       "      <td>0.195455</td>\n",
       "    </tr>\n",
       "    <tr>\n",
       "      <th>(rain_mm_14, A762 DRACENA)</th>\n",
       "      <td>0.162783</td>\n",
       "    </tr>\n",
       "    <tr>\n",
       "      <th>(rain_mm_14, A763 MARILIA)</th>\n",
       "      <td>0.062132</td>\n",
       "    </tr>\n",
       "    <tr>\n",
       "      <th>(rain_mm_14, A768 TUPA)</th>\n",
       "      <td>0.044965</td>\n",
       "    </tr>\n",
       "    <tr>\n",
       "      <th>(rain_mm_14, A767 SAO SEBASTIAO)</th>\n",
       "      <td>0.018572</td>\n",
       "    </tr>\n",
       "    <tr>\n",
       "      <th>(rain_mm_14, A769 CACHOEIRA PAULISTA)</th>\n",
       "      <td>0.017569</td>\n",
       "    </tr>\n",
       "    <tr>\n",
       "      <th>(rain_mm_14, A744 BRAGANCA PAULISTA)</th>\n",
       "      <td>0.004421</td>\n",
       "    </tr>\n",
       "    <tr>\n",
       "      <th>(rain_mm_14, A770 SAO SIMAO)</th>\n",
       "      <td>0.000000</td>\n",
       "    </tr>\n",
       "    <tr>\n",
       "      <th>(rain_mm_14, A771 SAO PAULO - INTERLAGOS)</th>\n",
       "      <td>0.000000</td>\n",
       "    </tr>\n",
       "  </tbody>\n",
       "</table>\n",
       "</div>"
      ],
      "text/plain": [
       "                                           Importance\n",
       "(rain_mm_14, A766 REGISTRO)                  0.401039\n",
       "(rain_mm_14, A764 BEBDOURO)                  0.195455\n",
       "(rain_mm_14, A762 DRACENA)                   0.162783\n",
       "(rain_mm_14, A763 MARILIA)                   0.062132\n",
       "(rain_mm_14, A768 TUPA)                      0.044965\n",
       "(rain_mm_14, A767 SAO SEBASTIAO)             0.018572\n",
       "(rain_mm_14, A769 CACHOEIRA PAULISTA)        0.017569\n",
       "(rain_mm_14, A744 BRAGANCA PAULISTA)         0.004421\n",
       "(rain_mm_14, A770 SAO SIMAO)                 0.000000\n",
       "(rain_mm_14, A771 SAO PAULO - INTERLAGOS)    0.000000"
      ]
     },
     "execution_count": 26,
     "metadata": {},
     "output_type": "execute_result"
    }
   ],
   "source": [
    "Importance_14.sort_values('Importance',ascending=False).tail(10)"
   ]
  },
  {
   "cell_type": "markdown",
   "metadata": {},
   "source": [
    "## All stations lagged 30 days"
   ]
  },
  {
   "cell_type": "code",
   "execution_count": 28,
   "metadata": {},
   "outputs": [
    {
     "name": "stdout",
     "output_type": "stream",
     "text": [
      "random forest MAE: 232.57995188712061\n"
     ]
    }
   ],
   "source": [
    "X_30 = rain_30.drop('influent_flow', axis = 1)\n",
    "y_30 = rain_30.influent_flow\n",
    "X_30_train, X_30_test, y_30_train, y_30_test = train_test_split(X_30, y_30, train_size = 0.8, random_state = 0)\n",
    "\n",
    "random_forest_rain_30 = RandomForestRegressor(max_features = 10, random_state = 1)\n",
    "\n",
    "random_forest_rain_30.fit(X_30_train, y_30_train)\n",
    "\n",
    "pred_30 = random_forest_rain_30.predict(X_30_test)\n",
    "\n",
    "Importance_30 = pd.DataFrame({'Importance':random_forest_rain_30.feature_importances_*100}, \n",
    "                          index = X_30.columns)\n",
    "\n",
    "Importance_30 = Importance_30.sort_values(by = 'Importance', axis = 0)\n",
    "\n",
    "print(\"random forest MAE:\", mean_absolute_error(y_30_test, pred_30))\n"
   ]
  },
  {
   "cell_type": "code",
   "execution_count": 29,
   "metadata": {
    "scrolled": true
   },
   "outputs": [
    {
     "ename": "NameError",
     "evalue": "name 'Importance' is not defined",
     "output_type": "error",
     "traceback": [
      "\u001b[0;31m---------------------------------------------------------------------------\u001b[0m",
      "\u001b[0;31mNameError\u001b[0m                                 Traceback (most recent call last)",
      "\u001b[0;32m<ipython-input-29-9b498342c059>\u001b[0m in \u001b[0;36m<module>\u001b[0;34m\u001b[0m\n\u001b[0;32m----> 1\u001b[0;31m \u001b[0mImportance\u001b[0m\u001b[0;34m.\u001b[0m\u001b[0msort_values\u001b[0m\u001b[0;34m(\u001b[0m\u001b[0;34m'Importance'\u001b[0m\u001b[0;34m,\u001b[0m\u001b[0mascending\u001b[0m\u001b[0;34m=\u001b[0m\u001b[0;32mFalse\u001b[0m\u001b[0;34m)\u001b[0m\u001b[0;34m.\u001b[0m\u001b[0mhead\u001b[0m\u001b[0;34m(\u001b[0m\u001b[0;36m10\u001b[0m\u001b[0;34m)\u001b[0m\u001b[0;34m\u001b[0m\u001b[0;34m\u001b[0m\u001b[0m\n\u001b[0m",
      "\u001b[0;31mNameError\u001b[0m: name 'Importance' is not defined"
     ]
    }
   ],
   "source": [
    "Importance.sort_values('Importance',ascending=False).head(10)\n"
   ]
  },
  {
   "cell_type": "code",
   "execution_count": 30,
   "metadata": {},
   "outputs": [
    {
     "ename": "NameError",
     "evalue": "name 'Importance' is not defined",
     "output_type": "error",
     "traceback": [
      "\u001b[0;31m---------------------------------------------------------------------------\u001b[0m",
      "\u001b[0;31mNameError\u001b[0m                                 Traceback (most recent call last)",
      "\u001b[0;32m<ipython-input-30-9936f33be6d1>\u001b[0m in \u001b[0;36m<module>\u001b[0;34m\u001b[0m\n\u001b[0;32m----> 1\u001b[0;31m \u001b[0mImportance\u001b[0m\u001b[0;34m.\u001b[0m\u001b[0msort_values\u001b[0m\u001b[0;34m(\u001b[0m\u001b[0;34m'Importance'\u001b[0m\u001b[0;34m,\u001b[0m\u001b[0mascending\u001b[0m\u001b[0;34m=\u001b[0m\u001b[0;32mFalse\u001b[0m\u001b[0;34m)\u001b[0m\u001b[0;34m.\u001b[0m\u001b[0mtail\u001b[0m\u001b[0;34m(\u001b[0m\u001b[0;36m10\u001b[0m\u001b[0;34m)\u001b[0m\u001b[0;34m\u001b[0m\u001b[0;34m\u001b[0m\u001b[0m\n\u001b[0m",
      "\u001b[0;31mNameError\u001b[0m: name 'Importance' is not defined"
     ]
    }
   ],
   "source": [
    "Importance.sort_values('Importance',ascending=False).tail(10)"
   ]
  }
 ],
 "metadata": {
  "kernelspec": {
   "display_name": "Python 3",
   "language": "python",
   "name": "python3"
  },
  "language_info": {
   "codemirror_mode": {
    "name": "ipython",
    "version": 3
   },
   "file_extension": ".py",
   "mimetype": "text/x-python",
   "name": "python",
   "nbconvert_exporter": "python",
   "pygments_lexer": "ipython3",
   "version": "3.7.6"
  }
 },
 "nbformat": 4,
 "nbformat_minor": 4
}
