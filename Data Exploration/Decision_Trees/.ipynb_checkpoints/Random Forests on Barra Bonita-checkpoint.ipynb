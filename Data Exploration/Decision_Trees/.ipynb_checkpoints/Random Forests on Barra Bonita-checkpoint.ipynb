{
 "cells": [
  {
   "cell_type": "markdown",
   "metadata": {},
   "source": [
    "We are attempting to find predictors for energy generated at the Barra Bonita dam. We lag all the variables to which we have access and use random forests to find the most important indicators. "
   ]
  },
  {
   "cell_type": "code",
   "execution_count": 1,
   "metadata": {},
   "outputs": [],
   "source": [
    "import pandas as pd\n",
    "import numpy as np\n",
    "import matplotlib as mpl\n",
    "import matplotlib.pyplot as plt\n",
    "import graphviz\n",
    "import datetime as dt\n",
    "%matplotlib inline\n",
    "from sklearn.model_selection import train_test_split\n",
    "from sklearn.tree import DecisionTreeRegressor, DecisionTreeClassifier, export_graphviz\n",
    "from sklearn.ensemble import RandomForestRegressor, GradientBoostingRegressor\n",
    "from sklearn.metrics import confusion_matrix, mean_squared_error, mean_absolute_error\n",
    "import imgkit"
   ]
  },
  {
   "cell_type": "code",
   "execution_count": 59,
   "metadata": {},
   "outputs": [],
   "source": [
    "df = pd.read_csv(\"../../Data/1999_2021/aggragate_daily_data_2000to2020.csv\", index_col = \"date\").drop(labels = \"Unnamed: 0\", axis = 1)"
   ]
  },
  {
   "cell_type": "code",
   "execution_count": 60,
   "metadata": {},
   "outputs": [
    {
     "name": "stdout",
     "output_type": "stream",
     "text": [
      "Loading page (1/2)\n",
      "[>                                                           ] 0%\r",
      "[======>                                                     ] 10%\r",
      "[==============================>                             ] 50%\r",
      "[============================================================] 100%\r",
      "Rendering (2/2)                                                    \n",
      "[>                                                           ] 0%\r",
      "[===============>                                            ] 25%\r",
      "[============================================================] 100%\r",
      "Done                                                               \n"
     ]
    },
    {
     "data": {
      "text/plain": [
       "True"
      ]
     },
     "execution_count": 60,
     "metadata": {},
     "output_type": "execute_result"
    }
   ],
   "source": [
    "#constructing the correlation matrix heat map and exporting as png\n",
    "unlagged = df.corr().style.background_gradient(cmap ='coolwarm').render()\n",
    "imgkit.from_string(unlagged, 'unlagged.png')"
   ]
  },
  {
   "cell_type": "markdown",
   "metadata": {},
   "source": [
    "Adding lags to all variables. Turbine flow is missing some data, so it is approximated by the difference between effluent flow and poured flow."
   ]
  },
  {
   "cell_type": "code",
   "execution_count": 61,
   "metadata": {},
   "outputs": [],
   "source": [
    "\n",
    "for i in [3,7,30]:  \n",
    "    df[['turbine_flow']] = (df['effluent_flow'] - df['poured_flow']).to_frame()\n",
    "    df[['energy_charge_' + str(i)]] = df[['energy_charge']].shift(i)\n",
    "    df[['influent_flow_' + str(i)]] = df[['influent_flow']].shift(i)\n",
    "    df[['volume_used_' + str(i)]] = df[['volume_used']].shift(i)\n",
    "    df[['poured_flow_' + str(i)]] = df[['poured_flow']].shift(i)\n",
    "    df[['water_level_' + str(i)]] = df[['water_level']].shift(i)\n",
    "    df[['energy_stored_' + str(i)]] = df[['energy_stored']].shift(i)\n",
    "    df[['maximum_demand_' + str(i)]] = df[['maximum_demand']].shift(i)\n",
    "    df[['energy_generated_' + str(i)]] = df[['energy_generated']].shift(i)\n",
    "    df[['turbine_flow_' + str(i)]] = df[['turbine_flow']].shift(i)\n",
    "    df[['effluent_flow_' + str(i)]] = df[['effluent_flow']].shift(i)\n",
    "    \n",
    "df = df.dropna()"
   ]
  },
  {
   "cell_type": "code",
   "execution_count": 62,
   "metadata": {
    "scrolled": true
   },
   "outputs": [],
   "source": [
    "energy_corr = df.corr()[['energy_generated']].sort_values(by = 'energy_generated',axis=0,ascending = False).head(10).style.background_gradient(cmap ='coolwarm')"
   ]
  },
  {
   "cell_type": "code",
   "execution_count": 63,
   "metadata": {},
   "outputs": [
    {
     "name": "stdout",
     "output_type": "stream",
     "text": [
      "Loading page (1/2)\n",
      "[>                                                           ] 0%\r",
      "[======>                                                     ] 10%\r",
      "[==============================>                             ] 50%\r",
      "[============================================================] 100%\r",
      "Rendering (2/2)                                                    \n",
      "[>                                                           ] 0%\r",
      "[===============>                                            ] 25%\r",
      "[============================================================] 100%\r",
      "Done                                                               \n"
     ]
    },
    {
     "data": {
      "text/plain": [
       "True"
      ]
     },
     "execution_count": 63,
     "metadata": {},
     "output_type": "execute_result"
    }
   ],
   "source": [
    "pic_energy_corr = energy_corr.render()\n",
    "imgkit.from_string(pic_energy_corr, 'energy_corr.png')"
   ]
  },
  {
   "cell_type": "code",
   "execution_count": 16,
   "metadata": {
    "scrolled": true
   },
   "outputs": [
    {
     "name": "stdout",
     "output_type": "stream",
     "text": [
      "Loading page (1/2)\n",
      "[>                                                           ] 0%\r",
      "[======>                                                     ] 10%\r",
      "[==============================>                             ] 50%\r",
      "[============================================================] 100%\r",
      "Rendering (2/2)                                                    \n",
      "[>                                                           ] 0%\r",
      "[===============>                                            ] 25%\r",
      "[============================================================] 100%\r",
      "Done                                                               \n"
     ]
    },
    {
     "data": {
      "text/plain": [
       "True"
      ]
     },
     "execution_count": 16,
     "metadata": {},
     "output_type": "execute_result"
    }
   ],
   "source": [
    "#constructing the correlation matrix heat map and exporting as png\n",
    "\n",
    "corr_matrix = df_2017_lagged.corr()\n",
    "pic = corr_matrix.style.background_gradient(cmap ='coolwarm').render()\n",
    "imgkit.from_string(pic, 'corr_matrix_7_14_30.png')"
   ]
  },
  {
   "cell_type": "code",
   "execution_count": 7,
   "metadata": {},
   "outputs": [
    {
     "data": {
      "text/html": [
       "<div>\n",
       "<style scoped>\n",
       "    .dataframe tbody tr th:only-of-type {\n",
       "        vertical-align: middle;\n",
       "    }\n",
       "\n",
       "    .dataframe tbody tr th {\n",
       "        vertical-align: top;\n",
       "    }\n",
       "\n",
       "    .dataframe thead th {\n",
       "        text-align: right;\n",
       "    }\n",
       "</style>\n",
       "<table border=\"1\" class=\"dataframe\">\n",
       "  <thead>\n",
       "    <tr style=\"text-align: right;\">\n",
       "      <th></th>\n",
       "      <th>energy_charge</th>\n",
       "      <th>effluent_flow</th>\n",
       "      <th>influent_flow</th>\n",
       "      <th>volume_used</th>\n",
       "      <th>poured_flow</th>\n",
       "      <th>water_level</th>\n",
       "      <th>energy_generated</th>\n",
       "      <th>energy_stored</th>\n",
       "      <th>maximum_demand</th>\n",
       "    </tr>\n",
       "  </thead>\n",
       "  <tbody>\n",
       "    <tr>\n",
       "      <th>energy_charge</th>\n",
       "      <td>1.000000</td>\n",
       "      <td>0.108290</td>\n",
       "      <td>0.060136</td>\n",
       "      <td>0.023235</td>\n",
       "      <td>0.070760</td>\n",
       "      <td>0.027512</td>\n",
       "      <td>0.112448</td>\n",
       "      <td>-0.071894</td>\n",
       "      <td>0.958443</td>\n",
       "    </tr>\n",
       "    <tr>\n",
       "      <th>effluent_flow</th>\n",
       "      <td>0.108290</td>\n",
       "      <td>1.000000</td>\n",
       "      <td>0.766929</td>\n",
       "      <td>0.079403</td>\n",
       "      <td>0.845376</td>\n",
       "      <td>0.084792</td>\n",
       "      <td>0.785831</td>\n",
       "      <td>0.134242</td>\n",
       "      <td>0.038788</td>\n",
       "    </tr>\n",
       "    <tr>\n",
       "      <th>influent_flow</th>\n",
       "      <td>0.060136</td>\n",
       "      <td>0.766929</td>\n",
       "      <td>1.000000</td>\n",
       "      <td>0.067705</td>\n",
       "      <td>0.690864</td>\n",
       "      <td>0.067729</td>\n",
       "      <td>0.556794</td>\n",
       "      <td>0.087259</td>\n",
       "      <td>-0.014418</td>\n",
       "    </tr>\n",
       "    <tr>\n",
       "      <th>volume_used</th>\n",
       "      <td>0.023235</td>\n",
       "      <td>0.079403</td>\n",
       "      <td>0.067705</td>\n",
       "      <td>1.000000</td>\n",
       "      <td>0.043673</td>\n",
       "      <td>0.998822</td>\n",
       "      <td>0.246279</td>\n",
       "      <td>0.563364</td>\n",
       "      <td>0.138391</td>\n",
       "    </tr>\n",
       "    <tr>\n",
       "      <th>poured_flow</th>\n",
       "      <td>0.070760</td>\n",
       "      <td>0.845376</td>\n",
       "      <td>0.690864</td>\n",
       "      <td>0.043673</td>\n",
       "      <td>1.000000</td>\n",
       "      <td>0.047545</td>\n",
       "      <td>0.349646</td>\n",
       "      <td>0.067245</td>\n",
       "      <td>0.035435</td>\n",
       "    </tr>\n",
       "    <tr>\n",
       "      <th>water_level</th>\n",
       "      <td>0.027512</td>\n",
       "      <td>0.084792</td>\n",
       "      <td>0.067729</td>\n",
       "      <td>0.998822</td>\n",
       "      <td>0.047545</td>\n",
       "      <td>1.000000</td>\n",
       "      <td>0.250840</td>\n",
       "      <td>0.564102</td>\n",
       "      <td>0.141847</td>\n",
       "    </tr>\n",
       "    <tr>\n",
       "      <th>energy_generated</th>\n",
       "      <td>0.112448</td>\n",
       "      <td>0.785831</td>\n",
       "      <td>0.556794</td>\n",
       "      <td>0.246279</td>\n",
       "      <td>0.349646</td>\n",
       "      <td>0.250840</td>\n",
       "      <td>1.000000</td>\n",
       "      <td>0.242491</td>\n",
       "      <td>0.050772</td>\n",
       "    </tr>\n",
       "    <tr>\n",
       "      <th>energy_stored</th>\n",
       "      <td>-0.071894</td>\n",
       "      <td>0.134242</td>\n",
       "      <td>0.087259</td>\n",
       "      <td>0.563364</td>\n",
       "      <td>0.067245</td>\n",
       "      <td>0.564102</td>\n",
       "      <td>0.242491</td>\n",
       "      <td>1.000000</td>\n",
       "      <td>0.016297</td>\n",
       "    </tr>\n",
       "    <tr>\n",
       "      <th>maximum_demand</th>\n",
       "      <td>0.958443</td>\n",
       "      <td>0.038788</td>\n",
       "      <td>-0.014418</td>\n",
       "      <td>0.138391</td>\n",
       "      <td>0.035435</td>\n",
       "      <td>0.141847</td>\n",
       "      <td>0.050772</td>\n",
       "      <td>0.016297</td>\n",
       "      <td>1.000000</td>\n",
       "    </tr>\n",
       "  </tbody>\n",
       "</table>\n",
       "</div>"
      ],
      "text/plain": [
       "                  energy_charge  effluent_flow  influent_flow  volume_used  \\\n",
       "energy_charge          1.000000       0.108290       0.060136     0.023235   \n",
       "effluent_flow          0.108290       1.000000       0.766929     0.079403   \n",
       "influent_flow          0.060136       0.766929       1.000000     0.067705   \n",
       "volume_used            0.023235       0.079403       0.067705     1.000000   \n",
       "poured_flow            0.070760       0.845376       0.690864     0.043673   \n",
       "water_level            0.027512       0.084792       0.067729     0.998822   \n",
       "energy_generated       0.112448       0.785831       0.556794     0.246279   \n",
       "energy_stored         -0.071894       0.134242       0.087259     0.563364   \n",
       "maximum_demand         0.958443       0.038788      -0.014418     0.138391   \n",
       "\n",
       "                  poured_flow  water_level  energy_generated  energy_stored  \\\n",
       "energy_charge        0.070760     0.027512          0.112448      -0.071894   \n",
       "effluent_flow        0.845376     0.084792          0.785831       0.134242   \n",
       "influent_flow        0.690864     0.067729          0.556794       0.087259   \n",
       "volume_used          0.043673     0.998822          0.246279       0.563364   \n",
       "poured_flow          1.000000     0.047545          0.349646       0.067245   \n",
       "water_level          0.047545     1.000000          0.250840       0.564102   \n",
       "energy_generated     0.349646     0.250840          1.000000       0.242491   \n",
       "energy_stored        0.067245     0.564102          0.242491       1.000000   \n",
       "maximum_demand       0.035435     0.141847          0.050772       0.016297   \n",
       "\n",
       "                  maximum_demand  \n",
       "energy_charge           0.958443  \n",
       "effluent_flow           0.038788  \n",
       "influent_flow          -0.014418  \n",
       "volume_used             0.138391  \n",
       "poured_flow             0.035435  \n",
       "water_level             0.141847  \n",
       "energy_generated        0.050772  \n",
       "energy_stored           0.016297  \n",
       "maximum_demand          1.000000  "
      ]
     },
     "execution_count": 7,
     "metadata": {},
     "output_type": "execute_result"
    }
   ],
   "source": [
    "#constructing the correlation matrix heat map for pres\n",
    "\n",
    "corr_matrix_pres = df.corr()\n",
    "pic_pres = corr_matrix_pres.style.background_gradient(cmap ='coolwarm').render()\n",
    "imgkit.from_string(pic_pres, 'corr_matrix_pres.png')"
   ]
  },
  {
   "cell_type": "code",
   "execution_count": 9,
   "metadata": {},
   "outputs": [
    {
     "name": "stdout",
     "output_type": "stream",
     "text": [
      "Loading page (1/2)\n",
      "[>                                                           ] 0%\r",
      "[======>                                                     ] 10%\r",
      "[==============================>                             ] 50%\r",
      "[============================================================] 100%\r",
      "Rendering (2/2)                                                    \n",
      "[>                                                           ] 0%\r",
      "[===============>                                            ] 25%\r",
      "[============================================================] 100%\r",
      "Done                                                               \n"
     ]
    },
    {
     "data": {
      "text/plain": [
       "True"
      ]
     },
     "execution_count": 9,
     "metadata": {},
     "output_type": "execute_result"
    }
   ],
   "source": [
    "imgkit.from_string(pic_pres, 'corr_matrix_pres.png')"
   ]
  },
  {
   "cell_type": "markdown",
   "metadata": {},
   "source": [
    "# Regression Tree\n",
    "\n",
    "Chose train size of (6908-n)/6908 so that we could test it on an n-day interval. (Not used here.) The strongest indicators of energy generated are turbine flow, effluent flow, energy generated lagged 3 days, effluent flow lagged 3 days."
   ]
  },
  {
   "cell_type": "code",
   "execution_count": 4,
   "metadata": {},
   "outputs": [
    {
     "data": {
      "text/plain": [
       "DecisionTreeRegressor(max_depth=2)"
      ]
     },
     "execution_count": 4,
     "metadata": {},
     "output_type": "execute_result"
    }
   ],
   "source": [
    "X = df_2017_lagged.drop(['energy_generated'], axis = 1)\n",
    "y = df_2017_lagged.energy_generated\n",
    "X_train, X_test, y_train, y_test = train_test_split(X, y, train_size = (6908-90)/6908, random_state = 0)\n",
    "\n",
    "regr_tree_daily = DecisionTreeRegressor(max_depth = 2)\n",
    "regr_tree_daily.fit(X_train, y_train)"
   ]
  },
  {
   "cell_type": "code",
   "execution_count": 5,
   "metadata": {},
   "outputs": [
    {
     "data": {
      "image/svg+xml": [
       "<?xml version=\"1.0\" encoding=\"UTF-8\" standalone=\"no\"?>\n",
       "<!DOCTYPE svg PUBLIC \"-//W3C//DTD SVG 1.1//EN\"\n",
       " \"http://www.w3.org/Graphics/SVG/1.1/DTD/svg11.dtd\">\n",
       "<!-- Generated by graphviz version 2.47.3 (20210619.1520)\n",
       " -->\n",
       "<!-- Title: Tree Pages: 1 -->\n",
       "<svg width=\"498pt\" height=\"269pt\"\n",
       " viewBox=\"0.00 0.00 497.50 269.00\" xmlns=\"http://www.w3.org/2000/svg\" xmlns:xlink=\"http://www.w3.org/1999/xlink\">\n",
       "<g id=\"graph0\" class=\"graph\" transform=\"scale(1 1) rotate(0) translate(4 265)\">\n",
       "<title>Tree</title>\n",
       "<polygon fill=\"white\" stroke=\"transparent\" points=\"-4,4 -4,-265 493.5,-265 493.5,4 -4,4\"/>\n",
       "<!-- 0 -->\n",
       "<g id=\"node1\" class=\"node\">\n",
       "<title>0</title>\n",
       "<polygon fill=\"none\" stroke=\"black\" points=\"322.5,-261 173.5,-261 173.5,-193 322.5,-193 322.5,-261\"/>\n",
       "<text text-anchor=\"middle\" x=\"248\" y=\"-245.8\" font-family=\"Times,serif\" font-size=\"14.00\">turbine_flow &lt;= 360.83</text>\n",
       "<text text-anchor=\"middle\" x=\"248\" y=\"-230.8\" font-family=\"Times,serif\" font-size=\"14.00\">mse = 0.426</text>\n",
       "<text text-anchor=\"middle\" x=\"248\" y=\"-215.8\" font-family=\"Times,serif\" font-size=\"14.00\">samples = 6818</text>\n",
       "<text text-anchor=\"middle\" x=\"248\" y=\"-200.8\" font-family=\"Times,serif\" font-size=\"14.00\">value = 1.499</text>\n",
       "</g>\n",
       "<!-- 1 -->\n",
       "<g id=\"node2\" class=\"node\">\n",
       "<title>1</title>\n",
       "<polygon fill=\"none\" stroke=\"black\" points=\"239,-157 83,-157 83,-89 239,-89 239,-157\"/>\n",
       "<text text-anchor=\"middle\" x=\"161\" y=\"-141.8\" font-family=\"Times,serif\" font-size=\"14.00\">turbine_flow &lt;= 236.945</text>\n",
       "<text text-anchor=\"middle\" x=\"161\" y=\"-126.8\" font-family=\"Times,serif\" font-size=\"14.00\">mse = 0.11</text>\n",
       "<text text-anchor=\"middle\" x=\"161\" y=\"-111.8\" font-family=\"Times,serif\" font-size=\"14.00\">samples = 4224</text>\n",
       "<text text-anchor=\"middle\" x=\"161\" y=\"-96.8\" font-family=\"Times,serif\" font-size=\"14.00\">value = 1.084</text>\n",
       "</g>\n",
       "<!-- 0&#45;&gt;1 -->\n",
       "<g id=\"edge1\" class=\"edge\">\n",
       "<title>0&#45;&gt;1</title>\n",
       "<path fill=\"none\" stroke=\"black\" d=\"M219.75,-192.88C212.16,-183.98 203.85,-174.24 195.93,-164.96\"/>\n",
       "<polygon fill=\"black\" stroke=\"black\" points=\"198.55,-162.64 189.4,-157.3 193.23,-167.18 198.55,-162.64\"/>\n",
       "<text text-anchor=\"middle\" x=\"187.42\" y=\"-178.52\" font-family=\"Times,serif\" font-size=\"14.00\">True</text>\n",
       "</g>\n",
       "<!-- 4 -->\n",
       "<g id=\"node5\" class=\"node\">\n",
       "<title>4</title>\n",
       "<polygon fill=\"none\" stroke=\"black\" points=\"413,-157 257,-157 257,-89 413,-89 413,-157\"/>\n",
       "<text text-anchor=\"middle\" x=\"335\" y=\"-141.8\" font-family=\"Times,serif\" font-size=\"14.00\">turbine_flow &lt;= 513.945</text>\n",
       "<text text-anchor=\"middle\" x=\"335\" y=\"-126.8\" font-family=\"Times,serif\" font-size=\"14.00\">mse = 0.206</text>\n",
       "<text text-anchor=\"middle\" x=\"335\" y=\"-111.8\" font-family=\"Times,serif\" font-size=\"14.00\">samples = 2594</text>\n",
       "<text text-anchor=\"middle\" x=\"335\" y=\"-96.8\" font-family=\"Times,serif\" font-size=\"14.00\">value = 2.174</text>\n",
       "</g>\n",
       "<!-- 0&#45;&gt;4 -->\n",
       "<g id=\"edge4\" class=\"edge\">\n",
       "<title>0&#45;&gt;4</title>\n",
       "<path fill=\"none\" stroke=\"black\" d=\"M276.25,-192.88C283.84,-183.98 292.15,-174.24 300.07,-164.96\"/>\n",
       "<polygon fill=\"black\" stroke=\"black\" points=\"302.77,-167.18 306.6,-157.3 297.45,-162.64 302.77,-167.18\"/>\n",
       "<text text-anchor=\"middle\" x=\"308.58\" y=\"-178.52\" font-family=\"Times,serif\" font-size=\"14.00\">False</text>\n",
       "</g>\n",
       "<!-- 2 -->\n",
       "<g id=\"node3\" class=\"node\">\n",
       "<title>2</title>\n",
       "<polygon fill=\"none\" stroke=\"black\" points=\"104,-53 0,-53 0,0 104,0 104,-53\"/>\n",
       "<text text-anchor=\"middle\" x=\"52\" y=\"-37.8\" font-family=\"Times,serif\" font-size=\"14.00\">mse = 0.049</text>\n",
       "<text text-anchor=\"middle\" x=\"52\" y=\"-22.8\" font-family=\"Times,serif\" font-size=\"14.00\">samples = 1730</text>\n",
       "<text text-anchor=\"middle\" x=\"52\" y=\"-7.8\" font-family=\"Times,serif\" font-size=\"14.00\">value = 0.776</text>\n",
       "</g>\n",
       "<!-- 1&#45;&gt;2 -->\n",
       "<g id=\"edge2\" class=\"edge\">\n",
       "<title>1&#45;&gt;2</title>\n",
       "<path fill=\"none\" stroke=\"black\" d=\"M122.88,-88.95C112.01,-79.53 100.18,-69.27 89.36,-59.89\"/>\n",
       "<polygon fill=\"black\" stroke=\"black\" points=\"91.53,-57.14 81.69,-53.24 86.95,-62.43 91.53,-57.14\"/>\n",
       "</g>\n",
       "<!-- 3 -->\n",
       "<g id=\"node4\" class=\"node\">\n",
       "<title>3</title>\n",
       "<polygon fill=\"none\" stroke=\"black\" points=\"226,-53 122,-53 122,0 226,0 226,-53\"/>\n",
       "<text text-anchor=\"middle\" x=\"174\" y=\"-37.8\" font-family=\"Times,serif\" font-size=\"14.00\">mse = 0.04</text>\n",
       "<text text-anchor=\"middle\" x=\"174\" y=\"-22.8\" font-family=\"Times,serif\" font-size=\"14.00\">samples = 2494</text>\n",
       "<text text-anchor=\"middle\" x=\"174\" y=\"-7.8\" font-family=\"Times,serif\" font-size=\"14.00\">value = 1.298</text>\n",
       "</g>\n",
       "<!-- 1&#45;&gt;3 -->\n",
       "<g id=\"edge3\" class=\"edge\">\n",
       "<title>1&#45;&gt;3</title>\n",
       "<path fill=\"none\" stroke=\"black\" d=\"M165.55,-88.95C166.69,-80.62 167.93,-71.65 169.09,-63.2\"/>\n",
       "<polygon fill=\"black\" stroke=\"black\" points=\"172.56,-63.62 170.46,-53.24 165.63,-62.67 172.56,-63.62\"/>\n",
       "</g>\n",
       "<!-- 5 -->\n",
       "<g id=\"node6\" class=\"node\">\n",
       "<title>5</title>\n",
       "<polygon fill=\"none\" stroke=\"black\" points=\"374,-53 270,-53 270,0 374,0 374,-53\"/>\n",
       "<text text-anchor=\"middle\" x=\"322\" y=\"-37.8\" font-family=\"Times,serif\" font-size=\"14.00\">mse = 0.054</text>\n",
       "<text text-anchor=\"middle\" x=\"322\" y=\"-22.8\" font-family=\"Times,serif\" font-size=\"14.00\">samples = 1620</text>\n",
       "<text text-anchor=\"middle\" x=\"322\" y=\"-7.8\" font-family=\"Times,serif\" font-size=\"14.00\">value = 1.884</text>\n",
       "</g>\n",
       "<!-- 4&#45;&gt;5 -->\n",
       "<g id=\"edge5\" class=\"edge\">\n",
       "<title>4&#45;&gt;5</title>\n",
       "<path fill=\"none\" stroke=\"black\" d=\"M330.45,-88.95C329.31,-80.62 328.07,-71.65 326.91,-63.2\"/>\n",
       "<polygon fill=\"black\" stroke=\"black\" points=\"330.37,-62.67 325.54,-53.24 323.44,-63.62 330.37,-62.67\"/>\n",
       "</g>\n",
       "<!-- 6 -->\n",
       "<g id=\"node7\" class=\"node\">\n",
       "<title>6</title>\n",
       "<polygon fill=\"none\" stroke=\"black\" points=\"489.5,-53 392.5,-53 392.5,0 489.5,0 489.5,-53\"/>\n",
       "<text text-anchor=\"middle\" x=\"441\" y=\"-37.8\" font-family=\"Times,serif\" font-size=\"14.00\">mse = 0.084</text>\n",
       "<text text-anchor=\"middle\" x=\"441\" y=\"-22.8\" font-family=\"Times,serif\" font-size=\"14.00\">samples = 974</text>\n",
       "<text text-anchor=\"middle\" x=\"441\" y=\"-7.8\" font-family=\"Times,serif\" font-size=\"14.00\">value = 2.657</text>\n",
       "</g>\n",
       "<!-- 4&#45;&gt;6 -->\n",
       "<g id=\"edge6\" class=\"edge\">\n",
       "<title>4&#45;&gt;6</title>\n",
       "<path fill=\"none\" stroke=\"black\" d=\"M372.07,-88.95C382.54,-79.62 393.92,-69.47 404.36,-60.16\"/>\n",
       "<polygon fill=\"black\" stroke=\"black\" points=\"407,-62.5 412.13,-53.24 402.34,-57.28 407,-62.5\"/>\n",
       "</g>\n",
       "</g>\n",
       "</svg>\n"
      ],
      "text/plain": [
       "<graphviz.files.Source at 0x7fd2de13cdf0>"
      ]
     },
     "execution_count": 5,
     "metadata": {},
     "output_type": "execute_result"
    }
   ],
   "source": [
    "export_graphviz(regr_tree_daily, \n",
    "                out_file = \"regr_tree.dot\", \n",
    "                feature_names = X_train.columns)\n",
    "\n",
    "with open(\"regr_tree.dot\") as f:\n",
    "    dot_graph = f.read()\n",
    "graphviz.Source(dot_graph)"
   ]
  },
  {
   "cell_type": "code",
   "execution_count": 6,
   "metadata": {
    "scrolled": true
   },
   "outputs": [
    {
     "data": {
      "text/plain": [
       "0.18891500327460015"
      ]
     },
     "execution_count": 6,
     "metadata": {},
     "output_type": "execute_result"
    },
    {
     "data": {
      "image/png": "[encoded data removed]",
      "text/plain": [
       "<Figure size 432x288 with 1 Axes>"
      ]
     },
     "metadata": {
      "needs_background": "light"
     },
     "output_type": "display_data"
    }
   ],
   "source": [
    "pred = regr_tree_daily.predict(X_test)\n",
    "\n",
    "plt.scatter(pred, \n",
    "            y_test, \n",
    "            label = 'energy_generated')\n",
    "\n",
    "plt.plot([0, 1], \n",
    "         [0, 1], \n",
    "         '--k', \n",
    "         transform = plt.gca().transAxes)\n",
    "\n",
    "plt.xlabel('pred')\n",
    "plt.ylabel('y_test')\n",
    "\n",
    "mean_absolute_error(y_test, pred)"
   ]
  },
  {
   "cell_type": "markdown",
   "metadata": {},
   "source": [
    "## Bagging\n",
    "\n",
    "Chose train size of (6908-n)/6908 so that we could test it on an n-day interval. "
   ]
  },
  {
   "cell_type": "code",
   "execution_count": 7,
   "metadata": {},
   "outputs": [],
   "source": [
    "X = df_2017_lagged.drop(['energy_generated'], axis = 1)\n",
    "y = df_2017_lagged.energy_generated\n",
    "X_train, X_test, y_train, y_test = train_test_split(X, y, train_size = (6908-90)/6908, random_state = 0)"
   ]
  },
  {
   "cell_type": "code",
   "execution_count": 8,
   "metadata": {},
   "outputs": [
    {
     "data": {
      "text/plain": [
       "RandomForestRegressor(max_features=13, random_state=1)"
      ]
     },
     "execution_count": 8,
     "metadata": {},
     "output_type": "execute_result"
    }
   ],
   "source": [
    "bagged_daily = RandomForestRegressor(max_features = 13, random_state = 1)\n",
    "bagged_daily.fit(X_train, y_train)"
   ]
  },
  {
   "cell_type": "code",
   "execution_count": 9,
   "metadata": {
    "scrolled": true
   },
   "outputs": [
    {
     "data": {
      "text/plain": [
       "0.029181632265555535"
      ]
     },
     "execution_count": 9,
     "metadata": {},
     "output_type": "execute_result"
    },
    {
     "data": {
      "image/png": "[encoded data removed]",
      "text/plain": [
       "<Figure size 432x288 with 1 Axes>"
      ]
     },
     "metadata": {
      "needs_background": "light"
     },
     "output_type": "display_data"
    }
   ],
   "source": [
    "pred = bagged_daily.predict(X_test)\n",
    "\n",
    "plt.scatter(pred, \n",
    "            y_test, \n",
    "            label = 'energy_generated')\n",
    "\n",
    "plt.plot([0, 1], \n",
    "         [0, 1], \n",
    "         '--k', \n",
    "         transform = plt.gca().transAxes)\n",
    "\n",
    "plt.xlabel('pred')\n",
    "plt.ylabel('y_test')\n",
    "\n",
    "mean_absolute_error(y_test, pred)"
   ]
  },
  {
   "cell_type": "markdown",
   "metadata": {},
   "source": [
    "**Choose a time chunk using .iloc to predict using the training model**"
   ]
  },
  {
   "cell_type": "code",
   "execution_count": 10,
   "metadata": {},
   "outputs": [
    {
     "data": {
      "text/plain": [
       "0.7330194138477778"
      ]
     },
     "execution_count": 10,
     "metadata": {},
     "output_type": "execute_result"
    },
    {
     "data": {
      "image/png": "[encoded data removed]",
      "text/plain": [
       "<Figure size 432x288 with 1 Axes>"
      ]
     },
     "metadata": {
      "needs_background": "light"
     },
     "output_type": "display_data"
    }
   ],
   "source": [
    "time_chunk = df[['energy_generated']].iloc[7210:7210+90].copy()\n",
    "\n",
    "pred = bagged_daily.predict(X_test)\n",
    "\n",
    "plt.scatter(pred, \n",
    "            time_chunk, \n",
    "            label = 'energy_generated')\n",
    "\n",
    "plt.plot([0, 1], \n",
    "         [0, 1], \n",
    "         '--k', \n",
    "         transform = plt.gca().transAxes)\n",
    "\n",
    "plt.xlabel('pred')\n",
    "plt.ylabel('time_chunk')\n",
    "\n",
    "mean_absolute_error(time_chunk, pred)"
   ]
  },
  {
   "cell_type": "markdown",
   "metadata": {},
   "source": [
    "## Random Forest\n",
    "\n",
    "Chose train size of (6908-n)/6908 so that we could test it on an n-day interval. Forest shows that turbine flow and effluent flow are the most important indicators. Dropped these variables."
   ]
  },
  {
   "cell_type": "code",
   "execution_count": 9,
   "metadata": {
    "scrolled": false
   },
   "outputs": [
    {
     "data": {
      "text/plain": [
       "0.05835639180725284"
      ]
     },
     "execution_count": 9,
     "metadata": {},
     "output_type": "execute_result"
    }
   ],
   "source": [
    "X = df_2017_lagged.drop(['energy_generated'], axis = 1)\n",
    "y = df_2017_lagged.energy_generated\n",
    "X_train, X_test, y_train, y_test = train_test_split(X, y, train_size = (6908-90)/6908, random_state = 0)\n",
    "\n",
    "random_forest_daily = RandomForestRegressor(n_estimators = 500, max_features = 7, random_state = 1)\n",
    "random_forest_daily.fit(X_train, y_train)\n",
    "pred = random_forest_daily.predict(X_test)\n",
    "mean_absolute_error(y_test, random_forest_daily.predict(X_test))"
   ]
  },
  {
   "cell_type": "markdown",
   "metadata": {},
   "source": [
    "**Choosing time chunk on which to test forest's prediction**"
   ]
  },
  {
   "cell_type": "code",
   "execution_count": 12,
   "metadata": {},
   "outputs": [
    {
     "data": {
      "text/plain": [
       "0.6705601787577777"
      ]
     },
     "execution_count": 12,
     "metadata": {},
     "output_type": "execute_result"
    }
   ],
   "source": [
    "time_chunk = df[['energy_generated']].iloc[7200:7200+90].copy()\n",
    "mean_absolute_error(time_chunk, random_forest_daily.predict(X_test))"
   ]
  },
  {
   "cell_type": "code",
   "execution_count": 10,
   "metadata": {},
   "outputs": [
    {
     "data": {
      "text/plain": [
       "<AxesSubplot:>"
      ]
     },
     "execution_count": 10,
     "metadata": {},
     "output_type": "execute_result"
    },
    {
     "data": {
      "image/png": "[encoded data removed]",
      "text/plain": [
       "<Figure size 432x288 with 1 Axes>"
      ]
     },
     "metadata": {
      "needs_background": "light"
     },
     "output_type": "display_data"
    }
   ],
   "source": [
    "Importance = pd.DataFrame({'Importance for Energy Generated':random_forest_daily.feature_importances_*100}, \n",
    "                          index = X.columns).sort_values(by = 'Importance for Energy Generated', \n",
    "                       axis = 0, \n",
    "                       ascending = False)\n",
    "Importance.plot(kind = 'barh', color = 'r', )"
   ]
  },
  {
   "cell_type": "code",
   "execution_count": 12,
   "metadata": {},
   "outputs": [
    {
     "data": {
      "image/png": "[encoded data removed]",
      "text/plain": [
       "<Figure size 648x432 with 1 Axes>"
      ]
     },
     "metadata": {
      "needs_background": "light"
     },
     "output_type": "display_data"
    }
   ],
   "source": [
    "plt.rcParams.update({'font.size': 18})\n",
    "Importance_trunc = Importance.iloc[0:10]\n",
    "bar_plot = Importance_trunc.sort_values(by = 'Importance for Energy Generated', \n",
    "                       axis = 0, \n",
    "                       ascending = True).plot(kind = 'barh', \n",
    "                                              color = 'r', \n",
    "                                              figsize=(9,6),\n",
    "                                              legend = False)\n",
    "plt.title('Importance for Energy Generated')\n",
    "plt.xlabel('Variable Importance (%)')\n",
    "plt.savefig('bar_plot.png')"
   ]
  },
  {
   "cell_type": "code",
   "execution_count": 53,
   "metadata": {},
   "outputs": [
    {
     "data": {
      "text/plain": [
       "<Figure size 432x288 with 0 Axes>"
      ]
     },
     "metadata": {},
     "output_type": "display_data"
    }
   ],
   "source": [
    "plt.tight_layout()\n",
    "plt.savefig('bar_plot.png')"
   ]
  },
  {
   "cell_type": "markdown",
   "metadata": {},
   "source": [
    "# 8.3.4 Boosting\n",
    "\n",
    "Same as random forest above but boosted."
   ]
  },
  {
   "cell_type": "code",
   "execution_count": 15,
   "metadata": {},
   "outputs": [
    {
     "data": {
      "text/plain": [
       "energy_generated_3    47.838476\n",
       "energy_generated_7     9.871991\n",
       "influent_flow_3        9.704493\n",
       "influent_flow          5.253204\n",
       "volume_used_3          1.842214\n",
       "energy_charge_3        1.616238\n",
       "energy_charge          1.508765\n",
       "water_level_3          1.440399\n",
       "maximum_demand         1.193065\n",
       "turbine_flow_3         1.139866\n",
       "dtype: float64"
      ]
     },
     "execution_count": 15,
     "metadata": {},
     "output_type": "execute_result"
    }
   ],
   "source": [
    "X = df_2017_lagged.drop(['energy_generated','turbine_flow','effluent_flow'], axis = 1)\n",
    "y = df_2017_lagged.energy_generated\n",
    "X_train, X_test, y_train, y_test = train_test_split(X, y, train_size = (6908-90)/6908, random_state = 0)\n",
    "\n",
    "boosted_daily = GradientBoostingRegressor(n_estimators = 500, \n",
    "                                           learning_rate = 0.2, \n",
    "                                           max_depth = 4, \n",
    "                                           random_state = 1)\n",
    "\n",
    "boosted_daily.fit(X_train, y_train)\n",
    "feature_importance = boosted_daily.feature_importances_*100\n",
    "\n",
    "rel_imp = pd.Series(feature_importance, \n",
    "                    index = X.columns).sort_values(inplace = False,ascending = False)\n",
    "rel_imp.head(10)"
   ]
  },
  {
   "cell_type": "code",
   "execution_count": 16,
   "metadata": {},
   "outputs": [
    {
     "data": {
      "image/png": "[encoded data removed]",
      "text/plain": [
       "<Figure size 432x288 with 1 Axes>"
      ]
     },
     "metadata": {
      "needs_background": "light"
     },
     "output_type": "display_data"
    }
   ],
   "source": [
    "rel_imp.T.plot(kind = 'barh', \n",
    "               color = 'r', )\n",
    "\n",
    "plt.xlabel('Variable Importance')\n",
    "\n",
    "plt.gca().legend_ = None"
   ]
  },
  {
   "cell_type": "code",
   "execution_count": 17,
   "metadata": {},
   "outputs": [
    {
     "data": {
      "text/plain": [
       "0.20655317347631158"
      ]
     },
     "execution_count": 17,
     "metadata": {},
     "output_type": "execute_result"
    }
   ],
   "source": [
    "mean_absolute_error(y_test, boosted_daily.predict(X_test))"
   ]
  },
  {
   "cell_type": "code",
   "execution_count": 18,
   "metadata": {
    "scrolled": false
   },
   "outputs": [
    {
     "data": {
      "text/plain": [
       "0.7001360282389706"
      ]
     },
     "execution_count": 18,
     "metadata": {},
     "output_type": "execute_result"
    }
   ],
   "source": [
    "time_chunk = df[['energy_generated']].iloc[7200:7200+90].copy()\n",
    "mean_absolute_error(time_chunk,  boosted_daily.predict(X_test))"
   ]
  },
  {
   "cell_type": "markdown",
   "metadata": {},
   "source": [
    "## Conclusion\n",
    "\n",
    "It seems that turbine flow, energy generated, influent flow, and effluent flow are the best predictors of energy generated. Even lagged, these are better predictors than other variables (lagged and unlagged). Below is a correlation table of all these variables and some of their lags. "
   ]
  },
  {
   "cell_type": "code",
   "execution_count": 19,
   "metadata": {},
   "outputs": [
    {
     "data": {
      "text/html": [
       "<div>\n",
       "<style scoped>\n",
       "    .dataframe tbody tr th:only-of-type {\n",
       "        vertical-align: middle;\n",
       "    }\n",
       "\n",
       "    .dataframe tbody tr th {\n",
       "        vertical-align: top;\n",
       "    }\n",
       "\n",
       "    .dataframe thead th {\n",
       "        text-align: right;\n",
       "    }\n",
       "</style>\n",
       "<table border=\"1\" class=\"dataframe\">\n",
       "  <thead>\n",
       "    <tr style=\"text-align: right;\">\n",
       "      <th></th>\n",
       "      <th>energy_generated</th>\n",
       "      <th>energy_generated_3</th>\n",
       "      <th>energy_generated_7</th>\n",
       "      <th>turbine_flow</th>\n",
       "      <th>turbine_flow_3</th>\n",
       "      <th>turbine_flow_7</th>\n",
       "      <th>influent_flow</th>\n",
       "      <th>influent_flow_3</th>\n",
       "      <th>influent_flow_7</th>\n",
       "      <th>effluent_flow</th>\n",
       "      <th>effluent_flow_3</th>\n",
       "      <th>effluent_flow_7</th>\n",
       "    </tr>\n",
       "  </thead>\n",
       "  <tbody>\n",
       "    <tr>\n",
       "      <th>energy_generated</th>\n",
       "      <td>1.000000</td>\n",
       "      <td>0.753128</td>\n",
       "      <td>0.670042</td>\n",
       "      <td>0.980606</td>\n",
       "      <td>0.737891</td>\n",
       "      <td>0.653967</td>\n",
       "      <td>0.565626</td>\n",
       "      <td>0.610313</td>\n",
       "      <td>0.563632</td>\n",
       "      <td>0.784184</td>\n",
       "      <td>0.645785</td>\n",
       "      <td>0.568019</td>\n",
       "    </tr>\n",
       "    <tr>\n",
       "      <th>energy_generated_3</th>\n",
       "      <td>0.753128</td>\n",
       "      <td>1.000000</td>\n",
       "      <td>0.712996</td>\n",
       "      <td>0.734265</td>\n",
       "      <td>0.980576</td>\n",
       "      <td>0.697758</td>\n",
       "      <td>0.462729</td>\n",
       "      <td>0.565540</td>\n",
       "      <td>0.606312</td>\n",
       "      <td>0.623159</td>\n",
       "      <td>0.784155</td>\n",
       "      <td>0.618380</td>\n",
       "    </tr>\n",
       "    <tr>\n",
       "      <th>energy_generated_7</th>\n",
       "      <td>0.670042</td>\n",
       "      <td>0.712996</td>\n",
       "      <td>1.000000</td>\n",
       "      <td>0.647677</td>\n",
       "      <td>0.693668</td>\n",
       "      <td>0.980572</td>\n",
       "      <td>0.390820</td>\n",
       "      <td>0.436552</td>\n",
       "      <td>0.565605</td>\n",
       "      <td>0.528657</td>\n",
       "      <td>0.587165</td>\n",
       "      <td>0.784095</td>\n",
       "    </tr>\n",
       "    <tr>\n",
       "      <th>turbine_flow</th>\n",
       "      <td>0.980606</td>\n",
       "      <td>0.734265</td>\n",
       "      <td>0.647677</td>\n",
       "      <td>1.000000</td>\n",
       "      <td>0.751492</td>\n",
       "      <td>0.661775</td>\n",
       "      <td>0.609231</td>\n",
       "      <td>0.642251</td>\n",
       "      <td>0.578032</td>\n",
       "      <td>0.838908</td>\n",
       "      <td>0.684488</td>\n",
       "      <td>0.592241</td>\n",
       "    </tr>\n",
       "    <tr>\n",
       "      <th>turbine_flow_3</th>\n",
       "      <td>0.737891</td>\n",
       "      <td>0.980576</td>\n",
       "      <td>0.693668</td>\n",
       "      <td>0.751492</td>\n",
       "      <td>1.000000</td>\n",
       "      <td>0.710126</td>\n",
       "      <td>0.504163</td>\n",
       "      <td>0.609271</td>\n",
       "      <td>0.632867</td>\n",
       "      <td>0.665392</td>\n",
       "      <td>0.838899</td>\n",
       "      <td>0.652356</td>\n",
       "    </tr>\n",
       "    <tr>\n",
       "      <th>turbine_flow_7</th>\n",
       "      <td>0.653967</td>\n",
       "      <td>0.697758</td>\n",
       "      <td>0.980572</td>\n",
       "      <td>0.661775</td>\n",
       "      <td>0.710126</td>\n",
       "      <td>1.000000</td>\n",
       "      <td>0.432405</td>\n",
       "      <td>0.477968</td>\n",
       "      <td>0.609425</td>\n",
       "      <td>0.561484</td>\n",
       "      <td>0.626339</td>\n",
       "      <td>0.838907</td>\n",
       "    </tr>\n",
       "    <tr>\n",
       "      <th>influent_flow</th>\n",
       "      <td>0.565626</td>\n",
       "      <td>0.462729</td>\n",
       "      <td>0.390820</td>\n",
       "      <td>0.609231</td>\n",
       "      <td>0.504163</td>\n",
       "      <td>0.432405</td>\n",
       "      <td>1.000000</td>\n",
       "      <td>0.737806</td>\n",
       "      <td>0.538722</td>\n",
       "      <td>0.777278</td>\n",
       "      <td>0.596434</td>\n",
       "      <td>0.478530</td>\n",
       "    </tr>\n",
       "    <tr>\n",
       "      <th>influent_flow_3</th>\n",
       "      <td>0.610313</td>\n",
       "      <td>0.565540</td>\n",
       "      <td>0.436552</td>\n",
       "      <td>0.642251</td>\n",
       "      <td>0.609271</td>\n",
       "      <td>0.477968</td>\n",
       "      <td>0.737806</td>\n",
       "      <td>1.000000</td>\n",
       "      <td>0.660316</td>\n",
       "      <td>0.760402</td>\n",
       "      <td>0.777255</td>\n",
       "      <td>0.551815</td>\n",
       "    </tr>\n",
       "    <tr>\n",
       "      <th>influent_flow_7</th>\n",
       "      <td>0.563632</td>\n",
       "      <td>0.606312</td>\n",
       "      <td>0.565605</td>\n",
       "      <td>0.578032</td>\n",
       "      <td>0.632867</td>\n",
       "      <td>0.609425</td>\n",
       "      <td>0.538722</td>\n",
       "      <td>0.660316</td>\n",
       "      <td>1.000000</td>\n",
       "      <td>0.590722</td>\n",
       "      <td>0.714986</td>\n",
       "      <td>0.777292</td>\n",
       "    </tr>\n",
       "    <tr>\n",
       "      <th>effluent_flow</th>\n",
       "      <td>0.784184</td>\n",
       "      <td>0.623159</td>\n",
       "      <td>0.528657</td>\n",
       "      <td>0.838908</td>\n",
       "      <td>0.665392</td>\n",
       "      <td>0.561484</td>\n",
       "      <td>0.777278</td>\n",
       "      <td>0.760402</td>\n",
       "      <td>0.590722</td>\n",
       "      <td>1.000000</td>\n",
       "      <td>0.769022</td>\n",
       "      <td>0.596579</td>\n",
       "    </tr>\n",
       "    <tr>\n",
       "      <th>effluent_flow_3</th>\n",
       "      <td>0.645785</td>\n",
       "      <td>0.784155</td>\n",
       "      <td>0.587165</td>\n",
       "      <td>0.684488</td>\n",
       "      <td>0.838899</td>\n",
       "      <td>0.626339</td>\n",
       "      <td>0.596434</td>\n",
       "      <td>0.777255</td>\n",
       "      <td>0.714986</td>\n",
       "      <td>0.769022</td>\n",
       "      <td>1.000000</td>\n",
       "      <td>0.706248</td>\n",
       "    </tr>\n",
       "    <tr>\n",
       "      <th>effluent_flow_7</th>\n",
       "      <td>0.568019</td>\n",
       "      <td>0.618380</td>\n",
       "      <td>0.784095</td>\n",
       "      <td>0.592241</td>\n",
       "      <td>0.652356</td>\n",
       "      <td>0.838907</td>\n",
       "      <td>0.478530</td>\n",
       "      <td>0.551815</td>\n",
       "      <td>0.777292</td>\n",
       "      <td>0.596579</td>\n",
       "      <td>0.706248</td>\n",
       "      <td>1.000000</td>\n",
       "    </tr>\n",
       "  </tbody>\n",
       "</table>\n",
       "</div>"
      ],
      "text/plain": [
       "                    energy_generated  energy_generated_3  energy_generated_7  \\\n",
       "energy_generated            1.000000            0.753128            0.670042   \n",
       "energy_generated_3          0.753128            1.000000            0.712996   \n",
       "energy_generated_7          0.670042            0.712996            1.000000   \n",
       "turbine_flow                0.980606            0.734265            0.647677   \n",
       "turbine_flow_3              0.737891            0.980576            0.693668   \n",
       "turbine_flow_7              0.653967            0.697758            0.980572   \n",
       "influent_flow               0.565626            0.462729            0.390820   \n",
       "influent_flow_3             0.610313            0.565540            0.436552   \n",
       "influent_flow_7             0.563632            0.606312            0.565605   \n",
       "effluent_flow               0.784184            0.623159            0.528657   \n",
       "effluent_flow_3             0.645785            0.784155            0.587165   \n",
       "effluent_flow_7             0.568019            0.618380            0.784095   \n",
       "\n",
       "                    turbine_flow  turbine_flow_3  turbine_flow_7  \\\n",
       "energy_generated        0.980606        0.737891        0.653967   \n",
       "energy_generated_3      0.734265        0.980576        0.697758   \n",
       "energy_generated_7      0.647677        0.693668        0.980572   \n",
       "turbine_flow            1.000000        0.751492        0.661775   \n",
       "turbine_flow_3          0.751492        1.000000        0.710126   \n",
       "turbine_flow_7          0.661775        0.710126        1.000000   \n",
       "influent_flow           0.609231        0.504163        0.432405   \n",
       "influent_flow_3         0.642251        0.609271        0.477968   \n",
       "influent_flow_7         0.578032        0.632867        0.609425   \n",
       "effluent_flow           0.838908        0.665392        0.561484   \n",
       "effluent_flow_3         0.684488        0.838899        0.626339   \n",
       "effluent_flow_7         0.592241        0.652356        0.838907   \n",
       "\n",
       "                    influent_flow  influent_flow_3  influent_flow_7  \\\n",
       "energy_generated         0.565626         0.610313         0.563632   \n",
       "energy_generated_3       0.462729         0.565540         0.606312   \n",
       "energy_generated_7       0.390820         0.436552         0.565605   \n",
       "turbine_flow             0.609231         0.642251         0.578032   \n",
       "turbine_flow_3           0.504163         0.609271         0.632867   \n",
       "turbine_flow_7           0.432405         0.477968         0.609425   \n",
       "influent_flow            1.000000         0.737806         0.538722   \n",
       "influent_flow_3          0.737806         1.000000         0.660316   \n",
       "influent_flow_7          0.538722         0.660316         1.000000   \n",
       "effluent_flow            0.777278         0.760402         0.590722   \n",
       "effluent_flow_3          0.596434         0.777255         0.714986   \n",
       "effluent_flow_7          0.478530         0.551815         0.777292   \n",
       "\n",
       "                    effluent_flow  effluent_flow_3  effluent_flow_7  \n",
       "energy_generated         0.784184         0.645785         0.568019  \n",
       "energy_generated_3       0.623159         0.784155         0.618380  \n",
       "energy_generated_7       0.528657         0.587165         0.784095  \n",
       "turbine_flow             0.838908         0.684488         0.592241  \n",
       "turbine_flow_3           0.665392         0.838899         0.652356  \n",
       "turbine_flow_7           0.561484         0.626339         0.838907  \n",
       "influent_flow            0.777278         0.596434         0.478530  \n",
       "influent_flow_3          0.760402         0.777255         0.551815  \n",
       "influent_flow_7          0.590722         0.714986         0.777292  \n",
       "effluent_flow            1.000000         0.769022         0.596579  \n",
       "effluent_flow_3          0.769022         1.000000         0.706248  \n",
       "effluent_flow_7          0.596579         0.706248         1.000000  "
      ]
     },
     "execution_count": 19,
     "metadata": {},
     "output_type": "execute_result"
    }
   ],
   "source": [
    "df_2017_lagged[['energy_generated','energy_generated_3','energy_generated_7','turbine_flow','turbine_flow_3','turbine_flow_7','influent_flow','influent_flow_3','influent_flow_7','effluent_flow','effluent_flow_3','effluent_flow_7']].corr()"
   ]
  }
 ],
 "metadata": {
  "anaconda-cloud": {},
  "kernelspec": {
   "display_name": "Python 3",
   "language": "python",
   "name": "python3"
  },
  "language_info": {
   "codemirror_mode": {
    "name": "ipython",
    "version": 3
   },
   "file_extension": ".py",
   "mimetype": "text/x-python",
   "name": "python",
   "nbconvert_exporter": "python",
   "pygments_lexer": "ipython3",
   "version": "3.8.5"
  }
 },
 "nbformat": 4,
 "nbformat_minor": 1
}
