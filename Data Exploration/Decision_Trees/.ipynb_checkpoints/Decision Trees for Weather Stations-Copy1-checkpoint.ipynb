{
 "cells": [
  {
   "cell_type": "code",
   "execution_count": 1,
   "metadata": {
    "scrolled": false
   },
   "outputs": [
    {
     "ename": "ModuleNotFoundError",
     "evalue": "No module named 'graphviz'",
     "output_type": "error",
     "traceback": [
      "\u001b[1;31m---------------------------------------------------------------------------\u001b[0m",
      "\u001b[1;31mModuleNotFoundError\u001b[0m                       Traceback (most recent call last)",
      "\u001b[1;32m<ipython-input-1-672ed97a99be>\u001b[0m in \u001b[0;36m<module>\u001b[1;34m\u001b[0m\n\u001b[0;32m      3\u001b[0m \u001b[1;32mimport\u001b[0m \u001b[0mmatplotlib\u001b[0m \u001b[1;32mas\u001b[0m \u001b[0mmpl\u001b[0m\u001b[1;33m\u001b[0m\u001b[1;33m\u001b[0m\u001b[0m\n\u001b[0;32m      4\u001b[0m \u001b[1;32mimport\u001b[0m \u001b[0mmatplotlib\u001b[0m\u001b[1;33m.\u001b[0m\u001b[0mpyplot\u001b[0m \u001b[1;32mas\u001b[0m \u001b[0mplt\u001b[0m\u001b[1;33m\u001b[0m\u001b[1;33m\u001b[0m\u001b[0m\n\u001b[1;32m----> 5\u001b[1;33m \u001b[1;32mimport\u001b[0m \u001b[0mgraphviz\u001b[0m\u001b[1;33m\u001b[0m\u001b[1;33m\u001b[0m\u001b[0m\n\u001b[0m\u001b[0;32m      6\u001b[0m \u001b[1;31m# might need to install -- need *both* python and system\u001b[0m\u001b[1;33m\u001b[0m\u001b[1;33m\u001b[0m\u001b[1;33m\u001b[0m\u001b[0m\n\u001b[0;32m      7\u001b[0m \u001b[1;31m# so use Anaconda (or pip) to install graphviz, and also https://graphviz.org/download/\u001b[0m\u001b[1;33m\u001b[0m\u001b[1;33m\u001b[0m\u001b[1;33m\u001b[0m\u001b[0m\n",
      "\u001b[1;31mModuleNotFoundError\u001b[0m: No module named 'graphviz'"
     ]
    }
   ],
   "source": [
    "import pandas as pd\n",
    "import numpy as np\n",
    "import matplotlib as mpl\n",
    "import matplotlib.pyplot as plt\n",
    "import graphviz \n",
    "# might need to install -- need *both* python and system\n",
    "# so use Anaconda (or pip) to install graphviz, and also https://graphviz.org/download/\n",
    "# this was a non-trivial install on Mac (depends on Xcode command-line tools)\n",
    "# `pip install graphviz` and `brew install graphviz`\n",
    "import datetime as dt\n",
    "\n",
    "%matplotlib inline\n",
    "from sklearn.model_selection import train_test_split\n",
    "from sklearn.tree import DecisionTreeRegressor, DecisionTreeClassifier, export_graphviz\n",
    "from sklearn.ensemble import RandomForestRegressor, GradientBoostingRegressor\n",
    "from sklearn.metrics import confusion_matrix, mean_squared_error"
   ]
  },
  {
   "cell_type": "code",
   "execution_count": null,
   "metadata": {
    "scrolled": false
   },
   "outputs": [],
   "source": [
    "bb = pd.read_csv(\"../../Data/1999_2021/aggragate_daily_data_2000to2020.csv\", index_col = \"date\")['energy_generated'].loc['2007-01-01':'2017-12-31'].to_frame()\n",
    "\n",
    "weather = pd.read_csv(\"../../Data/historic_weather_all_SP_daily.csv\", index_col = \"date\")"
   ]
  },
  {
   "cell_type": "markdown",
   "metadata": {},
   "source": [
    "Changing columns to (station, measurement)"
   ]
  },
  {
   "cell_type": "code",
   "execution_count": null,
   "metadata": {
    "scrolled": true
   },
   "outputs": [],
   "source": [
    "weather_tmp=weather.pivot(index='date', columns='station', values=['rain_mm', 'temp_max','temp_min'])"
   ]
  },
  {
   "cell_type": "code",
   "execution_count": 104,
   "metadata": {},
   "outputs": [],
   "source": [
    "#really ugly. sorry.\n",
    "weather_0 = weather_tmp.rename(columns={'rain_mm':'rain_mm_0', 'temp_max':'temp_max_0', 'temp_min':'temp_min_0'}).swaplevel(axis=1).sort_index(axis=1)\n",
    "weather_7 = weather_tmp.shift(-7).rename(columns={'rain_mm':'rain_mm_7', 'temp_max':'temp_max_7', 'temp_min':'temp_min_7'}).swaplevel(axis=1).sort_index(axis=1)\n",
    "weather_14 = weather_tmp.shift(-14).rename(columns={'rain_mm':'rain_mm_14', 'temp_max':'temp_max_14', 'temp_min':'temp_min_14'}).swaplevel(axis=1).sort_index(axis=1)\n",
    "weather_30 = weather_tmp.shift(-30).rename(columns={'rain_mm':'rain_mm_30', 'temp_max':'temp_max_30', 'temp_min':'temp_min_30'}).swaplevel(axis=1).sort_index(axis=1)\n"
   ]
  },
  {
   "cell_type": "code",
   "execution_count": 212,
   "metadata": {
    "scrolled": true
   },
   "outputs": [
    {
     "name": "stderr",
     "output_type": "stream",
     "text": [
      "/Users/jzhu/opt/anaconda3/lib/python3.8/site-packages/pandas/core/reshape/merge.py:643: UserWarning: merging between different levels can give an unintended result (1 levels on the left,2 on the right)\n",
      "  warnings.warn(msg, UserWarning)\n"
     ]
    }
   ],
   "source": [
    "rain = weather.pivot(columns='station', values=['rain_mm']).fillna(0)\n",
    "rain_0 = rain.rename(columns={'rain_mm':'rain_mm_0'})\n",
    "rain_7 = rain.shift(-7).rename(columns={'rain_mm':'rain_mm_7'})\n",
    "rain_14 = rain.shift(-14).rename(columns={'rain_mm':'rain_mm_14'})\n",
    "rain_30 = rain.shift(-30).rename(columns={'rain_mm':'rain_mm_30'})\n",
    "\n",
    "rain_agg = bb.join(rain_0).join(rain_7).join(rain_14).join(rain_30)\n"
   ]
  },
  {
   "cell_type": "code",
   "execution_count": 179,
   "metadata": {},
   "outputs": [],
   "source": [
    "X_agg = rain_agg.drop('energy_generated', axis = 1)\n",
    "y_agg = rain_agg.energy_generated\n",
    "X_agg_train, X_agg_test, y_agg_train, y_agg_test = train_test_split(X_agg, y_agg, train_size = 0.8, random_state = 0)"
   ]
  },
  {
   "cell_type": "code",
   "execution_count": 213,
   "metadata": {
    "scrolled": true
   },
   "outputs": [
    {
     "name": "stderr",
     "output_type": "stream",
     "text": [
      "/Users/jzhu/opt/anaconda3/lib/python3.8/site-packages/pandas/core/reshape/merge.py:643: UserWarning: merging between different levels can give an unintended result (2 levels on the left,1 on the right)\n",
      "  warnings.warn(msg, UserWarning)\n",
      "/Users/jzhu/opt/anaconda3/lib/python3.8/site-packages/pandas/core/reshape/merge.py:643: UserWarning: merging between different levels can give an unintended result (2 levels on the left,1 on the right)\n",
      "  warnings.warn(msg, UserWarning)\n",
      "/Users/jzhu/opt/anaconda3/lib/python3.8/site-packages/pandas/core/reshape/merge.py:643: UserWarning: merging between different levels can give an unintended result (2 levels on the left,1 on the right)\n",
      "  warnings.warn(msg, UserWarning)\n",
      "/Users/jzhu/opt/anaconda3/lib/python3.8/site-packages/pandas/core/reshape/merge.py:643: UserWarning: merging between different levels can give an unintended result (2 levels on the left,1 on the right)\n",
      "  warnings.warn(msg, UserWarning)\n"
     ]
    }
   ],
   "source": [
    "rain_0 = rain_0.join(bb).dropna()\n",
    "rain_7 = rain_7.join(bb).dropna()\n",
    "rain_14 = rain_14.join(bb).dropna()\n",
    "rain_30 = rain_30.join(bb).dropna()"
   ]
  },
  {
   "cell_type": "code",
   "execution_count": 219,
   "metadata": {},
   "outputs": [
    {
     "data": {
      "text/plain": [
       "(4017, 43)"
      ]
     },
     "execution_count": 219,
     "metadata": {},
     "output_type": "execute_result"
    }
   ],
   "source": [
    "rain_7.shape"
   ]
  },
  {
   "cell_type": "code",
   "execution_count": 181,
   "metadata": {},
   "outputs": [
    {
     "data": {
      "text/plain": [
       "0.3205404046788969"
      ]
     },
     "execution_count": 181,
     "metadata": {},
     "output_type": "execute_result"
    },
    {
     "data": {
      "image/png": "[encoded data removed]",
      "text/plain": [
       "<Figure size 432x288 with 1 Axes>"
      ]
     },
     "metadata": {
      "needs_background": "light"
     },
     "output_type": "display_data"
    }
   ],
   "source": [
    "#Bagging\n",
    "\n",
    "bagged_rain_agg = RandomForestRegressor(max_features = 168, random_state = 1)\n",
    "bagged_rain_agg.fit(X_agg_train, y_agg_train)\n",
    "pred_agg = bagged_rain_agg.predict(X_agg_test)\n",
    "\n",
    "plt.scatter(pred_agg, \n",
    "            y_agg_test, \n",
    "            label = 'energy_generated')\n",
    "\n",
    "plt.plot([0, 1], \n",
    "         [0, 1], \n",
    "         '--k', \n",
    "         transform = plt.gca().transAxes)\n",
    "\n",
    "plt.xlabel('pred')\n",
    "plt.ylabel('y_test')\n",
    "\n",
    "print(\"bagged forests:\", mean_squared_error(y_agg_test, pred_agg))"
   ]
  },
  {
   "cell_type": "code",
   "execution_count": 182,
   "metadata": {},
   "outputs": [
    {
     "data": {
      "text/plain": [
       "0.33391925550487767"
      ]
     },
     "execution_count": 182,
     "metadata": {},
     "output_type": "execute_result"
    }
   ],
   "source": [
    "#Random Forest\n",
    "random_forest_rain_agg = RandomForestRegressor(max_features = 10, random_state = 1)\n",
    "\n",
    "random_forest_rain_agg.fit(X_agg_train, y_agg_train)\n",
    "\n",
    "pred_agg = random_forest_rain.predict(X_agg_test)\n",
    "\n",
    "Importance_agg = pd.DataFrame({'Importance':random_forest_rain_agg.feature_importances_*100}, \n",
    "                          index = X.columns)\n",
    "\n",
    "Importance_agg = Importance_agg.sort_values(by = 'Importance', axis = 0)\n",
    "\n",
    "print(\"random forest MSE:\", mean_squared_error(y_agg_test, pred_agg))"
   ]
  },
  {
   "cell_type": "code",
   "execution_count": 183,
   "metadata": {},
   "outputs": [],
   "source": [
    "Importance_agg = pd.DataFrame({'Importance':random_forest_rain_agg.feature_importances_*100}, \n",
    "                          index = X.columns)\n",
    "\n",
    "Importance_agg = Importance_agg.sort_values(by = 'Importance', axis = 0)"
   ]
  },
  {
   "cell_type": "code",
   "execution_count": 184,
   "metadata": {
    "scrolled": false
   },
   "outputs": [
    {
     "data": {
      "text/html": [
       "<div>\n",
       "<style scoped>\n",
       "    .dataframe tbody tr th:only-of-type {\n",
       "        vertical-align: middle;\n",
       "    }\n",
       "\n",
       "    .dataframe tbody tr th {\n",
       "        vertical-align: top;\n",
       "    }\n",
       "\n",
       "    .dataframe thead th {\n",
       "        text-align: right;\n",
       "    }\n",
       "</style>\n",
       "<table border=\"1\" class=\"dataframe\">\n",
       "  <thead>\n",
       "    <tr style=\"text-align: right;\">\n",
       "      <th></th>\n",
       "      <th>Importance</th>\n",
       "    </tr>\n",
       "  </thead>\n",
       "  <tbody>\n",
       "    <tr>\n",
       "      <th>(rain_mm_0, A729 VOTUPORANGA)</th>\n",
       "      <td>1.909062</td>\n",
       "    </tr>\n",
       "    <tr>\n",
       "      <th>(rain_mm_0, A708 FRANCA)</th>\n",
       "      <td>1.754944</td>\n",
       "    </tr>\n",
       "    <tr>\n",
       "      <th>(rain_mm_0, A706 CAMPOS DO JORDAO)</th>\n",
       "      <td>1.688148</td>\n",
       "    </tr>\n",
       "    <tr>\n",
       "      <th>(rain_mm_0, A740 SAO LUIS DO PARAITINGA)</th>\n",
       "      <td>1.322364</td>\n",
       "    </tr>\n",
       "    <tr>\n",
       "      <th>(rain_mm_7, A706 CAMPOS DO JORDAO)</th>\n",
       "      <td>1.287535</td>\n",
       "    </tr>\n",
       "    <tr>\n",
       "      <th>(rain_mm_30, A712 IGUAPE)</th>\n",
       "      <td>1.275698</td>\n",
       "    </tr>\n",
       "    <tr>\n",
       "      <th>(rain_mm_0, A746 BARRA DO TURVO)</th>\n",
       "      <td>1.264757</td>\n",
       "    </tr>\n",
       "    <tr>\n",
       "      <th>(rain_mm_14, A712 IGUAPE)</th>\n",
       "      <td>1.252093</td>\n",
       "    </tr>\n",
       "    <tr>\n",
       "      <th>(rain_mm_7, A729 VOTUPORANGA)</th>\n",
       "      <td>1.248769</td>\n",
       "    </tr>\n",
       "    <tr>\n",
       "      <th>(rain_mm_30, A706 CAMPOS DO JORDAO)</th>\n",
       "      <td>1.232896</td>\n",
       "    </tr>\n",
       "  </tbody>\n",
       "</table>\n",
       "</div>"
      ],
      "text/plain": [
       "                                          Importance\n",
       "(rain_mm_0, A729 VOTUPORANGA)               1.909062\n",
       "(rain_mm_0, A708 FRANCA)                    1.754944\n",
       "(rain_mm_0, A706 CAMPOS DO JORDAO)          1.688148\n",
       "(rain_mm_0, A740 SAO LUIS DO PARAITINGA)    1.322364\n",
       "(rain_mm_7, A706 CAMPOS DO JORDAO)          1.287535\n",
       "(rain_mm_30, A712 IGUAPE)                   1.275698\n",
       "(rain_mm_0, A746 BARRA DO TURVO)            1.264757\n",
       "(rain_mm_14, A712 IGUAPE)                   1.252093\n",
       "(rain_mm_7, A729 VOTUPORANGA)               1.248769\n",
       "(rain_mm_30, A706 CAMPOS DO JORDAO)         1.232896"
      ]
     },
     "execution_count": 184,
     "metadata": {},
     "output_type": "execute_result"
    }
   ],
   "source": [
    "Importance.sort_values('Importance',ascending=False).head(10)"
   ]
  },
  {
   "cell_type": "code",
   "execution_count": 185,
   "metadata": {
    "scrolled": true
   },
   "outputs": [
    {
     "data": {
      "text/html": [
       "<div>\n",
       "<style scoped>\n",
       "    .dataframe tbody tr th:only-of-type {\n",
       "        vertical-align: middle;\n",
       "    }\n",
       "\n",
       "    .dataframe tbody tr th {\n",
       "        vertical-align: top;\n",
       "    }\n",
       "\n",
       "    .dataframe thead th {\n",
       "        text-align: right;\n",
       "    }\n",
       "</style>\n",
       "<table border=\"1\" class=\"dataframe\">\n",
       "  <thead>\n",
       "    <tr style=\"text-align: right;\">\n",
       "      <th></th>\n",
       "      <th>Importance</th>\n",
       "    </tr>\n",
       "  </thead>\n",
       "  <tbody>\n",
       "    <tr>\n",
       "      <th>(rain_mm_14, A744 BRAGANCA PAULISTA)</th>\n",
       "      <td>0.001361</td>\n",
       "    </tr>\n",
       "    <tr>\n",
       "      <th>(rain_mm_7, A744 BRAGANCA PAULISTA)</th>\n",
       "      <td>0.000080</td>\n",
       "    </tr>\n",
       "    <tr>\n",
       "      <th>(rain_mm_14, A770 SAO SIMAO)</th>\n",
       "      <td>0.000000</td>\n",
       "    </tr>\n",
       "    <tr>\n",
       "      <th>(rain_mm_7, A770 SAO SIMAO)</th>\n",
       "      <td>0.000000</td>\n",
       "    </tr>\n",
       "    <tr>\n",
       "      <th>(rain_mm_30, A770 SAO SIMAO)</th>\n",
       "      <td>0.000000</td>\n",
       "    </tr>\n",
       "    <tr>\n",
       "      <th>(rain_mm_14, A771 SAO PAULO - INTERLAGOS)</th>\n",
       "      <td>0.000000</td>\n",
       "    </tr>\n",
       "    <tr>\n",
       "      <th>(rain_mm_0, A771 SAO PAULO - INTERLAGOS)</th>\n",
       "      <td>0.000000</td>\n",
       "    </tr>\n",
       "    <tr>\n",
       "      <th>(rain_mm_0, A770 SAO SIMAO)</th>\n",
       "      <td>0.000000</td>\n",
       "    </tr>\n",
       "    <tr>\n",
       "      <th>(rain_mm_30, A771 SAO PAULO - INTERLAGOS)</th>\n",
       "      <td>0.000000</td>\n",
       "    </tr>\n",
       "    <tr>\n",
       "      <th>(rain_mm_7, A771 SAO PAULO - INTERLAGOS)</th>\n",
       "      <td>0.000000</td>\n",
       "    </tr>\n",
       "  </tbody>\n",
       "</table>\n",
       "</div>"
      ],
      "text/plain": [
       "                                           Importance\n",
       "(rain_mm_14, A744 BRAGANCA PAULISTA)         0.001361\n",
       "(rain_mm_7, A744 BRAGANCA PAULISTA)          0.000080\n",
       "(rain_mm_14, A770 SAO SIMAO)                 0.000000\n",
       "(rain_mm_7, A770 SAO SIMAO)                  0.000000\n",
       "(rain_mm_30, A770 SAO SIMAO)                 0.000000\n",
       "(rain_mm_14, A771 SAO PAULO - INTERLAGOS)    0.000000\n",
       "(rain_mm_0, A771 SAO PAULO - INTERLAGOS)     0.000000\n",
       "(rain_mm_0, A770 SAO SIMAO)                  0.000000\n",
       "(rain_mm_30, A771 SAO PAULO - INTERLAGOS)    0.000000\n",
       "(rain_mm_7, A771 SAO PAULO - INTERLAGOS)     0.000000"
      ]
     },
     "execution_count": 185,
     "metadata": {},
     "output_type": "execute_result"
    }
   ],
   "source": [
    "Importance.sort_values('Importance',ascending=False).tail(10)"
   ]
  },
  {
   "cell_type": "code",
   "execution_count": 227,
   "metadata": {},
   "outputs": [
    {
     "data": {
      "text/plain": [
       "(4017, 42)"
      ]
     },
     "execution_count": 227,
     "metadata": {},
     "output_type": "execute_result"
    }
   ],
   "source": [
    "X_7 = rain_7.drop('energy_generated', axis = 1)\n",
    "y_7 = rain_7.energy_generated\n",
    "X_7_train, X_7_test, y_7_train, y_7_test = train_test_split(X_7, y_7, train_size = 0.8, random_state = 0)\n"
   ]
  },
  {
   "cell_type": "code",
   "execution_count": 220,
   "metadata": {},
   "outputs": [
    {
     "data": {
      "text/plain": [
       "0.38668214323194267"
      ]
     },
     "execution_count": 220,
     "metadata": {},
     "output_type": "execute_result"
    },
    {
     "data": {
      "image/png": "[encoded data removed]",
      "text/plain": [
       "<Figure size 432x288 with 1 Axes>"
      ]
     },
     "metadata": {
      "needs_background": "light"
     },
     "output_type": "display_data"
    }
   ],
   "source": [
    "#Bagging\n",
    "\n",
    "bagged_rain_7 = RandomForestRegressor(max_features = 42, random_state = 1)\n",
    "bagged_rain_7.fit(X_7_train, y_7_train)\n",
    "pred_7 = bagged_rain_7.predict(X_7_test)\n",
    "\n",
    "plt.scatter(pred_7, \n",
    "            y_7_test, \n",
    "            label = 'energy_generated')\n",
    "\n",
    "plt.plot([0, 1], \n",
    "         [0, 1], \n",
    "         '--k', \n",
    "         transform = plt.gca().transAxes)\n",
    "\n",
    "plt.xlabel('pred')\n",
    "plt.ylabel('y_test')\n",
    "\n",
    "mean_squared_error(y_7_test, pred_7)"
   ]
  },
  {
   "cell_type": "code",
   "execution_count": 233,
   "metadata": {},
   "outputs": [],
   "source": [
    "#Random Forest\n",
    "random_forest_rain_7 = RandomForestRegressor(max_features = 42, random_state = 1)\n",
    "random_forest_rain_7.fit(X_7_train, y_7_train)\n",
    "pred_7 = random_forest_rain_7.predict(X_7_test)\n",
    "\n"
   ]
  },
  {
   "cell_type": "code",
   "execution_count": 238,
   "metadata": {
    "scrolled": true
   },
   "outputs": [
    {
     "name": "stdout",
     "output_type": "stream",
     "text": [
      "random forest MSE: 0.38668214323194267\n"
     ]
    }
   ],
   "source": [
    "Importance_7 = pd.DataFrame({'Importance':random_forest_rain_7.feature_importances_*100}, \n",
    "                          index = X_7.columns)\n",
    "\n",
    "Importance_7 = Importance_7.sort_values(by = 'Importance', axis = 0)\n",
    "\n",
    "print(\"random forest MSE:\", mean_squared_error(y_7_test, pred_7))"
   ]
  },
  {
   "cell_type": "code",
   "execution_count": 239,
   "metadata": {},
   "outputs": [
    {
     "ename": "SyntaxError",
     "evalue": "invalid character in identifier (<ipython-input-239-a59e3bbf5965>, line 1)",
     "output_type": "error",
     "traceback": [
      "\u001b[0;36m  File \u001b[0;32m\"<ipython-input-239-a59e3bbf5965>\"\u001b[0;36m, line \u001b[0;32m1\u001b[0m\n\u001b[0;31m    Importance.sort_values(‘Importance',ascending=False).head(10)\u001b[0m\n\u001b[0m                                     ^\u001b[0m\n\u001b[0;31mSyntaxError\u001b[0m\u001b[0;31m:\u001b[0m invalid character in identifier\n"
     ]
    }
   ],
   "source": [
    "Importance.sort_values(‘Importance', ascending=False).head(10)"
   ]
  }
 ],
 "metadata": {
  "kernelspec": {
   "display_name": "Python 3",
   "language": "python",
   "name": "python3"
  },
  "language_info": {
   "codemirror_mode": {
    "name": "ipython",
    "version": 3
   },
   "file_extension": ".py",
   "mimetype": "text/x-python",
   "name": "python",
   "nbconvert_exporter": "python",
   "pygments_lexer": "ipython3",
   "version": "3.8.8"
  }
 },
 "nbformat": 4,
 "nbformat_minor": 4
}
