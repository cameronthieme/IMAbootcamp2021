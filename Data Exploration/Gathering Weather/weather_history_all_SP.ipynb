{
 "cells": [
  {
   "cell_type": "code",
   "execution_count": 1,
   "id": "1943cd53",
   "metadata": {},
   "outputs": [],
   "source": [
    "import pandas as pd\n",
    "import numpy as np\n",
    "import re\n",
    "from zipfile import ZipFile"
   ]
  },
  {
   "cell_type": "code",
   "execution_count": 2,
   "id": "24db36cb",
   "metadata": {},
   "outputs": [
    {
     "name": "stdout",
     "output_type": "stream",
     "text": [
      "2000\n",
      "2001\n",
      "2002\n",
      "2003\n",
      "2004\n",
      "2005\n",
      "2006\n",
      "2007\n",
      "2008\n",
      "2009\n",
      "2010\n",
      "2011\n"
     ]
    },
    {
     "ename": "KeyboardInterrupt",
     "evalue": "",
     "output_type": "error",
     "traceback": [
      "\u001b[1;31m---------------------------------------------------------------------------\u001b[0m",
      "\u001b[1;31mKeyboardInterrupt\u001b[0m                         Traceback (most recent call last)",
      "\u001b[1;32m<ipython-input-2-0ce9a34e0d0c>\u001b[0m in \u001b[0;36m<module>\u001b[1;34m\u001b[0m\n\u001b[0;32m     14\u001b[0m                     \u001b[0mAll_DF\u001b[0m\u001b[1;33m=\u001b[0m\u001b[0mDF\u001b[0m\u001b[1;33m\u001b[0m\u001b[1;33m\u001b[0m\u001b[0m\n\u001b[0;32m     15\u001b[0m                 \u001b[1;32melse\u001b[0m\u001b[1;33m:\u001b[0m\u001b[1;33m\u001b[0m\u001b[1;33m\u001b[0m\u001b[0m\n\u001b[1;32m---> 16\u001b[1;33m                     \u001b[0mAll_DF\u001b[0m\u001b[1;33m=\u001b[0m\u001b[0mpd\u001b[0m\u001b[1;33m.\u001b[0m\u001b[0mconcat\u001b[0m\u001b[1;33m(\u001b[0m\u001b[1;33m[\u001b[0m\u001b[0mAll_DF\u001b[0m\u001b[1;33m,\u001b[0m\u001b[0mDF\u001b[0m\u001b[1;33m]\u001b[0m\u001b[1;33m,\u001b[0m\u001b[0mignore_index\u001b[0m\u001b[1;33m=\u001b[0m\u001b[1;32mTrue\u001b[0m\u001b[1;33m)\u001b[0m\u001b[1;33m\u001b[0m\u001b[1;33m\u001b[0m\u001b[0m\n\u001b[0m\u001b[0;32m     17\u001b[0m \u001b[0mAll_DF\u001b[0m\u001b[1;33m.\u001b[0m\u001b[0mhead\u001b[0m\u001b[1;33m(\u001b[0m\u001b[1;33m)\u001b[0m\u001b[1;33m\u001b[0m\u001b[1;33m\u001b[0m\u001b[0m\n",
      "\u001b[1;32m~\\anaconda3\\lib\\site-packages\\pandas\\core\\reshape\\concat.py\u001b[0m in \u001b[0;36mconcat\u001b[1;34m(objs, axis, join, ignore_index, keys, levels, names, verify_integrity, sort, copy)\u001b[0m\n\u001b[0;32m    296\u001b[0m     )\n\u001b[0;32m    297\u001b[0m \u001b[1;33m\u001b[0m\u001b[0m\n\u001b[1;32m--> 298\u001b[1;33m     \u001b[1;32mreturn\u001b[0m \u001b[0mop\u001b[0m\u001b[1;33m.\u001b[0m\u001b[0mget_result\u001b[0m\u001b[1;33m(\u001b[0m\u001b[1;33m)\u001b[0m\u001b[1;33m\u001b[0m\u001b[1;33m\u001b[0m\u001b[0m\n\u001b[0m\u001b[0;32m    299\u001b[0m \u001b[1;33m\u001b[0m\u001b[0m\n\u001b[0;32m    300\u001b[0m \u001b[1;33m\u001b[0m\u001b[0m\n",
      "\u001b[1;32m~\\anaconda3\\lib\\site-packages\\pandas\\core\\reshape\\concat.py\u001b[0m in \u001b[0;36mget_result\u001b[1;34m(self)\u001b[0m\n\u001b[0;32m    518\u001b[0m                 \u001b[0mmgrs_indexers\u001b[0m\u001b[1;33m.\u001b[0m\u001b[0mappend\u001b[0m\u001b[1;33m(\u001b[0m\u001b[1;33m(\u001b[0m\u001b[0mobj\u001b[0m\u001b[1;33m.\u001b[0m\u001b[0m_mgr\u001b[0m\u001b[1;33m,\u001b[0m \u001b[0mindexers\u001b[0m\u001b[1;33m)\u001b[0m\u001b[1;33m)\u001b[0m\u001b[1;33m\u001b[0m\u001b[1;33m\u001b[0m\u001b[0m\n\u001b[0;32m    519\u001b[0m \u001b[1;33m\u001b[0m\u001b[0m\n\u001b[1;32m--> 520\u001b[1;33m             new_data = concatenate_block_managers(\n\u001b[0m\u001b[0;32m    521\u001b[0m                 \u001b[0mmgrs_indexers\u001b[0m\u001b[1;33m,\u001b[0m \u001b[0mself\u001b[0m\u001b[1;33m.\u001b[0m\u001b[0mnew_axes\u001b[0m\u001b[1;33m,\u001b[0m \u001b[0mconcat_axis\u001b[0m\u001b[1;33m=\u001b[0m\u001b[0mself\u001b[0m\u001b[1;33m.\u001b[0m\u001b[0mbm_axis\u001b[0m\u001b[1;33m,\u001b[0m \u001b[0mcopy\u001b[0m\u001b[1;33m=\u001b[0m\u001b[0mself\u001b[0m\u001b[1;33m.\u001b[0m\u001b[0mcopy\u001b[0m\u001b[1;33m\u001b[0m\u001b[1;33m\u001b[0m\u001b[0m\n\u001b[0;32m    522\u001b[0m             )\n",
      "\u001b[1;32m~\\anaconda3\\lib\\site-packages\\pandas\\core\\internals\\concat.py\u001b[0m in \u001b[0;36mconcatenate_block_managers\u001b[1;34m(mgrs_indexers, axes, concat_axis, copy)\u001b[0m\n\u001b[0;32m     81\u001b[0m         \u001b[1;32melse\u001b[0m\u001b[1;33m:\u001b[0m\u001b[1;33m\u001b[0m\u001b[1;33m\u001b[0m\u001b[0m\n\u001b[0;32m     82\u001b[0m             b = make_block(\n\u001b[1;32m---> 83\u001b[1;33m                 \u001b[0m_concatenate_join_units\u001b[0m\u001b[1;33m(\u001b[0m\u001b[0mjoin_units\u001b[0m\u001b[1;33m,\u001b[0m \u001b[0mconcat_axis\u001b[0m\u001b[1;33m,\u001b[0m \u001b[0mcopy\u001b[0m\u001b[1;33m=\u001b[0m\u001b[0mcopy\u001b[0m\u001b[1;33m)\u001b[0m\u001b[1;33m,\u001b[0m\u001b[1;33m\u001b[0m\u001b[1;33m\u001b[0m\u001b[0m\n\u001b[0m\u001b[0;32m     84\u001b[0m                 \u001b[0mplacement\u001b[0m\u001b[1;33m=\u001b[0m\u001b[0mplacement\u001b[0m\u001b[1;33m,\u001b[0m\u001b[1;33m\u001b[0m\u001b[1;33m\u001b[0m\u001b[0m\n\u001b[0;32m     85\u001b[0m                 \u001b[0mndim\u001b[0m\u001b[1;33m=\u001b[0m\u001b[0mlen\u001b[0m\u001b[1;33m(\u001b[0m\u001b[0maxes\u001b[0m\u001b[1;33m)\u001b[0m\u001b[1;33m,\u001b[0m\u001b[1;33m\u001b[0m\u001b[1;33m\u001b[0m\u001b[0m\n",
      "\u001b[1;32m~\\anaconda3\\lib\\site-packages\\pandas\\core\\internals\\concat.py\u001b[0m in \u001b[0;36m_concatenate_join_units\u001b[1;34m(join_units, concat_axis, copy)\u001b[0m\n\u001b[0;32m    311\u001b[0m     \u001b[0mempty_dtype\u001b[0m\u001b[1;33m,\u001b[0m \u001b[0mupcasted_na\u001b[0m \u001b[1;33m=\u001b[0m \u001b[0m_get_empty_dtype_and_na\u001b[0m\u001b[1;33m(\u001b[0m\u001b[0mjoin_units\u001b[0m\u001b[1;33m)\u001b[0m\u001b[1;33m\u001b[0m\u001b[1;33m\u001b[0m\u001b[0m\n\u001b[0;32m    312\u001b[0m \u001b[1;33m\u001b[0m\u001b[0m\n\u001b[1;32m--> 313\u001b[1;33m     to_concat = [\n\u001b[0m\u001b[0;32m    314\u001b[0m         \u001b[0mju\u001b[0m\u001b[1;33m.\u001b[0m\u001b[0mget_reindexed_values\u001b[0m\u001b[1;33m(\u001b[0m\u001b[0mempty_dtype\u001b[0m\u001b[1;33m=\u001b[0m\u001b[0mempty_dtype\u001b[0m\u001b[1;33m,\u001b[0m \u001b[0mupcasted_na\u001b[0m\u001b[1;33m=\u001b[0m\u001b[0mupcasted_na\u001b[0m\u001b[1;33m)\u001b[0m\u001b[1;33m\u001b[0m\u001b[1;33m\u001b[0m\u001b[0m\n\u001b[0;32m    315\u001b[0m         \u001b[1;32mfor\u001b[0m \u001b[0mju\u001b[0m \u001b[1;32min\u001b[0m \u001b[0mjoin_units\u001b[0m\u001b[1;33m\u001b[0m\u001b[1;33m\u001b[0m\u001b[0m\n",
      "\u001b[1;32m~\\anaconda3\\lib\\site-packages\\pandas\\core\\internals\\concat.py\u001b[0m in \u001b[0;36m<listcomp>\u001b[1;34m(.0)\u001b[0m\n\u001b[0;32m    312\u001b[0m \u001b[1;33m\u001b[0m\u001b[0m\n\u001b[0;32m    313\u001b[0m     to_concat = [\n\u001b[1;32m--> 314\u001b[1;33m         \u001b[0mju\u001b[0m\u001b[1;33m.\u001b[0m\u001b[0mget_reindexed_values\u001b[0m\u001b[1;33m(\u001b[0m\u001b[0mempty_dtype\u001b[0m\u001b[1;33m=\u001b[0m\u001b[0mempty_dtype\u001b[0m\u001b[1;33m,\u001b[0m \u001b[0mupcasted_na\u001b[0m\u001b[1;33m=\u001b[0m\u001b[0mupcasted_na\u001b[0m\u001b[1;33m)\u001b[0m\u001b[1;33m\u001b[0m\u001b[1;33m\u001b[0m\u001b[0m\n\u001b[0m\u001b[0;32m    315\u001b[0m         \u001b[1;32mfor\u001b[0m \u001b[0mju\u001b[0m \u001b[1;32min\u001b[0m \u001b[0mjoin_units\u001b[0m\u001b[1;33m\u001b[0m\u001b[1;33m\u001b[0m\u001b[0m\n\u001b[0;32m    316\u001b[0m     ]\n",
      "\u001b[1;32m~\\anaconda3\\lib\\site-packages\\pandas\\core\\internals\\concat.py\u001b[0m in \u001b[0;36mget_reindexed_values\u001b[1;34m(self, empty_dtype, upcasted_na)\u001b[0m\n\u001b[0;32m    296\u001b[0m         \u001b[1;32melse\u001b[0m\u001b[1;33m:\u001b[0m\u001b[1;33m\u001b[0m\u001b[1;33m\u001b[0m\u001b[0m\n\u001b[0;32m    297\u001b[0m             \u001b[1;32mfor\u001b[0m \u001b[0max\u001b[0m\u001b[1;33m,\u001b[0m \u001b[0mindexer\u001b[0m \u001b[1;32min\u001b[0m \u001b[0mself\u001b[0m\u001b[1;33m.\u001b[0m\u001b[0mindexers\u001b[0m\u001b[1;33m.\u001b[0m\u001b[0mitems\u001b[0m\u001b[1;33m(\u001b[0m\u001b[1;33m)\u001b[0m\u001b[1;33m:\u001b[0m\u001b[1;33m\u001b[0m\u001b[1;33m\u001b[0m\u001b[0m\n\u001b[1;32m--> 298\u001b[1;33m                 \u001b[0mvalues\u001b[0m \u001b[1;33m=\u001b[0m \u001b[0malgos\u001b[0m\u001b[1;33m.\u001b[0m\u001b[0mtake_nd\u001b[0m\u001b[1;33m(\u001b[0m\u001b[0mvalues\u001b[0m\u001b[1;33m,\u001b[0m \u001b[0mindexer\u001b[0m\u001b[1;33m,\u001b[0m \u001b[0maxis\u001b[0m\u001b[1;33m=\u001b[0m\u001b[0max\u001b[0m\u001b[1;33m,\u001b[0m \u001b[0mfill_value\u001b[0m\u001b[1;33m=\u001b[0m\u001b[0mfill_value\u001b[0m\u001b[1;33m)\u001b[0m\u001b[1;33m\u001b[0m\u001b[1;33m\u001b[0m\u001b[0m\n\u001b[0m\u001b[0;32m    299\u001b[0m \u001b[1;33m\u001b[0m\u001b[0m\n\u001b[0;32m    300\u001b[0m         \u001b[1;32mreturn\u001b[0m \u001b[0mvalues\u001b[0m\u001b[1;33m\u001b[0m\u001b[1;33m\u001b[0m\u001b[0m\n",
      "\u001b[1;32m~\\anaconda3\\lib\\site-packages\\pandas\\core\\algorithms.py\u001b[0m in \u001b[0;36mtake_nd\u001b[1;34m(arr, indexer, axis, out, fill_value, allow_fill)\u001b[0m\n\u001b[0;32m   1754\u001b[0m             \u001b[0mout\u001b[0m \u001b[1;33m=\u001b[0m \u001b[0mnp\u001b[0m\u001b[1;33m.\u001b[0m\u001b[0mempty\u001b[0m\u001b[1;33m(\u001b[0m\u001b[0mout_shape\u001b[0m\u001b[1;33m,\u001b[0m \u001b[0mdtype\u001b[0m\u001b[1;33m=\u001b[0m\u001b[0mdtype\u001b[0m\u001b[1;33m)\u001b[0m\u001b[1;33m\u001b[0m\u001b[1;33m\u001b[0m\u001b[0m\n\u001b[0;32m   1755\u001b[0m \u001b[1;33m\u001b[0m\u001b[0m\n\u001b[1;32m-> 1756\u001b[1;33m     func = _get_take_nd_function(\n\u001b[0m\u001b[0;32m   1757\u001b[0m         \u001b[0marr\u001b[0m\u001b[1;33m.\u001b[0m\u001b[0mndim\u001b[0m\u001b[1;33m,\u001b[0m \u001b[0marr\u001b[0m\u001b[1;33m.\u001b[0m\u001b[0mdtype\u001b[0m\u001b[1;33m,\u001b[0m \u001b[0mout\u001b[0m\u001b[1;33m.\u001b[0m\u001b[0mdtype\u001b[0m\u001b[1;33m,\u001b[0m \u001b[0maxis\u001b[0m\u001b[1;33m=\u001b[0m\u001b[0maxis\u001b[0m\u001b[1;33m,\u001b[0m \u001b[0mmask_info\u001b[0m\u001b[1;33m=\u001b[0m\u001b[0mmask_info\u001b[0m\u001b[1;33m\u001b[0m\u001b[1;33m\u001b[0m\u001b[0m\n\u001b[0;32m   1758\u001b[0m     )\n",
      "\u001b[1;31mKeyboardInterrupt\u001b[0m: "
     ]
    }
   ],
   "source": [
    "years=range(2000,2021)\n",
    "All_DF=np.zeros([0,20])\n",
    "for year in years:\n",
    "    print(year)\n",
    "    with ZipFile('Weather History/'+str(year)+'.zip') as myzip:\n",
    "        path_documents=[name for name in myzip.namelist() if 'INMET_SE_SP' in name]\n",
    "        for path in path_documents:\n",
    "            base_name_match=re.search('SE_(\\w\\w)_([AC]\\d+)_(.*?)_',path)\n",
    "            with myzip.open(path) as myfile:\n",
    "                DF=pd.read_csv(myfile,delimiter=';',skiprows=8,encoding='latin')\n",
    "                DF['state']=base_name_match[1]\n",
    "                DF['station']=base_name_match[2]+' '+base_name_match[2]\n",
    "                if All_DF.shape[0]==0:\n",
    "                    All_DF=DF\n",
    "                else:\n",
    "                    All_DF=pd.concat([All_DF,DF],ignore_index=True)\n",
    "All_DF.head()"
   ]
  },
  {
   "cell_type": "code",
   "execution_count": null,
   "id": "510d1110",
   "metadata": {},
   "outputs": [],
   "source": [
    "All_DF[['TEMPERATURA ORVALHO MAX. NA HORA ANT. (AUT) (°C)','TEMPERATURA MÁXIMA NA HORA ANT. (AUT) (°C)',\n",
    "       'TEMPERATURA DO PONTO DE ORVALHO (°C)','TEMPERATURA DO AR - BULBO SECO, HORARIA (°C)']]"
   ]
  },
  {
   "cell_type": "code",
   "execution_count": null,
   "id": "9470bbfe",
   "metadata": {},
   "outputs": [],
   "source": [
    "#We see that a couple of important columns got duplicated, so we fix that\n",
    "All_DF.loc[All_DF['DATA (YYYY-MM-DD)'].isna(),'DATA (YYYY-MM-DD)']=All_DF['Data'][All_DF['DATA (YYYY-MM-DD)'].isna()]\n",
    "All_DF.loc[All_DF['HORA (UTC)'].isna(),'HORA (UTC)']=All_DF['Hora UTC'][All_DF['HORA (UTC)'].isna()]"
   ]
  },
  {
   "cell_type": "code",
   "execution_count": null,
   "id": "22b18f6b",
   "metadata": {},
   "outputs": [],
   "source": [
    "#We keep only the desired variables and change their names\n",
    "All_DF=All_DF[['DATA (YYYY-MM-DD)','HORA (UTC)','station',\n",
    "               'PRECIPITAÇÃO TOTAL, HORÁRIO (mm)',\n",
    "               'TEMPERATURA ORVALHO MAX. NA HORA ANT. (AUT) (°C)',\n",
    "               'TEMPERATURA ORVALHO MIN. NA HORA ANT. (AUT) (°C)']]\n",
    "Column_Names={'DATA (YYYY-MM-DD)':'date',\n",
    "              'HORA (UTC)':'hour',\n",
    "               'PRECIPITAÇÃO TOTAL, HORÁRIO (mm)':'rain_mm',\n",
    "               'TEMPERATURA ORVALHO MAX. NA HORA ANT. (AUT) (°C)':'temp_max',\n",
    "               'TEMPERATURA ORVALHO MIN. NA HORA ANT. (AUT) (°C)':'temp_min'}\n",
    "All_DF.rename(Column_Names,axis=1,inplace=True)"
   ]
  },
  {
   "cell_type": "code",
   "execution_count": null,
   "id": "67a49601",
   "metadata": {},
   "outputs": [],
   "source": [
    "All_DF.dtypes"
   ]
  },
  {
   "cell_type": "code",
   "execution_count": null,
   "id": "3dd92f18",
   "metadata": {},
   "outputs": [],
   "source": [
    "#Fix Numbers\n",
    "def fix_numbers(x): \n",
    "    x=str(x); x=x.replace(',','.')\n",
    "    try:\n",
    "        x=float(x)\n",
    "        if x<-100:\n",
    "            return np.nan\n",
    "        else:\n",
    "            return x\n",
    "    except:\n",
    "        return np.nan\n",
    "All_DF['rain_mm']=All_DF['rain_mm'].apply(fix_numbers)\n",
    "All_DF['temp_max']=All_DF['temp_max'].apply(fix_numbers)\n",
    "All_DF['temp_min']=All_DF['temp_min'].apply(fix_numbers)"
   ]
  },
  {
   "cell_type": "code",
   "execution_count": null,
   "id": "5b091f09",
   "metadata": {},
   "outputs": [],
   "source": [
    "#Fix Hour\n",
    "def fix_hour(x):\n",
    "    x=str(x)\n",
    "    x=x.replace(':','')\n",
    "    x=x.split(' ')[0]\n",
    "    x=int(x)/100\n",
    "    return x\n",
    "All_DF['hour']=All_DF['hour'].apply(fix_hour)"
   ]
  },
  {
   "cell_type": "code",
   "execution_count": null,
   "id": "6e877c9f",
   "metadata": {},
   "outputs": [],
   "source": [
    "#Fix date\n",
    "def fix_date(x):\n",
    "    x=str(x)\n",
    "    x=x.replace('/','-')\n",
    "    return x\n",
    "All_DF['date']=All_DF['date'].apply(fix_date)\n",
    "All_DF['date']=pd.to_datetime(All_DF['date'])"
   ]
  },
  {
   "cell_type": "code",
   "execution_count": null,
   "id": "4a044ea5",
   "metadata": {},
   "outputs": [],
   "source": [
    "All_DF.describe()"
   ]
  },
  {
   "cell_type": "code",
   "execution_count": null,
   "id": "d40312e1",
   "metadata": {},
   "outputs": [],
   "source": [
    "All_DF.head()"
   ]
  },
  {
   "cell_type": "code",
   "execution_count": null,
   "id": "7b4a834e",
   "metadata": {},
   "outputs": [],
   "source": [
    "All_DF.dtypes"
   ]
  },
  {
   "cell_type": "code",
   "execution_count": null,
   "id": "af697003",
   "metadata": {},
   "outputs": [],
   "source": [
    "All_DF.groupby('station').agg(lambda x: sum(x.isnull()))"
   ]
  },
  {
   "cell_type": "code",
   "execution_count": null,
   "id": "26ec2b37",
   "metadata": {},
   "outputs": [],
   "source": [
    "All_DF=All_DF[All_DF.station!='C891 CRIOSFERA']"
   ]
  },
  {
   "cell_type": "code",
   "execution_count": null,
   "id": "288a6287",
   "metadata": {},
   "outputs": [],
   "source": [
    "All_DF.to_csv('ima2021_project/Data/historic_weather_all_SP_hourly.csv.zip',index=False)"
   ]
  },
  {
   "cell_type": "code",
   "execution_count": null,
   "id": "4959a939",
   "metadata": {},
   "outputs": [],
   "source": [
    "All_DF.head()"
   ]
  },
  {
   "cell_type": "code",
   "execution_count": null,
   "id": "2c83db9e",
   "metadata": {},
   "outputs": [],
   "source": [
    "def sum2(x):\n",
    "    if all(x.isnull()):\n",
    "        return np.nan\n",
    "    else:\n",
    "        return np.sum(x)\n",
    "    \n",
    "All_DF_daily=All_DF.groupby(['station','date']).agg({'rain_mm':sum2,'temp_max':'max','temp_min':'min'}).reset_index()"
   ]
  },
  {
   "cell_type": "code",
   "execution_count": null,
   "id": "271ca623",
   "metadata": {},
   "outputs": [],
   "source": [
    "All_DF_daily.reset_index().columns"
   ]
  },
  {
   "cell_type": "code",
   "execution_count": null,
   "id": "f3a4faad",
   "metadata": {},
   "outputs": [],
   "source": [
    "All_DF.columns"
   ]
  },
  {
   "cell_type": "code",
   "execution_count": null,
   "id": "7262abd8",
   "metadata": {},
   "outputs": [],
   "source": [
    "All_DF_daily.to_csv('ima2021_project/Data/historic_weather_all_SP_daily.csv',index=False)"
   ]
  },
  {
   "cell_type": "code",
   "execution_count": null,
   "id": "144f63b3",
   "metadata": {},
   "outputs": [],
   "source": [
    "#Count how many are completely null.\n",
    "All_DF.groupby('date').sum().isnull().sum()"
   ]
  },
  {
   "cell_type": "code",
   "execution_count": null,
   "id": "091efb56",
   "metadata": {},
   "outputs": [],
   "source": [
    "All_DF[All_DF.rain_mm.isnull()].groupby(['station','date']).agg(lambda x: 1).groupby('station').sum()[['hour']].rename({'hour':'Days Missing Rain'},axis=1)"
   ]
  },
  {
   "cell_type": "code",
   "execution_count": null,
   "id": "cc38e842",
   "metadata": {},
   "outputs": [],
   "source": [
    "Rain=All_DF[['date','hour','station','rain_mm']]\n",
    "Rain=Rain.pivot(index=['date','hour'],columns='station',values='rain_mm')"
   ]
  },
  {
   "cell_type": "code",
   "execution_count": null,
   "id": "28bb0015",
   "metadata": {},
   "outputs": [],
   "source": [
    "Rain=Rain.groupby('date').agg(lambda x: all(x.isnull()))"
   ]
  },
  {
   "cell_type": "code",
   "execution_count": null,
   "id": "5636de37",
   "metadata": {},
   "outputs": [],
   "source": [
    "Rain['How Many']=Rain[['A705 BAURU','A711 SAO CARLOS','A737 IBITINGA','A741 BARRA BONITA']].sum(axis=1)"
   ]
  },
  {
   "cell_type": "code",
   "execution_count": null,
   "id": "a1e4838e",
   "metadata": {},
   "outputs": [],
   "source": [
    "Missing_Rain=Rain.groupby('How Many').count()[['A705 BAURU']].reset_index()\n",
    "Missing_Rain.columns=['How Many Stations','Days of Missing Rain Info']\n",
    "Missing_Rain"
   ]
  },
  {
   "cell_type": "code",
   "execution_count": null,
   "id": "d1f31978",
   "metadata": {},
   "outputs": [],
   "source": [
    "Rain=Rain.reset_index()\n",
    "Rain.plot(x='date',y='How Many', kind='scatter')"
   ]
  },
  {
   "cell_type": "code",
   "execution_count": null,
   "id": "ac55d973",
   "metadata": {},
   "outputs": [],
   "source": [
    "All_DF.dtypes"
   ]
  },
  {
   "cell_type": "code",
   "execution_count": null,
   "id": "52fc4554",
   "metadata": {},
   "outputs": [],
   "source": []
  }
 ],
 "metadata": {
  "kernelspec": {
   "display_name": "Python 3",
   "language": "python",
   "name": "python3"
  },
  "language_info": {
   "codemirror_mode": {
    "name": "ipython",
    "version": 3
   },
   "file_extension": ".py",
   "mimetype": "text/x-python",
   "name": "python",
   "nbconvert_exporter": "python",
   "pygments_lexer": "ipython3",
   "version": "3.8.8"
  }
 },
 "nbformat": 4,
 "nbformat_minor": 5
}
