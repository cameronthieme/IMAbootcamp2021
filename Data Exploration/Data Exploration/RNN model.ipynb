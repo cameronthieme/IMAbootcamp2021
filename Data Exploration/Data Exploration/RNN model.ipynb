{
 "cells": [
  {
   "cell_type": "code",
   "execution_count": null,
   "id": "e1288267",
   "metadata": {},
   "outputs": [],
   "source": [
    "import pandas as pd\n",
    "import numpy as np\n",
    "import matplotlib.pyplot as plt\n",
    "import seaborn as sns\n",
    "import datetime as dt\n",
    "import keras as keras"
   ]
  },
  {
   "cell_type": "code",
   "execution_count": null,
   "id": "cb10994a",
   "metadata": {},
   "outputs": [],
   "source": [
    "DF=pd.read_csv(\"../../Data/1999_2021/aggragate_daily_data_2000to2020.csv\",index_col=0)"
   ]
  },
  {
   "cell_type": "code",
   "execution_count": null,
   "id": "1469c8d4",
   "metadata": {},
   "outputs": [],
   "source": [
    "DF.head(15)"
   ]
  },
  {
   "cell_type": "markdown",
   "id": "972b0734",
   "metadata": {},
   "source": [
    "We will look at a simple RNN model to try to predict energy_generated using the other variables. \n",
    "We will ignore the flows and volume_used, since they seem to be completely related to the energy_generated, but they might not be easy to measure or predict accurately. "
   ]
  },
  {
   "cell_type": "code",
   "execution_count": null,
   "id": "207eb376",
   "metadata": {},
   "outputs": [],
   "source": [
    "DF.drop(['effluent_flow','influent_flow','poured_flow','turbine_flow','volume_used'],axis=1,inplace=True)\n",
    "DF.describe()"
   ]
  },
  {
   "cell_type": "code",
   "execution_count": null,
   "id": "034ea7fe",
   "metadata": {},
   "outputs": [],
   "source": [
    "DF.dtypes"
   ]
  },
  {
   "cell_type": "code",
   "execution_count": null,
   "id": "bc1d9250",
   "metadata": {},
   "outputs": [],
   "source": [
    "DF.date=pd.to_datetime(DF.date)\n",
    "DF.head(15)"
   ]
  },
  {
   "cell_type": "markdown",
   "id": "af891e83",
   "metadata": {},
   "source": [
    "# Time Series"
   ]
  },
  {
   "cell_type": "code",
   "execution_count": null,
   "id": "5dc5f395",
   "metadata": {},
   "outputs": [],
   "source": [
    "date_train='2016-01-01'\n",
    "date_validate='2018-01-01'\n",
    "\n",
    "X_train=np.array(DF.drop(['date'],axis=1)[DF.date<date_train])\n",
    "y_train=np.array(DF['energy_generated'][DF.date<date_train])\n",
    "\n",
    "X_valid=np.array(DF.drop(['date'],axis=1)[(date_train<=DF.date) & (DF.date<date_validate)])\n",
    "y_valid=np.array(DF['energy_generated'][(date_train<=DF.date) & (DF.date<date_validate)])\n",
    "\n",
    "X_test=np.array(DF.drop(['date'],axis=1)[DF.date>=date_validate])\n",
    "y_test=np.array(DF['energy_generated'][DF.date>=date_validate])"
   ]
  },
  {
   "cell_type": "code",
   "execution_count": null,
   "id": "b4b33c60",
   "metadata": {},
   "outputs": [],
   "source": [
    "#Naive forecast error\n",
    "y_pred=np.array([y_train[-1]]+list(y_valid[:-1]))\n",
    "np.mean((y_pred-y_valid)**2)"
   ]
  },
  {
   "cell_type": "markdown",
   "id": "7a70f2fb",
   "metadata": {},
   "source": [
    "# Copying code"
   ]
  },
  {
   "cell_type": "code",
   "execution_count": 1,
   "id": "2a3f506d",
   "metadata": {},
   "outputs": [
    {
     "name": "stdout",
     "output_type": "stream",
     "text": [
      "No GPU was detected. LSTMs and CNNs can be very slow without a GPU.\n"
     ]
    }
   ],
   "source": [
    "# Python ≥3.5 is required\n",
    "import sys\n",
    "assert sys.version_info >= (3, 5)\n",
    "\n",
    "# Is this notebook running on Colab or Kaggle?\n",
    "IS_COLAB = \"google.colab\" in sys.modules\n",
    "IS_KAGGLE = \"kaggle_secrets\" in sys.modules\n",
    "\n",
    "# Scikit-Learn ≥0.20 is required\n",
    "import sklearn\n",
    "assert sklearn.__version__ >= \"0.20\"\n",
    "\n",
    "# TensorFlow ≥2.0 is required\n",
    "import tensorflow as tf\n",
    "from tensorflow import keras\n",
    "assert tf.__version__ >= \"2.0\"\n",
    "\n",
    "if not tf.config.list_physical_devices('GPU'):\n",
    "    print(\"No GPU was detected. LSTMs and CNNs can be very slow without a GPU.\")\n",
    "    if IS_COLAB:\n",
    "        print(\"Go to Runtime > Change runtime and select a GPU hardware accelerator.\")\n",
    "    if IS_KAGGLE:\n",
    "        print(\"Go to Settings > Accelerator and select GPU.\")\n",
    "\n",
    "# Common imports\n",
    "import numpy as np\n",
    "import os\n",
    "from pathlib import Path\n",
    "\n",
    "# to make this notebook's output stable across runs\n",
    "np.random.seed(42)\n",
    "tf.random.set_seed(42)\n",
    "\n",
    "# To plot pretty figures\n",
    "%matplotlib inline\n",
    "import matplotlib as mpl\n",
    "import matplotlib.pyplot as plt\n",
    "mpl.rc('axes', labelsize=14)\n",
    "mpl.rc('xtick', labelsize=12)\n",
    "mpl.rc('ytick', labelsize=12)\n",
    "\n",
    "# Where to save the figures\n",
    "PROJECT_ROOT_DIR = \".\"\n",
    "CHAPTER_ID = \"rnn\"\n",
    "IMAGES_PATH = os.path.join(PROJECT_ROOT_DIR, \"images\", CHAPTER_ID)\n",
    "os.makedirs(IMAGES_PATH, exist_ok=True)\n",
    "\n",
    "def save_fig(fig_id, tight_layout=True, fig_extension=\"png\", resolution=300):\n",
    "    path = os.path.join(IMAGES_PATH, fig_id + \".\" + fig_extension)\n",
    "    print(\"Saving figure\", fig_id)\n",
    "    if tight_layout:\n",
    "        plt.tight_layout()\n",
    "    plt.savefig(path, format=fig_extension, dpi=resolution)"
   ]
  },
  {
   "cell_type": "code",
   "execution_count": 2,
   "id": "edfbccfe",
   "metadata": {},
   "outputs": [],
   "source": [
    "def generate_time_series(batch_size, n_steps):\n",
    "    freq1, freq2, offsets1, offsets2 = np.random.rand(4, batch_size, 1)\n",
    "    time = np.linspace(0, 1, n_steps)\n",
    "    series = 0.5 * np.sin((time - offsets1) * (freq1 * 10 + 10))  #   wave 1\n",
    "    series += 0.2 * np.sin((time - offsets2) * (freq2 * 20 + 20)) # + wave 2\n",
    "    series += 0.1 * (np.random.rand(batch_size, n_steps) - 0.5)   # + noise\n",
    "    return series[..., np.newaxis].astype(np.float32)"
   ]
  },
  {
   "cell_type": "code",
   "execution_count": 3,
   "id": "fa315def",
   "metadata": {},
   "outputs": [],
   "source": [
    "np.random.seed(42)\n",
    "\n",
    "n_steps = 50\n",
    "series = generate_time_series(10000, n_steps + 1)\n",
    "X_train, y_train = series[:7000, :n_steps], series[:7000, -1]\n",
    "X_valid, y_valid = series[7000:9000, :n_steps], series[7000:9000, -1]\n",
    "X_test, y_test = series[9000:, :n_steps], series[9000:, -1]"
   ]
  },
  {
   "cell_type": "code",
   "execution_count": 4,
   "id": "c797cfb8",
   "metadata": {},
   "outputs": [
    {
     "data": {
      "text/plain": [
       "((7000, 50, 1), (7000, 1))"
      ]
     },
     "execution_count": 4,
     "metadata": {},
     "output_type": "execute_result"
    }
   ],
   "source": [
    "X_train.shape, y_train.shape"
   ]
  },
  {
   "cell_type": "code",
   "execution_count": 5,
   "id": "deeafe15",
   "metadata": {},
   "outputs": [
    {
     "name": "stdout",
     "output_type": "stream",
     "text": [
      "Saving figure time_series_plot\n"
     ]
    },
    {
     "data": {
      "image/png": "[encoded data removed]",
      "text/plain": [
       "<Figure size 864x288 with 3 Axes>"
      ]
     },
     "metadata": {
      "needs_background": "light"
     },
     "output_type": "display_data"
    }
   ],
   "source": [
    "def plot_series(series, y=None, y_pred=None, x_label=\"$t$\", y_label=\"$x(t)$\"):\n",
    "    plt.plot(series, \".-\")\n",
    "    if y is not None:\n",
    "        plt.plot(n_steps, y, \"bx\", markersize=10)\n",
    "    if y_pred is not None:\n",
    "        plt.plot(n_steps, y_pred, \"ro\")\n",
    "    plt.grid(True)\n",
    "    if x_label:\n",
    "        plt.xlabel(x_label, fontsize=16)\n",
    "    if y_label:\n",
    "        plt.ylabel(y_label, fontsize=16, rotation=0)\n",
    "    plt.hlines(0, 0, 100, linewidth=1)\n",
    "    plt.axis([0, n_steps + 1, -1, 1])\n",
    "\n",
    "fig, axes = plt.subplots(nrows=1, ncols=3, sharey=True, figsize=(12, 4))\n",
    "for col in range(3):\n",
    "    plt.sca(axes[col])\n",
    "    plot_series(X_valid[col, :, 0], y_valid[col, 0],\n",
    "                y_label=(\"$x(t)$\" if col==0 else None))\n",
    "save_fig(\"time_series_plot\")\n",
    "plt.show()"
   ]
  },
  {
   "cell_type": "code",
   "execution_count": 6,
   "id": "474c74f9",
   "metadata": {},
   "outputs": [
    {
     "data": {
      "text/plain": [
       "0.020211367"
      ]
     },
     "execution_count": 6,
     "metadata": {},
     "output_type": "execute_result"
    }
   ],
   "source": [
    "y_pred = X_valid[:, -1]\n",
    "np.mean(keras.losses.mean_squared_error(y_valid, y_pred))"
   ]
  },
  {
   "cell_type": "code",
   "execution_count": 7,
   "id": "a9a44227",
   "metadata": {},
   "outputs": [
    {
     "data": {
      "image/png": "[encoded data removed]",
      "text/plain": [
       "<Figure size 432x288 with 1 Axes>"
      ]
     },
     "metadata": {
      "needs_background": "light"
     },
     "output_type": "display_data"
    }
   ],
   "source": [
    "plot_series(X_valid[0, :, 0], y_valid[0, 0], y_pred[0, 0])\n",
    "plt.show()"
   ]
  },
  {
   "cell_type": "code",
   "execution_count": 10,
   "id": "12083f65",
   "metadata": {},
   "outputs": [
    {
     "name": "stdout",
     "output_type": "stream",
     "text": [
      "Epoch 1/20\n",
      "219/219 [==============================] - 0s 1ms/step - loss: 0.1001 - val_loss: 0.0545\n",
      "Epoch 2/20\n",
      "219/219 [==============================] - 0s 759us/step - loss: 0.0379 - val_loss: 0.0266\n",
      "Epoch 3/20\n",
      "219/219 [==============================] - 0s 740us/step - loss: 0.0202 - val_loss: 0.0157\n",
      "Epoch 4/20\n",
      "219/219 [==============================] - 0s 768us/step - loss: 0.0131 - val_loss: 0.0116\n",
      "Epoch 5/20\n",
      "219/219 [==============================] - 0s 763us/step - loss: 0.0103 - val_loss: 0.0098\n",
      "Epoch 6/20\n",
      "219/219 [==============================] - 0s 734us/step - loss: 0.0089 - val_loss: 0.0087\n",
      "Epoch 7/20\n",
      "219/219 [==============================] - ETA: 0s - loss: 0.008 - 0s 760us/step - loss: 0.0080 - val_loss: 0.0079\n",
      "Epoch 8/20\n",
      "219/219 [==============================] - 0s 768us/step - loss: 0.0073 - val_loss: 0.0071\n",
      "Epoch 9/20\n",
      "219/219 [==============================] - 0s 815us/step - loss: 0.0066 - val_loss: 0.0066\n",
      "Epoch 10/20\n",
      "219/219 [==============================] - 0s 779us/step - loss: 0.0061 - val_loss: 0.0062\n",
      "Epoch 11/20\n",
      "219/219 [==============================] - 0s 783us/step - loss: 0.0057 - val_loss: 0.0057\n",
      "Epoch 12/20\n",
      "219/219 [==============================] - 0s 720us/step - loss: 0.0054 - val_loss: 0.0055\n",
      "Epoch 13/20\n",
      "219/219 [==============================] - 0s 729us/step - loss: 0.0052 - val_loss: 0.0052\n",
      "Epoch 14/20\n",
      "219/219 [==============================] - 0s 715us/step - loss: 0.0049 - val_loss: 0.0049\n",
      "Epoch 15/20\n",
      "219/219 [==============================] - 0s 761us/step - loss: 0.0048 - val_loss: 0.0048\n",
      "Epoch 16/20\n",
      "219/219 [==============================] - 0s 724us/step - loss: 0.0046 - val_loss: 0.0048\n",
      "Epoch 17/20\n",
      "219/219 [==============================] - 0s 733us/step - loss: 0.0045 - val_loss: 0.0045\n",
      "Epoch 18/20\n",
      "219/219 [==============================] - 0s 718us/step - loss: 0.0044 - val_loss: 0.0044\n",
      "Epoch 19/20\n",
      "219/219 [==============================] - 0s 769us/step - loss: 0.0043 - val_loss: 0.0043\n",
      "Epoch 20/20\n",
      "219/219 [==============================] - 0s 723us/step - loss: 0.0042 - val_loss: 0.0042\n"
     ]
    }
   ],
   "source": [
    "np.random.seed(42)\n",
    "tf.random.set_seed(42)\n",
    "\n",
    "model = keras.models.Sequential([\n",
    "    keras.layers.Flatten(input_shape=[50, 1]),\n",
    "    keras.layers.Dense(1)\n",
    "])\n",
    "\n",
    "model.compile(loss=\"mse\", optimizer=\"adam\")\n",
    "history = model.fit(X_train, y_train, epochs=20,\n",
    "                    validation_data=(X_valid, y_valid))"
   ]
  },
  {
   "cell_type": "code",
   "execution_count": null,
   "id": "8ff23580",
   "metadata": {},
   "outputs": [],
   "source": []
  }
 ],
 "metadata": {
  "kernelspec": {
   "display_name": "Python 3",
   "language": "python",
   "name": "python3"
  },
  "language_info": {
   "codemirror_mode": {
    "name": "ipython",
    "version": 3
   },
   "file_extension": ".py",
   "mimetype": "text/x-python",
   "name": "python",
   "nbconvert_exporter": "python",
   "pygments_lexer": "ipython3",
   "version": "3.8.8"
  }
 },
 "nbformat": 4,
 "nbformat_minor": 5
}
